{
 "cells": [
  {
   "cell_type": "code",
   "execution_count": 19,
   "metadata": {},
   "outputs": [],
   "source": [
    "import pandas as pd\n",
    "import numpy as np\n",
    "import matplotlib.pyplot as plt\n",
    "\n",
    "from sklearn.preprocessing import OneHotEncoder\n",
    "from sklearn.model_selection import train_test_split\n",
    "from sklearn import preprocessing\n",
    "from sklearn.impute import KNNImputer\n",
    "from sklearn.linear_model import Ridge\n",
    "from sklearn.linear_model import LinearRegression\n",
    "from sklearn.metrics import mean_squared_error as mserr\n",
    "from sklearn.decomposition import PCA"
   ]
  },
  {
   "cell_type": "code",
   "execution_count": 20,
   "metadata": {},
   "outputs": [],
   "source": [
    "path = \"C:\\\\Users\\\\M. LAKSHMI MADHURI\\\\Desktop\\\\Repositories\\\\Data_Science_2019501105\\\\Intro to ML\\\\CodeCamp1\\\\\" \n",
    "train = path + \"train.csv\"\n",
    "test = path + \"test.csv\""
   ]
  },
  {
   "cell_type": "code",
   "execution_count": 21,
   "metadata": {},
   "outputs": [
    {
     "name": "stdout",
     "output_type": "stream",
     "text": [
      "(1460, 80)\n"
     ]
    }
   ],
   "source": [
    "trainx_df = pd.read_csv(train, index_col = 'Id')\n",
    "print(trainx_df.shape)"
   ]
  },
  {
   "cell_type": "code",
   "execution_count": 22,
   "metadata": {},
   "outputs": [
    {
     "name": "stdout",
     "output_type": "stream",
     "text": [
      "(1460,)\n"
     ]
    }
   ],
   "source": [
    "trainy_df = trainx_df['SalePrice']\n",
    "print(trainy_df.shape)"
   ]
  },
  {
   "cell_type": "code",
   "execution_count": 23,
   "metadata": {},
   "outputs": [
    {
     "name": "stdout",
     "output_type": "stream",
     "text": [
      "MSSubClass         0\n",
      "MSZoning           0\n",
      "LotFrontage      259\n",
      "LotArea            0\n",
      "Street             0\n",
      "                ... \n",
      "MiscVal            0\n",
      "MoSold             0\n",
      "YrSold             0\n",
      "SaleType           0\n",
      "SaleCondition      0\n",
      "Length: 79, dtype: int64\n"
     ]
    }
   ],
   "source": [
    "trainx_df.drop('SalePrice', axis = 1, inplace = True)\n",
    "testx_df = pd.read_csv(test, index_col = 'Id')\n",
    "print(trainx_df.isnull().sum())"
   ]
  },
  {
   "cell_type": "code",
   "execution_count": 24,
   "metadata": {},
   "outputs": [
    {
     "name": "stdout",
     "output_type": "stream",
     "text": [
      "[['LotFrontage', 0.1773972602739726], ['Alley', 0.9376712328767123], ['MasVnrType', 0.005479452054794521], ['MasVnrArea', 0.005479452054794521], ['BsmtQual', 0.025342465753424658], ['BsmtCond', 0.025342465753424658], ['BsmtExposure', 0.026027397260273973], ['BsmtFinType1', 0.025342465753424658], ['BsmtFinType2', 0.026027397260273973], ['Electrical', 0.0006849315068493151], ['FireplaceQu', 0.4726027397260274], ['GarageType', 0.05547945205479452], ['GarageYrBlt', 0.05547945205479452], ['GarageFinish', 0.05547945205479452], ['GarageQual', 0.05547945205479452], ['GarageCond', 0.05547945205479452], ['PoolQC', 0.9952054794520548], ['Fence', 0.8075342465753425], ['MiscFeature', 0.963013698630137]]\n"
     ]
    }
   ],
   "source": [
    "sample_size = len(trainx_df)\n",
    "columns_with_null_values = []\n",
    "columns_with_null_values = [[col, float(trainx_df[col].isnull().sum())/float(sample_size)] for col in trainx_df.columns if trainx_df[col].isnull().sum()]\n",
    "print(columns_with_null_values)"
   ]
  },
  {
   "cell_type": "code",
   "execution_count": 25,
   "metadata": {},
   "outputs": [
    {
     "name": "stdout",
     "output_type": "stream",
     "text": [
      "['Alley', 'FireplaceQu', 'PoolQC', 'Fence', 'MiscFeature']\n"
     ]
    }
   ],
   "source": [
    "columns_to_drop = [x for (x,y) in columns_with_null_values if y>.3]\n",
    "print(columns_to_drop)"
   ]
  },
  {
   "cell_type": "code",
   "execution_count": 26,
   "metadata": {},
   "outputs": [],
   "source": [
    "trainx_df.drop(columns_to_drop, axis = 1, inplace = True)\n",
    "testx_df.drop(columns_to_drop, axis = 1, inplace = True)\n",
    "# print(len(train_df.columns))\n",
    "# print(len(train_df))\n",
    "# remove samples\n",
    "# train_df.dropna(axis = 0, inplace = True)\n",
    "# print(len(train_df))"
   ]
  },
  {
   "cell_type": "code",
   "execution_count": 27,
   "metadata": {},
   "outputs": [
    {
     "name": "stdout",
     "output_type": "stream",
     "text": [
      "['MSZoning', 'Street', 'LotShape', 'LandContour', 'Utilities', 'LotConfig', 'LandSlope', 'Neighborhood', 'Condition1', 'Condition2', 'BldgType', 'HouseStyle', 'RoofStyle', 'RoofMatl', 'Exterior1st', 'Exterior2nd', 'MasVnrType', 'ExterQual', 'ExterCond', 'Foundation', 'BsmtQual', 'BsmtCond', 'BsmtExposure', 'BsmtFinType1', 'BsmtFinType2', 'Heating', 'HeatingQC', 'CentralAir', 'Electrical', 'KitchenQual', 'Functional', 'GarageType', 'GarageFinish', 'GarageQual', 'GarageCond', 'PavedDrive', 'SaleType', 'SaleCondition']\n"
     ]
    }
   ],
   "source": [
    "categorical_columns = [col for col in trainx_df.columns if\n",
    "                      trainx_df[col].dtype == object]\n",
    "# categorical_columns.append('MSSubClass')\n",
    "print(categorical_columns)\n",
    "ordinal_columns = [col for col in trainx_df.columns \n",
    "                  if col not in categorical_columns]\n",
    "# null_value_categorical_variables = [col for col in categorical_columns\n",
    "#                                    if trainx_df[col].isnull().sum()]\n",
    "# print(null_value_categorical_variables)"
   ]
  },
  {
   "cell_type": "code",
   "execution_count": 28,
   "metadata": {},
   "outputs": [
    {
     "name": "stdout",
     "output_type": "stream",
     "text": [
      "['', 'dummy', '', '', 'dummy', 'dummy', 'dummy', 'dummy', 'dummy', 'dummy', 'dummy', 'dummy', 'dummy', 'dummy', 'dummy', '', '', '', '', 'dummy', 'dummy', 'dummy', 'dummy', 'dummy', '', 'dummy', 'dummy', 'dummy', 'dummy', 'dummy', 'dummy', 'dummy', '', 'dummy', '', '', '', 'dummy', 'dummy', 'dummy', 'dummy', '', '', '', '', '', '', '', '', '', '', 'dummy', '', 'dummy', '', 'dummy', '', 'dummy', '', '', 'dummy', 'dummy', 'dummy', '', '', '', '', '', '', '', '', '', 'dummy', 'dummy']\n"
     ]
    }
   ],
   "source": [
    "dummy_row = list()\n",
    "for col in trainx_df.columns:\n",
    "    if col in categorical_columns:\n",
    "        dummy_row.append(\"dummy\")\n",
    "    else:\n",
    "        dummy_row.append(\"\")\n",
    "print(dummy_row)"
   ]
  },
  {
   "cell_type": "code",
   "execution_count": 29,
   "metadata": {},
   "outputs": [],
   "source": [
    "new_row = pd.DataFrame([dummy_row], columns = trainx_df.columns)\n",
    "trainx_df = pd.concat([trainx_df, new_row], axis = 0, ignore_index = True)\n",
    "testx_df = pd.concat([testx_df], axis = 0, ignore_index = True)\n",
    "# trainx_df.to_csv[\"dummy.csv\"]\n",
    "for col in categorical_columns:\n",
    "    trainx_df[col].fillna(value = \"dummy\", inplace = True)\n",
    "    testx_df[col].fillna(value = \"dummy\", inplace = True)\n",
    "    "
   ]
  },
  {
   "cell_type": "code",
   "execution_count": 30,
   "metadata": {},
   "outputs": [
    {
     "name": "stdout",
     "output_type": "stream",
     "text": [
      "['MSZoning_FV' 'MSZoning_RH' 'MSZoning_RL' 'MSZoning_RM' 'MSZoning_dummy'\n",
      " 'Street_Pave' 'Street_dummy' 'LotShape_IR2' 'LotShape_IR3' 'LotShape_Reg'\n",
      " 'LotShape_dummy' 'LandContour_HLS' 'LandContour_Low' 'LandContour_Lvl'\n",
      " 'LandContour_dummy' 'Utilities_NoSeWa' 'Utilities_dummy'\n",
      " 'LotConfig_CulDSac' 'LotConfig_FR2' 'LotConfig_FR3' 'LotConfig_Inside'\n",
      " 'LotConfig_dummy' 'LandSlope_Mod' 'LandSlope_Sev' 'LandSlope_dummy'\n",
      " 'Neighborhood_Blueste' 'Neighborhood_BrDale' 'Neighborhood_BrkSide'\n",
      " 'Neighborhood_ClearCr' 'Neighborhood_CollgCr' 'Neighborhood_Crawfor'\n",
      " 'Neighborhood_Edwards' 'Neighborhood_Gilbert' 'Neighborhood_IDOTRR'\n",
      " 'Neighborhood_MeadowV' 'Neighborhood_Mitchel' 'Neighborhood_NAmes'\n",
      " 'Neighborhood_NPkVill' 'Neighborhood_NWAmes' 'Neighborhood_NoRidge'\n",
      " 'Neighborhood_NridgHt' 'Neighborhood_OldTown' 'Neighborhood_SWISU'\n",
      " 'Neighborhood_Sawyer' 'Neighborhood_SawyerW' 'Neighborhood_Somerst'\n",
      " 'Neighborhood_StoneBr' 'Neighborhood_Timber' 'Neighborhood_Veenker'\n",
      " 'Neighborhood_dummy' 'Condition1_Feedr' 'Condition1_Norm'\n",
      " 'Condition1_PosA' 'Condition1_PosN' 'Condition1_RRAe' 'Condition1_RRAn'\n",
      " 'Condition1_RRNe' 'Condition1_RRNn' 'Condition1_dummy' 'Condition2_Feedr'\n",
      " 'Condition2_Norm' 'Condition2_PosA' 'Condition2_PosN' 'Condition2_RRAe'\n",
      " 'Condition2_RRAn' 'Condition2_RRNn' 'Condition2_dummy' 'BldgType_2fmCon'\n",
      " 'BldgType_Duplex' 'BldgType_Twnhs' 'BldgType_TwnhsE' 'BldgType_dummy'\n",
      " 'HouseStyle_1.5Unf' 'HouseStyle_1Story' 'HouseStyle_2.5Fin'\n",
      " 'HouseStyle_2.5Unf' 'HouseStyle_2Story' 'HouseStyle_SFoyer'\n",
      " 'HouseStyle_SLvl' 'HouseStyle_dummy' 'RoofStyle_Gable'\n",
      " 'RoofStyle_Gambrel' 'RoofStyle_Hip' 'RoofStyle_Mansard' 'RoofStyle_Shed'\n",
      " 'RoofStyle_dummy' 'RoofMatl_CompShg' 'RoofMatl_Membran' 'RoofMatl_Metal'\n",
      " 'RoofMatl_Roll' 'RoofMatl_Tar&Grv' 'RoofMatl_WdShake' 'RoofMatl_WdShngl'\n",
      " 'RoofMatl_dummy' 'Exterior1st_AsphShn' 'Exterior1st_BrkComm'\n",
      " 'Exterior1st_BrkFace' 'Exterior1st_CBlock' 'Exterior1st_CemntBd'\n",
      " 'Exterior1st_HdBoard' 'Exterior1st_ImStucc' 'Exterior1st_MetalSd'\n",
      " 'Exterior1st_Plywood' 'Exterior1st_Stone' 'Exterior1st_Stucco'\n",
      " 'Exterior1st_VinylSd' 'Exterior1st_Wd Sdng' 'Exterior1st_WdShing'\n",
      " 'Exterior1st_dummy' 'Exterior2nd_AsphShn' 'Exterior2nd_Brk Cmn'\n",
      " 'Exterior2nd_BrkFace' 'Exterior2nd_CBlock' 'Exterior2nd_CmentBd'\n",
      " 'Exterior2nd_HdBoard' 'Exterior2nd_ImStucc' 'Exterior2nd_MetalSd'\n",
      " 'Exterior2nd_Other' 'Exterior2nd_Plywood' 'Exterior2nd_Stone'\n",
      " 'Exterior2nd_Stucco' 'Exterior2nd_VinylSd' 'Exterior2nd_Wd Sdng'\n",
      " 'Exterior2nd_Wd Shng' 'Exterior2nd_dummy' 'MasVnrType_BrkFace'\n",
      " 'MasVnrType_None' 'MasVnrType_Stone' 'MasVnrType_dummy' 'ExterQual_Fa'\n",
      " 'ExterQual_Gd' 'ExterQual_TA' 'ExterQual_dummy' 'ExterCond_Fa'\n",
      " 'ExterCond_Gd' 'ExterCond_Po' 'ExterCond_TA' 'ExterCond_dummy'\n",
      " 'Foundation_CBlock' 'Foundation_PConc' 'Foundation_Slab'\n",
      " 'Foundation_Stone' 'Foundation_Wood' 'Foundation_dummy' 'BsmtQual_Fa'\n",
      " 'BsmtQual_Gd' 'BsmtQual_TA' 'BsmtQual_dummy' 'BsmtCond_Gd' 'BsmtCond_Po'\n",
      " 'BsmtCond_TA' 'BsmtCond_dummy' 'BsmtExposure_Gd' 'BsmtExposure_Mn'\n",
      " 'BsmtExposure_No' 'BsmtExposure_dummy' 'BsmtFinType1_BLQ'\n",
      " 'BsmtFinType1_GLQ' 'BsmtFinType1_LwQ' 'BsmtFinType1_Rec'\n",
      " 'BsmtFinType1_Unf' 'BsmtFinType1_dummy' 'BsmtFinType2_BLQ'\n",
      " 'BsmtFinType2_GLQ' 'BsmtFinType2_LwQ' 'BsmtFinType2_Rec'\n",
      " 'BsmtFinType2_Unf' 'BsmtFinType2_dummy' 'Heating_GasA' 'Heating_GasW'\n",
      " 'Heating_Grav' 'Heating_OthW' 'Heating_Wall' 'Heating_dummy'\n",
      " 'HeatingQC_Fa' 'HeatingQC_Gd' 'HeatingQC_Po' 'HeatingQC_TA'\n",
      " 'HeatingQC_dummy' 'CentralAir_Y' 'CentralAir_dummy' 'Electrical_FuseF'\n",
      " 'Electrical_FuseP' 'Electrical_Mix' 'Electrical_SBrkr' 'Electrical_dummy'\n",
      " 'KitchenQual_Fa' 'KitchenQual_Gd' 'KitchenQual_TA' 'KitchenQual_dummy'\n",
      " 'Functional_Maj2' 'Functional_Min1' 'Functional_Min2' 'Functional_Mod'\n",
      " 'Functional_Sev' 'Functional_Typ' 'Functional_dummy' 'GarageType_Attchd'\n",
      " 'GarageType_Basment' 'GarageType_BuiltIn' 'GarageType_CarPort'\n",
      " 'GarageType_Detchd' 'GarageType_dummy' 'GarageFinish_RFn'\n",
      " 'GarageFinish_Unf' 'GarageFinish_dummy' 'GarageQual_Fa' 'GarageQual_Gd'\n",
      " 'GarageQual_Po' 'GarageQual_TA' 'GarageQual_dummy' 'GarageCond_Fa'\n",
      " 'GarageCond_Gd' 'GarageCond_Po' 'GarageCond_TA' 'GarageCond_dummy'\n",
      " 'PavedDrive_P' 'PavedDrive_Y' 'PavedDrive_dummy' 'SaleType_CWD'\n",
      " 'SaleType_Con' 'SaleType_ConLD' 'SaleType_ConLI' 'SaleType_ConLw'\n",
      " 'SaleType_New' 'SaleType_Oth' 'SaleType_WD' 'SaleType_dummy'\n",
      " 'SaleCondition_AdjLand' 'SaleCondition_Alloca' 'SaleCondition_Family'\n",
      " 'SaleCondition_Normal' 'SaleCondition_Partial' 'SaleCondition_dummy']\n"
     ]
    }
   ],
   "source": [
    "enc = OneHotEncoder(drop='first',sparse=False)\n",
    "enc.fit(trainx_df[categorical_columns])\n",
    "print(enc.get_feature_names(categorical_columns))"
   ]
  },
  {
   "cell_type": "code",
   "execution_count": 31,
   "metadata": {},
   "outputs": [],
   "source": [
    "trainx_enc = pd.DataFrame(enc.transform(trainx_df[categorical_columns]))\n",
    "testx_enc = pd.DataFrame(enc.transform(testx_df[categorical_columns]))\n",
    "trainx_enc.columns = enc.get_feature_names(categorical_columns)\n",
    "testx_enc.columns = enc.get_feature_names(categorical_columns)\n",
    "trainx_df = pd.concat([trainx_df[ordinal_columns],trainx_enc],axis = 1,ignore_index = True)\n",
    "testx_df = pd.concat([testx_df[ordinal_columns],testx_enc],axis = 1,ignore_index = True)\n",
    "trainx_df.drop(trainx_df.tail(1).index,inplace = True)"
   ]
  },
  {
   "cell_type": "code",
   "execution_count": 32,
   "metadata": {},
   "outputs": [],
   "source": [
    "imputer = KNNImputer(n_neighbors=5)\n",
    "imputer.fit(trainx_df)\n",
    "trainx_df_filled = imputer.transform(trainx_df)\n",
    "trainx_df_filled = pd.DataFrame(trainx_df_filled,columns=trainx_df.columns)\n",
    "testx_df_filled=imputer.transform(testx_df)\n",
    "testx_df_filled = pd.DataFrame(testx_df_filled,columns=testx_df.columns)\n",
    "testx_df_filled.reset_index(drop=True,inplace=True)\n",
    "# print(trainx_df_filled.isnull().sum())\n",
    "# return trainx_df_filled, testx_df_filled"
   ]
  },
  {
   "cell_type": "code",
   "execution_count": 33,
   "metadata": {},
   "outputs": [],
   "source": [
    "scaler = preprocessing.StandardScaler().fit(trainx_df_filled)\n",
    "trainx_df_filled = scaler.transform(trainx_df_filled)\n",
    "testx_df_filled = scaler.transform(testx_df_filled)\n",
    "X_train, X_test, y_train, y_test = train_test_split(trainx_df_filled, trainy_df.values.ravel(), test_size = 0.3, random_state = 42)"
   ]
  },
  {
   "cell_type": "code",
   "execution_count": 34,
   "metadata": {},
   "outputs": [
    {
     "name": "stdout",
     "output_type": "stream",
     "text": [
      "0.9342598284891175\n",
      "-1.4113402463179508e+21\n",
      "[10.05, 16.82777777777778, 23.605555555555554, 30.383333333333333, 37.16111111111111, 43.93888888888888, 50.71666666666667, 57.49444444444444, 64.27222222222223, 71.05] \n",
      " [0.9264174681, 0.9224075179, 0.9194113976, 0.9170585156, 0.9151276526, 0.9134873375, 0.9120560542, 0.9107808801, 0.9096259903, 0.9085662348] \n",
      " [0.8494501508, 0.8649347909, 0.8715948605, 0.8749369745, 0.8767717229, 0.8778315875, 0.8784565858, 0.8788209324, 0.879020794, 0.8791124389]\n"
     ]
    }
   ],
   "source": [
    "reg = LinearRegression().fit(X_train, y_train)\n",
    "print(reg.score(X_train, y_train))\n",
    "print(reg.score(X_test, y_test))\n",
    "score_train=[]\n",
    "score_test=[]\n",
    "mse_train=[]\n",
    "mse_test=[]\n",
    "alpha=[]\n",
    "for sigma in np.linspace(10.05, 71.05, 10):\n",
    "    alpha.append(sigma)\n",
    "    reg = Ridge(alpha = sigma, tol = 0.0001)\n",
    "    reg = reg.fit(X_train, y_train)\n",
    "    pred = pd.DataFrame(reg.predict(testx_df_filled))\n",
    "    score_train.append(round(reg.score(X_train, y_train),10))\n",
    "    score_test.append(round(reg.score(X_test, y_test),10))\n",
    "    mse_train.append(round(mserr(y_train,reg.predict(X_train)),4))\n",
    "    mse_test.append(round(mserr(y_test,reg.predict(X_test)),4))\n",
    "    testpred = pd.DataFrame(reg.predict(testx_df_filled))\n",
    "    testpred.to_csv(\"test_pred.csv\")\n",
    "print(alpha, '\\n', score_train, '\\n', score_test)"
   ]
  },
  {
   "cell_type": "code",
   "execution_count": 35,
   "metadata": {},
   "outputs": [
    {
     "name": "stdout",
     "output_type": "stream",
     "text": [
      "[10.05, 16.82777777777778, 23.605555555555554, 30.383333333333333, 37.16111111111111, 43.93888888888888, 50.71666666666667, 57.49444444444444, 64.27222222222223, 71.05] \n",
      " [442862021.1631, 466996209.3237, 485028585.4461, 499189583.1753, 510810627.7889, 520682988.1152, 529297274.8715, 536972006.3345, 543922797.6146, 550301015.9913] \n",
      " [1050550963.6546, 942497693.2463, 896023102.5244, 872701517.8444, 859898471.5653, 852502636.9392, 848141340.3586, 845598895.7565, 844204242.5746, 843564736.0481]\n"
     ]
    }
   ],
   "source": [
    "print(alpha, '\\n', mse_train, '\\n', mse_test)"
   ]
  },
  {
   "cell_type": "code",
   "execution_count": 36,
   "metadata": {},
   "outputs": [
    {
     "data": {
      "image/png": "[encoded data removed]",
      "text/plain": [
       "<Figure size 432x288 with 1 Axes>"
      ]
     },
     "metadata": {
      "needs_background": "light"
     },
     "output_type": "display_data"
    },
    {
     "data": {
      "image/png": "[encoded data removed]",
      "text/plain": [
       "<Figure size 432x288 with 1 Axes>"
      ]
     },
     "metadata": {
      "needs_background": "light"
     },
     "output_type": "display_data"
    }
   ],
   "source": [
    "plt.figure(1)\n",
    "plt.plot(alpha, score_train, 'g--', label = \"train_score\")\n",
    "plt.plot(alpha, score_test, 'r-o', label = \"test_score\")\n",
    "plt.xlabel = 'Alpha'\n",
    "plt.legend()\n",
    "plt.figure(2)\n",
    "plt.plot(alpha, mse_train, 'y--',label = \"train_mse\")\n",
    "plt.plot(alpha, mse_test, 'c-o',label = \"test_mse\")\n",
    "plt.xlabel = 'Alpha'\n",
    "plt.legend()\n",
    "plt.show()"
   ]
  },
  {
   "cell_type": "code",
   "execution_count": null,
   "metadata": {},
   "outputs": [],
   "source": []
  }
 ],
 "metadata": {
  "kernelspec": {
   "display_name": "Python 3",
   "language": "python",
   "name": "python3"
  },
  "language_info": {
   "codemirror_mode": {
    "name": "ipython",
    "version": 3
   },
   "file_extension": ".py",
   "mimetype": "text/x-python",
   "name": "python",
   "nbconvert_exporter": "python",
   "pygments_lexer": "ipython3",
   "version": "3.7.6"
  }
 },
 "nbformat": 4,
 "nbformat_minor": 4
}
