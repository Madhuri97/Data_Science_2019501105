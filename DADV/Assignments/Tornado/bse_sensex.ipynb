{
 "metadata": {
  "language_info": {
   "codemirror_mode": {
    "name": "ipython",
    "version": 3
   },
   "file_extension": ".py",
   "mimetype": "text/x-python",
   "name": "python",
   "nbconvert_exporter": "python",
   "pygments_lexer": "ipython3",
   "version": "3.9.2"
  },
  "orig_nbformat": 2,
  "kernelspec": {
   "name": "python392jvsc74a57bd09f732bf2f1584e2b91c869ae689782b48698a078eb0caa539c1da4908ee28e8a",
   "display_name": "Python 3.9.2 64-bit"
  }
 },
 "nbformat": 4,
 "nbformat_minor": 2,
 "cells": [
  {
   "cell_type": "code",
   "execution_count": 31,
   "metadata": {},
   "outputs": [],
   "source": [
    "import pandas as pd\n",
    "from sparklines import sparklines\n",
    "import numpy as np\n",
    "import random\n",
    "import glob\n",
    "import csv, os\n",
    "from matplotlib import pyplot as plt\n",
    "\n",
    "import base64\n",
    "import io\n"
   ]
  },
  {
   "cell_type": "code",
   "execution_count": 32,
   "metadata": {},
   "outputs": [],
   "source": [
    "def spark_line(data, figsize=(3, 0.25), **kwags):\n",
    "    \"\"\"\n",
    "    Returns a HTML image tag containing a base64 encoded sparkline style plot\n",
    "    \"\"\"\n",
    "    data = list(data)\n",
    "\n",
    "    fig, ax = plt.subplots(1, 1, figsize=figsize, **kwags)\n",
    "    ax.plot(data)\n",
    "    for k,v in ax.spines.items():\n",
    "        v.set_visible(False)\n",
    "    ax.set_xticks([])\n",
    "    ax.set_yticks([])\n",
    "\n",
    "    plt.plot(len(data) - 1, data[len(data) - 1], 'r.')\n",
    "\n",
    "    ax.fill_between(range(len(data)), data, len(data)*[min(data)], alpha=0.1)\n",
    "\n",
    "    img = io.BytesIO()\n",
    "    plt.savefig(img, transparent=True, bbox_inches='tight')\n",
    "    img.seek(0)\n",
    "    plt.close()\n",
    "\n",
    "    return base64.b64encode(img.read()).decode(\"UTF-8\")"
   ]
  },
  {
   "cell_type": "code",
   "execution_count": 33,
   "metadata": {},
   "outputs": [],
   "source": [
    "def is_file_empty(file_path):\n",
    "    return os.path.exists(file_path) and os.stat(file_path).st_size == 0"
   ]
  },
  {
   "cell_type": "code",
   "execution_count": 34,
   "metadata": {},
   "outputs": [],
   "source": [
    "df1 = list()\n",
    "for files in glob.glob('.\\\\Databases\\\\*.csv'):\n",
    "    f=open(files, 'r')\n",
    "    name = os.path.basename(f.name).replace(\".csv\",\"\")\n",
    "    if is_file_empty(\".\\\\Databases\\\\\"+name+\".csv\"):\n",
    "        continue\n",
    "    sensex = pd.read_csv(f)\n",
    "    try:\n",
    "        df1.append(sensex[\"Close\"][0:30].values)\n",
    "    except Exception as e:\n",
    "        df1.append(sensex[\"Close Price\"][0:30].values)\n",
    "\n",
    "with open(\"bse_closing_price.html\", \"a\") as file:\n",
    "    file.write('<div><h1>Sparkline to the Closing Price values</h1></div>')\n",
    "    file.write('<br>')\n",
    "    file.write('<br>')\n",
    "    for value in df1:\n",
    "        file.write('<div><img src=\"data:image/png;base64,{}\"/></div>'.format(spark_line(value)))\n",
    "        file.write('<div></div>')"
   ]
  },
  {
   "cell_type": "code",
   "execution_count": 35,
   "metadata": {},
   "outputs": [],
   "source": [
    "import pdfcrowd"
   ]
  },
  {
   "cell_type": "code",
   "execution_count": 36,
   "metadata": {},
   "outputs": [],
   "source": [
    "client = pdfcrowd.HtmlToPdfClient('Madhuri97', '2b316e93793442d8031a72d908db069c')\n",
    "client.convertFileToFile('bse_closing_price.html', 'bse_closing_price.pdf')"
   ]
  },
  {
   "cell_type": "code",
   "execution_count": null,
   "metadata": {},
   "outputs": [],
   "source": []
  }
 ]
}