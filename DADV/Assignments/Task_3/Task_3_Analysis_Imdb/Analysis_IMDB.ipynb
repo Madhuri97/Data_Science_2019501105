{
 "cells": [
  {
   "cell_type": "code",
   "execution_count": 1,
   "metadata": {},
   "outputs": [],
   "source": [
    "# 1\n",
    "import numpy as np\n",
    "import pandas as pd\n",
    "import warnings\n",
    "warnings.filterwarnings('ignore')"
   ]
  },
  {
   "cell_type": "code",
   "execution_count": 2,
   "metadata": {},
   "outputs": [
    {
     "output_type": "execute_result",
     "data": {
      "text/plain": [
       "      tconst titleType            primaryTitle           originalTitle  \\\n",
       "0  tt0000001     short              Carmencita              Carmencita   \n",
       "1  tt0000002     short  Le clown et ses chiens  Le clown et ses chiens   \n",
       "2  tt0000003     short          Pauvre Pierrot          Pauvre Pierrot   \n",
       "3  tt0000004     short             Un bon bock             Un bon bock   \n",
       "4  tt0000005     short        Blacksmith Scene        Blacksmith Scene   \n",
       "\n",
       "  isAdult startYear endYear runtimeMinutes                    genres  \n",
       "0       0      1894      \\N              1         Documentary,Short  \n",
       "1       0      1892      \\N              5           Animation,Short  \n",
       "2       0      1892      \\N              4  Animation,Comedy,Romance  \n",
       "3       0      1892      \\N             12           Animation,Short  \n",
       "4       0      1893      \\N              1              Comedy,Short  "
      ],
      "text/html": "<div>\n<style scoped>\n    .dataframe tbody tr th:only-of-type {\n        vertical-align: middle;\n    }\n\n    .dataframe tbody tr th {\n        vertical-align: top;\n    }\n\n    .dataframe thead th {\n        text-align: right;\n    }\n</style>\n<table border=\"1\" class=\"dataframe\">\n  <thead>\n    <tr style=\"text-align: right;\">\n      <th></th>\n      <th>tconst</th>\n      <th>titleType</th>\n      <th>primaryTitle</th>\n      <th>originalTitle</th>\n      <th>isAdult</th>\n      <th>startYear</th>\n      <th>endYear</th>\n      <th>runtimeMinutes</th>\n      <th>genres</th>\n    </tr>\n  </thead>\n  <tbody>\n    <tr>\n      <th>0</th>\n      <td>tt0000001</td>\n      <td>short</td>\n      <td>Carmencita</td>\n      <td>Carmencita</td>\n      <td>0</td>\n      <td>1894</td>\n      <td>\\N</td>\n      <td>1</td>\n      <td>Documentary,Short</td>\n    </tr>\n    <tr>\n      <th>1</th>\n      <td>tt0000002</td>\n      <td>short</td>\n      <td>Le clown et ses chiens</td>\n      <td>Le clown et ses chiens</td>\n      <td>0</td>\n      <td>1892</td>\n      <td>\\N</td>\n      <td>5</td>\n      <td>Animation,Short</td>\n    </tr>\n    <tr>\n      <th>2</th>\n      <td>tt0000003</td>\n      <td>short</td>\n      <td>Pauvre Pierrot</td>\n      <td>Pauvre Pierrot</td>\n      <td>0</td>\n      <td>1892</td>\n      <td>\\N</td>\n      <td>4</td>\n      <td>Animation,Comedy,Romance</td>\n    </tr>\n    <tr>\n      <th>3</th>\n      <td>tt0000004</td>\n      <td>short</td>\n      <td>Un bon bock</td>\n      <td>Un bon bock</td>\n      <td>0</td>\n      <td>1892</td>\n      <td>\\N</td>\n      <td>12</td>\n      <td>Animation,Short</td>\n    </tr>\n    <tr>\n      <th>4</th>\n      <td>tt0000005</td>\n      <td>short</td>\n      <td>Blacksmith Scene</td>\n      <td>Blacksmith Scene</td>\n      <td>0</td>\n      <td>1893</td>\n      <td>\\N</td>\n      <td>1</td>\n      <td>Comedy,Short</td>\n    </tr>\n  </tbody>\n</table>\n</div>"
     },
     "metadata": {},
     "execution_count": 2
    }
   ],
   "source": [
    "# 2\n",
    "basics = pd.read_csv(\"title_basics_data.tsv\", delimiter = \"\\t\")\n",
    "basics.to_csv('title_basics_data_csv.csv')\n",
    "basics.head(5)"
   ]
  },
  {
   "cell_type": "code",
   "execution_count": 3,
   "metadata": {},
   "outputs": [
    {
     "output_type": "execute_result",
     "data": {
      "text/plain": [
       "      tconst  averageRating  numVotes\n",
       "0  tt0000001            5.6      1668\n",
       "1  tt0000002            6.1       207\n",
       "2  tt0000003            6.5      1392\n",
       "3  tt0000004            6.2       123\n",
       "4  tt0000005            6.2      2179"
      ],
      "text/html": "<div>\n<style scoped>\n    .dataframe tbody tr th:only-of-type {\n        vertical-align: middle;\n    }\n\n    .dataframe tbody tr th {\n        vertical-align: top;\n    }\n\n    .dataframe thead th {\n        text-align: right;\n    }\n</style>\n<table border=\"1\" class=\"dataframe\">\n  <thead>\n    <tr style=\"text-align: right;\">\n      <th></th>\n      <th>tconst</th>\n      <th>averageRating</th>\n      <th>numVotes</th>\n    </tr>\n  </thead>\n  <tbody>\n    <tr>\n      <th>0</th>\n      <td>tt0000001</td>\n      <td>5.6</td>\n      <td>1668</td>\n    </tr>\n    <tr>\n      <th>1</th>\n      <td>tt0000002</td>\n      <td>6.1</td>\n      <td>207</td>\n    </tr>\n    <tr>\n      <th>2</th>\n      <td>tt0000003</td>\n      <td>6.5</td>\n      <td>1392</td>\n    </tr>\n    <tr>\n      <th>3</th>\n      <td>tt0000004</td>\n      <td>6.2</td>\n      <td>123</td>\n    </tr>\n    <tr>\n      <th>4</th>\n      <td>tt0000005</td>\n      <td>6.2</td>\n      <td>2179</td>\n    </tr>\n  </tbody>\n</table>\n</div>"
     },
     "metadata": {},
     "execution_count": 3
    }
   ],
   "source": [
    "# 3\n",
    "ratings = pd.read_csv(\"rating_data.tsv\", delimiter = \"\\t\")\n",
    "basics.to_csv('rating_data_csv.csv')\n",
    "ratings.head(5)"
   ]
  },
  {
   "cell_type": "code",
   "execution_count": 4,
   "metadata": {},
   "outputs": [],
   "source": [
    "# 4\n",
    "basics['startYear'] = pd.to_numeric(basics['startYear'], errors='coerce')"
   ]
  },
  {
   "cell_type": "code",
   "execution_count": 5,
   "metadata": {},
   "outputs": [
    {
     "output_type": "execute_result",
     "data": {
      "text/plain": [
       "           tconst titleType                primaryTitle  \\\n",
       "15184   tt0015414     movie      La tierra de los toros   \n",
       "34811   tt0035423     movie              Kate & Leopold   \n",
       "63462   tt0064730     movie  Japan Organized Crime Boss   \n",
       "85714   tt0087608     movie            Leila wa al ziap   \n",
       "86825   tt0088751     movie           The Naked Monster   \n",
       "93967   tt0096056     movie        Crime and Punishment   \n",
       "95409   tt0097540     movie                    Responso   \n",
       "100116  tt0102362     movie                      Istota   \n",
       "105368  tt0107706     movie                     Nothing   \n",
       "106192  tt0108549     movie  West from North Goes South   \n",
       "\n",
       "                     originalTitle isAdult  startYear endYear runtimeMinutes  \\\n",
       "15184       La tierra de los toros       0     2000.0      \\N             60   \n",
       "34811               Kate & Leopold       0     2001.0      \\N            118   \n",
       "63462   Nihon boryoku-dan: Kumicho       0     2000.0      \\N             97   \n",
       "85714             Leila wa al ziap       0     2008.0      \\N             90   \n",
       "86825            The Naked Monster       0     2005.0      \\N            100   \n",
       "93967         Crime and Punishment       0     2002.0      \\N            126   \n",
       "95409                     Responso       0     2004.0      \\N             81   \n",
       "100116                      Istota       0     2000.0      \\N             80   \n",
       "105368                     Nothing       0     2000.0      \\N             \\N   \n",
       "106192  West from North Goes South       0     2004.0      \\N             96   \n",
       "\n",
       "                        genres  \n",
       "15184                       \\N  \n",
       "34811   Comedy,Fantasy,Romance  \n",
       "63462             Action,Crime  \n",
       "85714              Documentary  \n",
       "86825     Comedy,Horror,Sci-Fi  \n",
       "93967                    Drama  \n",
       "95409                       \\N  \n",
       "100116           Drama,Romance  \n",
       "105368                      \\N  \n",
       "106192          Comedy,Mystery  "
      ],
      "text/html": "<div>\n<style scoped>\n    .dataframe tbody tr th:only-of-type {\n        vertical-align: middle;\n    }\n\n    .dataframe tbody tr th {\n        vertical-align: top;\n    }\n\n    .dataframe thead th {\n        text-align: right;\n    }\n</style>\n<table border=\"1\" class=\"dataframe\">\n  <thead>\n    <tr style=\"text-align: right;\">\n      <th></th>\n      <th>tconst</th>\n      <th>titleType</th>\n      <th>primaryTitle</th>\n      <th>originalTitle</th>\n      <th>isAdult</th>\n      <th>startYear</th>\n      <th>endYear</th>\n      <th>runtimeMinutes</th>\n      <th>genres</th>\n    </tr>\n  </thead>\n  <tbody>\n    <tr>\n      <th>15184</th>\n      <td>tt0015414</td>\n      <td>movie</td>\n      <td>La tierra de los toros</td>\n      <td>La tierra de los toros</td>\n      <td>0</td>\n      <td>2000.0</td>\n      <td>\\N</td>\n      <td>60</td>\n      <td>\\N</td>\n    </tr>\n    <tr>\n      <th>34811</th>\n      <td>tt0035423</td>\n      <td>movie</td>\n      <td>Kate &amp; Leopold</td>\n      <td>Kate &amp; Leopold</td>\n      <td>0</td>\n      <td>2001.0</td>\n      <td>\\N</td>\n      <td>118</td>\n      <td>Comedy,Fantasy,Romance</td>\n    </tr>\n    <tr>\n      <th>63462</th>\n      <td>tt0064730</td>\n      <td>movie</td>\n      <td>Japan Organized Crime Boss</td>\n      <td>Nihon boryoku-dan: Kumicho</td>\n      <td>0</td>\n      <td>2000.0</td>\n      <td>\\N</td>\n      <td>97</td>\n      <td>Action,Crime</td>\n    </tr>\n    <tr>\n      <th>85714</th>\n      <td>tt0087608</td>\n      <td>movie</td>\n      <td>Leila wa al ziap</td>\n      <td>Leila wa al ziap</td>\n      <td>0</td>\n      <td>2008.0</td>\n      <td>\\N</td>\n      <td>90</td>\n      <td>Documentary</td>\n    </tr>\n    <tr>\n      <th>86825</th>\n      <td>tt0088751</td>\n      <td>movie</td>\n      <td>The Naked Monster</td>\n      <td>The Naked Monster</td>\n      <td>0</td>\n      <td>2005.0</td>\n      <td>\\N</td>\n      <td>100</td>\n      <td>Comedy,Horror,Sci-Fi</td>\n    </tr>\n    <tr>\n      <th>93967</th>\n      <td>tt0096056</td>\n      <td>movie</td>\n      <td>Crime and Punishment</td>\n      <td>Crime and Punishment</td>\n      <td>0</td>\n      <td>2002.0</td>\n      <td>\\N</td>\n      <td>126</td>\n      <td>Drama</td>\n    </tr>\n    <tr>\n      <th>95409</th>\n      <td>tt0097540</td>\n      <td>movie</td>\n      <td>Responso</td>\n      <td>Responso</td>\n      <td>0</td>\n      <td>2004.0</td>\n      <td>\\N</td>\n      <td>81</td>\n      <td>\\N</td>\n    </tr>\n    <tr>\n      <th>100116</th>\n      <td>tt0102362</td>\n      <td>movie</td>\n      <td>Istota</td>\n      <td>Istota</td>\n      <td>0</td>\n      <td>2000.0</td>\n      <td>\\N</td>\n      <td>80</td>\n      <td>Drama,Romance</td>\n    </tr>\n    <tr>\n      <th>105368</th>\n      <td>tt0107706</td>\n      <td>movie</td>\n      <td>Nothing</td>\n      <td>Nothing</td>\n      <td>0</td>\n      <td>2000.0</td>\n      <td>\\N</td>\n      <td>\\N</td>\n      <td>\\N</td>\n    </tr>\n    <tr>\n      <th>106192</th>\n      <td>tt0108549</td>\n      <td>movie</td>\n      <td>West from North Goes South</td>\n      <td>West from North Goes South</td>\n      <td>0</td>\n      <td>2004.0</td>\n      <td>\\N</td>\n      <td>96</td>\n      <td>Comedy,Mystery</td>\n    </tr>\n  </tbody>\n</table>\n</div>"
     },
     "metadata": {},
     "execution_count": 5
    }
   ],
   "source": [
    "# 5\n",
    "year = basics[(basics['startYear'] >= 2000) & (basics['startYear'] <= 2009) & (basics['titleType'] == \"movie\")]\n",
    "year.head(10)"
   ]
  },
  {
   "cell_type": "code",
   "execution_count": 6,
   "metadata": {},
   "outputs": [
    {
     "output_type": "execute_result",
     "data": {
      "text/plain": [
       "      tconst titleType                primaryTitle  \\\n",
       "0  tt0015414     movie      La tierra de los toros   \n",
       "1  tt0035423     movie              Kate & Leopold   \n",
       "2  tt0064730     movie  Japan Organized Crime Boss   \n",
       "3  tt0087608     movie            Leila wa al ziap   \n",
       "4  tt0088751     movie           The Naked Monster   \n",
       "5  tt0096056     movie        Crime and Punishment   \n",
       "6  tt0097540     movie                    Responso   \n",
       "7  tt0102362     movie                      Istota   \n",
       "8  tt0108549     movie  West from North Goes South   \n",
       "9  tt0109173     movie            Auf allen Meeren   \n",
       "\n",
       "                originalTitle isAdult  startYear endYear runtimeMinutes  \\\n",
       "0      La tierra de los toros       0     2000.0      \\N             60   \n",
       "1              Kate & Leopold       0     2001.0      \\N            118   \n",
       "2  Nihon boryoku-dan: Kumicho       0     2000.0      \\N             97   \n",
       "3            Leila wa al ziap       0     2008.0      \\N             90   \n",
       "4           The Naked Monster       0     2005.0      \\N            100   \n",
       "5        Crime and Punishment       0     2002.0      \\N            126   \n",
       "6                    Responso       0     2004.0      \\N             81   \n",
       "7                      Istota       0     2000.0      \\N             80   \n",
       "8  West from North Goes South       0     2004.0      \\N             96   \n",
       "9            Auf allen Meeren       0     2002.0      \\N             95   \n",
       "\n",
       "                   genres  averageRating  numVotes  \n",
       "0                      \\N            5.4        11  \n",
       "1  Comedy,Fantasy,Romance            6.4     78683  \n",
       "2            Action,Crime            7.0       172  \n",
       "3             Documentary            7.7        13  \n",
       "4    Comedy,Horror,Sci-Fi            5.4       274  \n",
       "5                   Drama            5.8       641  \n",
       "6                      \\N            7.4         5  \n",
       "7           Drama,Romance            4.8        10  \n",
       "8          Comedy,Mystery            7.7        23  \n",
       "9             Documentary            7.8        26  "
      ],
      "text/html": "<div>\n<style scoped>\n    .dataframe tbody tr th:only-of-type {\n        vertical-align: middle;\n    }\n\n    .dataframe tbody tr th {\n        vertical-align: top;\n    }\n\n    .dataframe thead th {\n        text-align: right;\n    }\n</style>\n<table border=\"1\" class=\"dataframe\">\n  <thead>\n    <tr style=\"text-align: right;\">\n      <th></th>\n      <th>tconst</th>\n      <th>titleType</th>\n      <th>primaryTitle</th>\n      <th>originalTitle</th>\n      <th>isAdult</th>\n      <th>startYear</th>\n      <th>endYear</th>\n      <th>runtimeMinutes</th>\n      <th>genres</th>\n      <th>averageRating</th>\n      <th>numVotes</th>\n    </tr>\n  </thead>\n  <tbody>\n    <tr>\n      <th>0</th>\n      <td>tt0015414</td>\n      <td>movie</td>\n      <td>La tierra de los toros</td>\n      <td>La tierra de los toros</td>\n      <td>0</td>\n      <td>2000.0</td>\n      <td>\\N</td>\n      <td>60</td>\n      <td>\\N</td>\n      <td>5.4</td>\n      <td>11</td>\n    </tr>\n    <tr>\n      <th>1</th>\n      <td>tt0035423</td>\n      <td>movie</td>\n      <td>Kate &amp; Leopold</td>\n      <td>Kate &amp; Leopold</td>\n      <td>0</td>\n      <td>2001.0</td>\n      <td>\\N</td>\n      <td>118</td>\n      <td>Comedy,Fantasy,Romance</td>\n      <td>6.4</td>\n      <td>78683</td>\n    </tr>\n    <tr>\n      <th>2</th>\n      <td>tt0064730</td>\n      <td>movie</td>\n      <td>Japan Organized Crime Boss</td>\n      <td>Nihon boryoku-dan: Kumicho</td>\n      <td>0</td>\n      <td>2000.0</td>\n      <td>\\N</td>\n      <td>97</td>\n      <td>Action,Crime</td>\n      <td>7.0</td>\n      <td>172</td>\n    </tr>\n    <tr>\n      <th>3</th>\n      <td>tt0087608</td>\n      <td>movie</td>\n      <td>Leila wa al ziap</td>\n      <td>Leila wa al ziap</td>\n      <td>0</td>\n      <td>2008.0</td>\n      <td>\\N</td>\n      <td>90</td>\n      <td>Documentary</td>\n      <td>7.7</td>\n      <td>13</td>\n    </tr>\n    <tr>\n      <th>4</th>\n      <td>tt0088751</td>\n      <td>movie</td>\n      <td>The Naked Monster</td>\n      <td>The Naked Monster</td>\n      <td>0</td>\n      <td>2005.0</td>\n      <td>\\N</td>\n      <td>100</td>\n      <td>Comedy,Horror,Sci-Fi</td>\n      <td>5.4</td>\n      <td>274</td>\n    </tr>\n    <tr>\n      <th>5</th>\n      <td>tt0096056</td>\n      <td>movie</td>\n      <td>Crime and Punishment</td>\n      <td>Crime and Punishment</td>\n      <td>0</td>\n      <td>2002.0</td>\n      <td>\\N</td>\n      <td>126</td>\n      <td>Drama</td>\n      <td>5.8</td>\n      <td>641</td>\n    </tr>\n    <tr>\n      <th>6</th>\n      <td>tt0097540</td>\n      <td>movie</td>\n      <td>Responso</td>\n      <td>Responso</td>\n      <td>0</td>\n      <td>2004.0</td>\n      <td>\\N</td>\n      <td>81</td>\n      <td>\\N</td>\n      <td>7.4</td>\n      <td>5</td>\n    </tr>\n    <tr>\n      <th>7</th>\n      <td>tt0102362</td>\n      <td>movie</td>\n      <td>Istota</td>\n      <td>Istota</td>\n      <td>0</td>\n      <td>2000.0</td>\n      <td>\\N</td>\n      <td>80</td>\n      <td>Drama,Romance</td>\n      <td>4.8</td>\n      <td>10</td>\n    </tr>\n    <tr>\n      <th>8</th>\n      <td>tt0108549</td>\n      <td>movie</td>\n      <td>West from North Goes South</td>\n      <td>West from North Goes South</td>\n      <td>0</td>\n      <td>2004.0</td>\n      <td>\\N</td>\n      <td>96</td>\n      <td>Comedy,Mystery</td>\n      <td>7.7</td>\n      <td>23</td>\n    </tr>\n    <tr>\n      <th>9</th>\n      <td>tt0109173</td>\n      <td>movie</td>\n      <td>Auf allen Meeren</td>\n      <td>Auf allen Meeren</td>\n      <td>0</td>\n      <td>2002.0</td>\n      <td>\\N</td>\n      <td>95</td>\n      <td>Documentary</td>\n      <td>7.8</td>\n      <td>26</td>\n    </tr>\n  </tbody>\n</table>\n</div>"
     },
     "metadata": {},
     "execution_count": 6
    }
   ],
   "source": [
    "# 6\n",
    "merge_yr = pd.merge(year, ratings, on='tconst')\n",
    "merge_yr.head(10)"
   ]
  },
  {
   "cell_type": "code",
   "execution_count": 7,
   "metadata": {},
   "outputs": [
    {
     "output_type": "execute_result",
     "data": {
      "text/plain": [
       "          tconst titleType                                       primaryTitle  \\\n",
       "19846  tt0468569     movie                                    The Dark Knight   \n",
       "64     tt0120737     movie  The Lord of the Rings: The Fellowship of the Ring   \n",
       "349    tt0167260     movie      The Lord of the Rings: The Return of the King   \n",
       "350    tt0167261     movie              The Lord of the Rings: The Two Towers   \n",
       "400    tt0172495     movie                                          Gladiator   \n",
       "11558  tt0372784     movie                                      Batman Begins   \n",
       "10546  tt0361748     movie                               Inglourious Basterds   \n",
       "14548  tt0407887     movie                                       The Departed   \n",
       "21231  tt0482571     movie                                       The Prestige   \n",
       "1020   tt0209144     movie                                            Memento   \n",
       "\n",
       "                                           originalTitle isAdult  startYear  \\\n",
       "19846                                    The Dark Knight       0     2008.0   \n",
       "64     The Lord of the Rings: The Fellowship of the Ring       0     2001.0   \n",
       "349        The Lord of the Rings: The Return of the King       0     2003.0   \n",
       "350                The Lord of the Rings: The Two Towers       0     2002.0   \n",
       "400                                            Gladiator       0     2000.0   \n",
       "11558                                      Batman Begins       0     2005.0   \n",
       "10546                               Inglourious Basterds       0     2009.0   \n",
       "14548                                       The Departed       0     2006.0   \n",
       "21231                                       The Prestige       0     2006.0   \n",
       "1020                                             Memento       0     2000.0   \n",
       "\n",
       "      endYear runtimeMinutes                  genres  averageRating  numVotes  \n",
       "19846      \\N            152      Action,Crime,Drama            9.0   2286538  \n",
       "64         \\N            178  Action,Adventure,Drama            8.8   1648332  \n",
       "349        \\N            201  Action,Adventure,Drama            8.9   1631652  \n",
       "350        \\N            179  Action,Adventure,Drama            8.7   1475172  \n",
       "400        \\N            155  Action,Adventure,Drama            8.5   1332104  \n",
       "11558      \\N            140        Action,Adventure            8.2   1300069  \n",
       "10546      \\N            153     Adventure,Drama,War            8.3   1256747  \n",
       "14548      \\N            151    Crime,Drama,Thriller            8.5   1180900  \n",
       "21231      \\N            130    Drama,Mystery,Sci-Fi            8.5   1180732  \n",
       "1020       \\N            113        Mystery,Thriller            8.4   1118591  "
      ],
      "text/html": "<div>\n<style scoped>\n    .dataframe tbody tr th:only-of-type {\n        vertical-align: middle;\n    }\n\n    .dataframe tbody tr th {\n        vertical-align: top;\n    }\n\n    .dataframe thead th {\n        text-align: right;\n    }\n</style>\n<table border=\"1\" class=\"dataframe\">\n  <thead>\n    <tr style=\"text-align: right;\">\n      <th></th>\n      <th>tconst</th>\n      <th>titleType</th>\n      <th>primaryTitle</th>\n      <th>originalTitle</th>\n      <th>isAdult</th>\n      <th>startYear</th>\n      <th>endYear</th>\n      <th>runtimeMinutes</th>\n      <th>genres</th>\n      <th>averageRating</th>\n      <th>numVotes</th>\n    </tr>\n  </thead>\n  <tbody>\n    <tr>\n      <th>19846</th>\n      <td>tt0468569</td>\n      <td>movie</td>\n      <td>The Dark Knight</td>\n      <td>The Dark Knight</td>\n      <td>0</td>\n      <td>2008.0</td>\n      <td>\\N</td>\n      <td>152</td>\n      <td>Action,Crime,Drama</td>\n      <td>9.0</td>\n      <td>2286538</td>\n    </tr>\n    <tr>\n      <th>64</th>\n      <td>tt0120737</td>\n      <td>movie</td>\n      <td>The Lord of the Rings: The Fellowship of the Ring</td>\n      <td>The Lord of the Rings: The Fellowship of the Ring</td>\n      <td>0</td>\n      <td>2001.0</td>\n      <td>\\N</td>\n      <td>178</td>\n      <td>Action,Adventure,Drama</td>\n      <td>8.8</td>\n      <td>1648332</td>\n    </tr>\n    <tr>\n      <th>349</th>\n      <td>tt0167260</td>\n      <td>movie</td>\n      <td>The Lord of the Rings: The Return of the King</td>\n      <td>The Lord of the Rings: The Return of the King</td>\n      <td>0</td>\n      <td>2003.0</td>\n      <td>\\N</td>\n      <td>201</td>\n      <td>Action,Adventure,Drama</td>\n      <td>8.9</td>\n      <td>1631652</td>\n    </tr>\n    <tr>\n      <th>350</th>\n      <td>tt0167261</td>\n      <td>movie</td>\n      <td>The Lord of the Rings: The Two Towers</td>\n      <td>The Lord of the Rings: The Two Towers</td>\n      <td>0</td>\n      <td>2002.0</td>\n      <td>\\N</td>\n      <td>179</td>\n      <td>Action,Adventure,Drama</td>\n      <td>8.7</td>\n      <td>1475172</td>\n    </tr>\n    <tr>\n      <th>400</th>\n      <td>tt0172495</td>\n      <td>movie</td>\n      <td>Gladiator</td>\n      <td>Gladiator</td>\n      <td>0</td>\n      <td>2000.0</td>\n      <td>\\N</td>\n      <td>155</td>\n      <td>Action,Adventure,Drama</td>\n      <td>8.5</td>\n      <td>1332104</td>\n    </tr>\n    <tr>\n      <th>11558</th>\n      <td>tt0372784</td>\n      <td>movie</td>\n      <td>Batman Begins</td>\n      <td>Batman Begins</td>\n      <td>0</td>\n      <td>2005.0</td>\n      <td>\\N</td>\n      <td>140</td>\n      <td>Action,Adventure</td>\n      <td>8.2</td>\n      <td>1300069</td>\n    </tr>\n    <tr>\n      <th>10546</th>\n      <td>tt0361748</td>\n      <td>movie</td>\n      <td>Inglourious Basterds</td>\n      <td>Inglourious Basterds</td>\n      <td>0</td>\n      <td>2009.0</td>\n      <td>\\N</td>\n      <td>153</td>\n      <td>Adventure,Drama,War</td>\n      <td>8.3</td>\n      <td>1256747</td>\n    </tr>\n    <tr>\n      <th>14548</th>\n      <td>tt0407887</td>\n      <td>movie</td>\n      <td>The Departed</td>\n      <td>The Departed</td>\n      <td>0</td>\n      <td>2006.0</td>\n      <td>\\N</td>\n      <td>151</td>\n      <td>Crime,Drama,Thriller</td>\n      <td>8.5</td>\n      <td>1180900</td>\n    </tr>\n    <tr>\n      <th>21231</th>\n      <td>tt0482571</td>\n      <td>movie</td>\n      <td>The Prestige</td>\n      <td>The Prestige</td>\n      <td>0</td>\n      <td>2006.0</td>\n      <td>\\N</td>\n      <td>130</td>\n      <td>Drama,Mystery,Sci-Fi</td>\n      <td>8.5</td>\n      <td>1180732</td>\n    </tr>\n    <tr>\n      <th>1020</th>\n      <td>tt0209144</td>\n      <td>movie</td>\n      <td>Memento</td>\n      <td>Memento</td>\n      <td>0</td>\n      <td>2000.0</td>\n      <td>\\N</td>\n      <td>113</td>\n      <td>Mystery,Thriller</td>\n      <td>8.4</td>\n      <td>1118591</td>\n    </tr>\n  </tbody>\n</table>\n</div>"
     },
     "metadata": {},
     "execution_count": 7
    }
   ],
   "source": [
    "# 7\n",
    "popular_movies =  merge_yr.sort_values('numVotes', ascending = False)\n",
    "popular_movies.head(10)"
   ]
  },
  {
   "cell_type": "code",
   "execution_count": 8,
   "metadata": {},
   "outputs": [
    {
     "output_type": "execute_result",
     "data": {
      "text/plain": [
       "8.580000000000002"
      ]
     },
     "metadata": {},
     "execution_count": 8
    }
   ],
   "source": [
    "# 8\n",
    "popular_movies.head(10)['averageRating'].mean()"
   ]
  },
  {
   "cell_type": "code",
   "execution_count": 9,
   "metadata": {},
   "outputs": [
    {
     "output_type": "execute_result",
     "data": {
      "text/plain": [
       "       tconst  averageRating  numVotes\n",
       "0   tt0000001            5.6      1668\n",
       "2   tt0000003            6.5      1392\n",
       "4   tt0000005            6.2      2179\n",
       "7   tt0000008            5.4      1838\n",
       "9   tt0000010            6.9      6146\n",
       "11  tt0000012            7.4     10542\n",
       "12  tt0000013            5.7      1597\n",
       "13  tt0000014            7.1      4702\n",
       "15  tt0000016            5.9      1220\n",
       "21  tt0000023            5.7      1164"
      ],
      "text/html": "<div>\n<style scoped>\n    .dataframe tbody tr th:only-of-type {\n        vertical-align: middle;\n    }\n\n    .dataframe tbody tr th {\n        vertical-align: top;\n    }\n\n    .dataframe thead th {\n        text-align: right;\n    }\n</style>\n<table border=\"1\" class=\"dataframe\">\n  <thead>\n    <tr style=\"text-align: right;\">\n      <th></th>\n      <th>tconst</th>\n      <th>averageRating</th>\n      <th>numVotes</th>\n    </tr>\n  </thead>\n  <tbody>\n    <tr>\n      <th>0</th>\n      <td>tt0000001</td>\n      <td>5.6</td>\n      <td>1668</td>\n    </tr>\n    <tr>\n      <th>2</th>\n      <td>tt0000003</td>\n      <td>6.5</td>\n      <td>1392</td>\n    </tr>\n    <tr>\n      <th>4</th>\n      <td>tt0000005</td>\n      <td>6.2</td>\n      <td>2179</td>\n    </tr>\n    <tr>\n      <th>7</th>\n      <td>tt0000008</td>\n      <td>5.4</td>\n      <td>1838</td>\n    </tr>\n    <tr>\n      <th>9</th>\n      <td>tt0000010</td>\n      <td>6.9</td>\n      <td>6146</td>\n    </tr>\n    <tr>\n      <th>11</th>\n      <td>tt0000012</td>\n      <td>7.4</td>\n      <td>10542</td>\n    </tr>\n    <tr>\n      <th>12</th>\n      <td>tt0000013</td>\n      <td>5.7</td>\n      <td>1597</td>\n    </tr>\n    <tr>\n      <th>13</th>\n      <td>tt0000014</td>\n      <td>7.1</td>\n      <td>4702</td>\n    </tr>\n    <tr>\n      <th>15</th>\n      <td>tt0000016</td>\n      <td>5.9</td>\n      <td>1220</td>\n    </tr>\n    <tr>\n      <th>21</th>\n      <td>tt0000023</td>\n      <td>5.7</td>\n      <td>1164</td>\n    </tr>\n  </tbody>\n</table>\n</div>"
     },
     "metadata": {},
     "execution_count": 9
    }
   ],
   "source": [
    "# 9\n",
    "votes = ratings[ratings['numVotes'] >= 1000]\n",
    "votes.head(10)"
   ]
  },
  {
   "cell_type": "code",
   "execution_count": 10,
   "metadata": {},
   "outputs": [
    {
     "output_type": "execute_result",
     "data": {
      "text/plain": [
       "      tconst titleType                                 primaryTitle  \\\n",
       "0  tt0000001     short                                   Carmencita   \n",
       "1  tt0000003     short                               Pauvre Pierrot   \n",
       "2  tt0000005     short                             Blacksmith Scene   \n",
       "3  tt0000008     short       Edison Kinetoscopic Record of a Sneeze   \n",
       "4  tt0000010     short                          Leaving the Factory   \n",
       "5  tt0000012     short                       The Arrival of a Train   \n",
       "6  tt0000013     short  The Photographical Congress Arrives in Lyon   \n",
       "7  tt0000014     short                          The Waterer Watered   \n",
       "8  tt0000016     short                       Barque sortant du port   \n",
       "9  tt0000023     short                                      The Sea   \n",
       "\n",
       "                                       originalTitle isAdult  startYear  \\\n",
       "0                                         Carmencita       0     1894.0   \n",
       "1                                     Pauvre Pierrot       0     1892.0   \n",
       "2                                   Blacksmith Scene       0     1893.0   \n",
       "3             Edison Kinetoscopic Record of a Sneeze       0     1894.0   \n",
       "4                La sortie de l'usine Lumière à Lyon       0     1895.0   \n",
       "5                   L'arrivée d'un train à La Ciotat       0     1896.0   \n",
       "6  Neuville-sur-Saône: Débarquement du congrès de...       0     1895.0   \n",
       "7                                  L'arroseur arrosé       0     1895.0   \n",
       "8                             Barque sortant du port       0     1895.0   \n",
       "9                                    Baignade en mer       0     1895.0   \n",
       "\n",
       "  endYear runtimeMinutes                    genres  averageRating  numVotes  \n",
       "0      \\N              1         Documentary,Short            5.6      1668  \n",
       "1      \\N              4  Animation,Comedy,Romance            6.5      1392  \n",
       "2      \\N              1              Comedy,Short            6.2      2179  \n",
       "3      \\N              1         Documentary,Short            5.4      1838  \n",
       "4      \\N              1         Documentary,Short            6.9      6146  \n",
       "5      \\N              1         Documentary,Short            7.4     10542  \n",
       "6      \\N              1         Documentary,Short            5.7      1597  \n",
       "7      \\N              1              Comedy,Short            7.1      4702  \n",
       "8      \\N              1         Documentary,Short            5.9      1220  \n",
       "9      \\N              1         Documentary,Short            5.7      1164  "
      ],
      "text/html": "<div>\n<style scoped>\n    .dataframe tbody tr th:only-of-type {\n        vertical-align: middle;\n    }\n\n    .dataframe tbody tr th {\n        vertical-align: top;\n    }\n\n    .dataframe thead th {\n        text-align: right;\n    }\n</style>\n<table border=\"1\" class=\"dataframe\">\n  <thead>\n    <tr style=\"text-align: right;\">\n      <th></th>\n      <th>tconst</th>\n      <th>titleType</th>\n      <th>primaryTitle</th>\n      <th>originalTitle</th>\n      <th>isAdult</th>\n      <th>startYear</th>\n      <th>endYear</th>\n      <th>runtimeMinutes</th>\n      <th>genres</th>\n      <th>averageRating</th>\n      <th>numVotes</th>\n    </tr>\n  </thead>\n  <tbody>\n    <tr>\n      <th>0</th>\n      <td>tt0000001</td>\n      <td>short</td>\n      <td>Carmencita</td>\n      <td>Carmencita</td>\n      <td>0</td>\n      <td>1894.0</td>\n      <td>\\N</td>\n      <td>1</td>\n      <td>Documentary,Short</td>\n      <td>5.6</td>\n      <td>1668</td>\n    </tr>\n    <tr>\n      <th>1</th>\n      <td>tt0000003</td>\n      <td>short</td>\n      <td>Pauvre Pierrot</td>\n      <td>Pauvre Pierrot</td>\n      <td>0</td>\n      <td>1892.0</td>\n      <td>\\N</td>\n      <td>4</td>\n      <td>Animation,Comedy,Romance</td>\n      <td>6.5</td>\n      <td>1392</td>\n    </tr>\n    <tr>\n      <th>2</th>\n      <td>tt0000005</td>\n      <td>short</td>\n      <td>Blacksmith Scene</td>\n      <td>Blacksmith Scene</td>\n      <td>0</td>\n      <td>1893.0</td>\n      <td>\\N</td>\n      <td>1</td>\n      <td>Comedy,Short</td>\n      <td>6.2</td>\n      <td>2179</td>\n    </tr>\n    <tr>\n      <th>3</th>\n      <td>tt0000008</td>\n      <td>short</td>\n      <td>Edison Kinetoscopic Record of a Sneeze</td>\n      <td>Edison Kinetoscopic Record of a Sneeze</td>\n      <td>0</td>\n      <td>1894.0</td>\n      <td>\\N</td>\n      <td>1</td>\n      <td>Documentary,Short</td>\n      <td>5.4</td>\n      <td>1838</td>\n    </tr>\n    <tr>\n      <th>4</th>\n      <td>tt0000010</td>\n      <td>short</td>\n      <td>Leaving the Factory</td>\n      <td>La sortie de l'usine Lumière à Lyon</td>\n      <td>0</td>\n      <td>1895.0</td>\n      <td>\\N</td>\n      <td>1</td>\n      <td>Documentary,Short</td>\n      <td>6.9</td>\n      <td>6146</td>\n    </tr>\n    <tr>\n      <th>5</th>\n      <td>tt0000012</td>\n      <td>short</td>\n      <td>The Arrival of a Train</td>\n      <td>L'arrivée d'un train à La Ciotat</td>\n      <td>0</td>\n      <td>1896.0</td>\n      <td>\\N</td>\n      <td>1</td>\n      <td>Documentary,Short</td>\n      <td>7.4</td>\n      <td>10542</td>\n    </tr>\n    <tr>\n      <th>6</th>\n      <td>tt0000013</td>\n      <td>short</td>\n      <td>The Photographical Congress Arrives in Lyon</td>\n      <td>Neuville-sur-Saône: Débarquement du congrès de...</td>\n      <td>0</td>\n      <td>1895.0</td>\n      <td>\\N</td>\n      <td>1</td>\n      <td>Documentary,Short</td>\n      <td>5.7</td>\n      <td>1597</td>\n    </tr>\n    <tr>\n      <th>7</th>\n      <td>tt0000014</td>\n      <td>short</td>\n      <td>The Waterer Watered</td>\n      <td>L'arroseur arrosé</td>\n      <td>0</td>\n      <td>1895.0</td>\n      <td>\\N</td>\n      <td>1</td>\n      <td>Comedy,Short</td>\n      <td>7.1</td>\n      <td>4702</td>\n    </tr>\n    <tr>\n      <th>8</th>\n      <td>tt0000016</td>\n      <td>short</td>\n      <td>Barque sortant du port</td>\n      <td>Barque sortant du port</td>\n      <td>0</td>\n      <td>1895.0</td>\n      <td>\\N</td>\n      <td>1</td>\n      <td>Documentary,Short</td>\n      <td>5.9</td>\n      <td>1220</td>\n    </tr>\n    <tr>\n      <th>9</th>\n      <td>tt0000023</td>\n      <td>short</td>\n      <td>The Sea</td>\n      <td>Baignade en mer</td>\n      <td>0</td>\n      <td>1895.0</td>\n      <td>\\N</td>\n      <td>1</td>\n      <td>Documentary,Short</td>\n      <td>5.7</td>\n      <td>1164</td>\n    </tr>\n  </tbody>\n</table>\n</div>"
     },
     "metadata": {},
     "execution_count": 10
    }
   ],
   "source": [
    "# 10\n",
    "merge_bv = pd.merge(basics, votes, on = 'tconst')\n",
    "merge_bv.head(10)"
   ]
  },
  {
   "cell_type": "code",
   "execution_count": 11,
   "metadata": {},
   "outputs": [
    {
     "output_type": "execute_result",
     "data": {
      "text/plain": [
       "       tconst titleType                                       primaryTitle  \\\n",
       "41  tt0002130     movie                                    Dante's Inferno   \n",
       "45  tt0002844     movie          Fantômas: In the Shadow of the Guillotine   \n",
       "46  tt0003037     movie                         Fantomas: The Man in Black   \n",
       "47  tt0003165     movie                  Fantômas: The Dead Man Who Killed   \n",
       "48  tt0003419     movie                              The Student of Prague   \n",
       "50  tt0003643     movie  The Avenging Conscience: or 'Thou Shalt Not Kill'   \n",
       "52  tt0003740     movie                                            Cabiria   \n",
       "55  tt0003930     movie              Fantomas: The Mysterious Finger Print   \n",
       "58  tt0004026     movie                                          The Golem   \n",
       "60  tt0004181     movie                                 Judith of Bethulia   \n",
       "\n",
       "                                        originalTitle isAdult  startYear  \\\n",
       "41                                          L'Inferno       0     1911.0   \n",
       "45              Fantômas - À l'ombre de la guillotine       0     1913.0   \n",
       "46                               Juve contre Fantômas       0     1913.0   \n",
       "47                                    Le mort qui tue       0     1913.0   \n",
       "48                               Der Student von Prag       0     1913.0   \n",
       "50  The Avenging Conscience: or 'Thou Shalt Not Kill'       0     1914.0   \n",
       "52                                            Cabiria       0     1914.0   \n",
       "55                           Fantômas contre Fantômas       0     1914.0   \n",
       "58                                          Der Golem       0     1915.0   \n",
       "60                                 Judith of Bethulia       0     1914.0   \n",
       "\n",
       "   endYear runtimeMinutes                   genres  averageRating  numVotes  \n",
       "41      \\N             71  Adventure,Drama,Fantasy            7.0      2331  \n",
       "45      \\N             54              Crime,Drama            7.0      1974  \n",
       "46      \\N             61              Crime,Drama            7.0      1368  \n",
       "47      \\N             90      Crime,Drama,Mystery            7.0      1070  \n",
       "48      \\N             85     Drama,Fantasy,Horror            6.5      1823  \n",
       "50      \\N             78       Crime,Drama,Horror            6.4      1133  \n",
       "52      \\N            148  Adventure,Drama,History            7.1      3148  \n",
       "55      \\N             59              Crime,Drama            6.9      1177  \n",
       "58      \\N             60                   Horror            6.8      1051  \n",
       "60      \\N             61                    Drama            6.1      1252  "
      ],
      "text/html": "<div>\n<style scoped>\n    .dataframe tbody tr th:only-of-type {\n        vertical-align: middle;\n    }\n\n    .dataframe tbody tr th {\n        vertical-align: top;\n    }\n\n    .dataframe thead th {\n        text-align: right;\n    }\n</style>\n<table border=\"1\" class=\"dataframe\">\n  <thead>\n    <tr style=\"text-align: right;\">\n      <th></th>\n      <th>tconst</th>\n      <th>titleType</th>\n      <th>primaryTitle</th>\n      <th>originalTitle</th>\n      <th>isAdult</th>\n      <th>startYear</th>\n      <th>endYear</th>\n      <th>runtimeMinutes</th>\n      <th>genres</th>\n      <th>averageRating</th>\n      <th>numVotes</th>\n    </tr>\n  </thead>\n  <tbody>\n    <tr>\n      <th>41</th>\n      <td>tt0002130</td>\n      <td>movie</td>\n      <td>Dante's Inferno</td>\n      <td>L'Inferno</td>\n      <td>0</td>\n      <td>1911.0</td>\n      <td>\\N</td>\n      <td>71</td>\n      <td>Adventure,Drama,Fantasy</td>\n      <td>7.0</td>\n      <td>2331</td>\n    </tr>\n    <tr>\n      <th>45</th>\n      <td>tt0002844</td>\n      <td>movie</td>\n      <td>Fantômas: In the Shadow of the Guillotine</td>\n      <td>Fantômas - À l'ombre de la guillotine</td>\n      <td>0</td>\n      <td>1913.0</td>\n      <td>\\N</td>\n      <td>54</td>\n      <td>Crime,Drama</td>\n      <td>7.0</td>\n      <td>1974</td>\n    </tr>\n    <tr>\n      <th>46</th>\n      <td>tt0003037</td>\n      <td>movie</td>\n      <td>Fantomas: The Man in Black</td>\n      <td>Juve contre Fantômas</td>\n      <td>0</td>\n      <td>1913.0</td>\n      <td>\\N</td>\n      <td>61</td>\n      <td>Crime,Drama</td>\n      <td>7.0</td>\n      <td>1368</td>\n    </tr>\n    <tr>\n      <th>47</th>\n      <td>tt0003165</td>\n      <td>movie</td>\n      <td>Fantômas: The Dead Man Who Killed</td>\n      <td>Le mort qui tue</td>\n      <td>0</td>\n      <td>1913.0</td>\n      <td>\\N</td>\n      <td>90</td>\n      <td>Crime,Drama,Mystery</td>\n      <td>7.0</td>\n      <td>1070</td>\n    </tr>\n    <tr>\n      <th>48</th>\n      <td>tt0003419</td>\n      <td>movie</td>\n      <td>The Student of Prague</td>\n      <td>Der Student von Prag</td>\n      <td>0</td>\n      <td>1913.0</td>\n      <td>\\N</td>\n      <td>85</td>\n      <td>Drama,Fantasy,Horror</td>\n      <td>6.5</td>\n      <td>1823</td>\n    </tr>\n    <tr>\n      <th>50</th>\n      <td>tt0003643</td>\n      <td>movie</td>\n      <td>The Avenging Conscience: or 'Thou Shalt Not Kill'</td>\n      <td>The Avenging Conscience: or 'Thou Shalt Not Kill'</td>\n      <td>0</td>\n      <td>1914.0</td>\n      <td>\\N</td>\n      <td>78</td>\n      <td>Crime,Drama,Horror</td>\n      <td>6.4</td>\n      <td>1133</td>\n    </tr>\n    <tr>\n      <th>52</th>\n      <td>tt0003740</td>\n      <td>movie</td>\n      <td>Cabiria</td>\n      <td>Cabiria</td>\n      <td>0</td>\n      <td>1914.0</td>\n      <td>\\N</td>\n      <td>148</td>\n      <td>Adventure,Drama,History</td>\n      <td>7.1</td>\n      <td>3148</td>\n    </tr>\n    <tr>\n      <th>55</th>\n      <td>tt0003930</td>\n      <td>movie</td>\n      <td>Fantomas: The Mysterious Finger Print</td>\n      <td>Fantômas contre Fantômas</td>\n      <td>0</td>\n      <td>1914.0</td>\n      <td>\\N</td>\n      <td>59</td>\n      <td>Crime,Drama</td>\n      <td>6.9</td>\n      <td>1177</td>\n    </tr>\n    <tr>\n      <th>58</th>\n      <td>tt0004026</td>\n      <td>movie</td>\n      <td>The Golem</td>\n      <td>Der Golem</td>\n      <td>0</td>\n      <td>1915.0</td>\n      <td>\\N</td>\n      <td>60</td>\n      <td>Horror</td>\n      <td>6.8</td>\n      <td>1051</td>\n    </tr>\n    <tr>\n      <th>60</th>\n      <td>tt0004181</td>\n      <td>movie</td>\n      <td>Judith of Bethulia</td>\n      <td>Judith of Bethulia</td>\n      <td>0</td>\n      <td>1914.0</td>\n      <td>\\N</td>\n      <td>61</td>\n      <td>Drama</td>\n      <td>6.1</td>\n      <td>1252</td>\n    </tr>\n  </tbody>\n</table>\n</div>"
     },
     "metadata": {},
     "execution_count": 11
    }
   ],
   "source": [
    "# 11\n",
    "year2 = merge_bv[(merge_bv['startYear'] >= 1900) & (merge_bv['startYear'] < 2000) & (merge_bv['titleType'] == \"movie\")]\n",
    "year2.head(10)"
   ]
  },
  {
   "cell_type": "code",
   "execution_count": 12,
   "metadata": {},
   "outputs": [
    {
     "output_type": "execute_result",
     "data": {
      "text/plain": [
       "          tconst titleType            primaryTitle            originalTitle  \\\n",
       "38259  tt1935109     movie           Dipu Number 2            Dipu Number 2   \n",
       "38939  tt2044774     movie                The High                  El-Keif   \n",
       "39741  tt2149814     movie             Wild Desire       Raghba Motawahesha   \n",
       "39944  tt2186669     movie      48 Sa'aa Fi Israel       48 Sa'aa Fi Israel   \n",
       "40120  tt2210725     movie              Khamsa Bab               Khamsa Bab   \n",
       "40928  tt2330098     movie                 Upendra                  Upendra   \n",
       "44125  tt3178292     movie      A: Film by Upendra       A: Film by Upendra   \n",
       "44176  tt3189256     movie                      Om                       Om   \n",
       "46431  tt3834956     movie     Mission in Tel Aviv      Mohemma Fi Tel Aviv   \n",
       "54438  tt6725014     movie  Scenes from a Marriage  Scener ur ett äktenskap   \n",
       "\n",
       "      isAdult  startYear endYear runtimeMinutes              genres  \\\n",
       "38259       0     1996.0      \\N            154    Adventure,Family   \n",
       "38939       0     1985.0      \\N            118        Comedy,Drama   \n",
       "39741       0     1992.0      \\N            110               Drama   \n",
       "39944       0     1998.0      \\N             \\N      Drama,Thriller   \n",
       "40120       0     1983.0      \\N             \\N        Comedy,Drama   \n",
       "40928       0     1999.0      \\N            138      Drama,Thriller   \n",
       "44125       0     1998.0      \\N            150               Drama   \n",
       "44176       0     1995.0      \\N            150  Action,Crime,Drama   \n",
       "46431       0     1992.0      \\N            118            Thriller   \n",
       "54438       0     1974.0      \\N            169               Drama   \n",
       "\n",
       "       averageRating  numVotes  \n",
       "38259            8.9      2031  \n",
       "38939            8.5      1714  \n",
       "39741            6.1      1779  \n",
       "39944            6.0      1760  \n",
       "40120            5.7      1552  \n",
       "40928            8.8      2431  \n",
       "44125            8.7      1723  \n",
       "44176            8.8      2600  \n",
       "46431            5.7      1626  \n",
       "54438            8.4      4266  "
      ],
      "text/html": "<div>\n<style scoped>\n    .dataframe tbody tr th:only-of-type {\n        vertical-align: middle;\n    }\n\n    .dataframe tbody tr th {\n        vertical-align: top;\n    }\n\n    .dataframe thead th {\n        text-align: right;\n    }\n</style>\n<table border=\"1\" class=\"dataframe\">\n  <thead>\n    <tr style=\"text-align: right;\">\n      <th></th>\n      <th>tconst</th>\n      <th>titleType</th>\n      <th>primaryTitle</th>\n      <th>originalTitle</th>\n      <th>isAdult</th>\n      <th>startYear</th>\n      <th>endYear</th>\n      <th>runtimeMinutes</th>\n      <th>genres</th>\n      <th>averageRating</th>\n      <th>numVotes</th>\n    </tr>\n  </thead>\n  <tbody>\n    <tr>\n      <th>38259</th>\n      <td>tt1935109</td>\n      <td>movie</td>\n      <td>Dipu Number 2</td>\n      <td>Dipu Number 2</td>\n      <td>0</td>\n      <td>1996.0</td>\n      <td>\\N</td>\n      <td>154</td>\n      <td>Adventure,Family</td>\n      <td>8.9</td>\n      <td>2031</td>\n    </tr>\n    <tr>\n      <th>38939</th>\n      <td>tt2044774</td>\n      <td>movie</td>\n      <td>The High</td>\n      <td>El-Keif</td>\n      <td>0</td>\n      <td>1985.0</td>\n      <td>\\N</td>\n      <td>118</td>\n      <td>Comedy,Drama</td>\n      <td>8.5</td>\n      <td>1714</td>\n    </tr>\n    <tr>\n      <th>39741</th>\n      <td>tt2149814</td>\n      <td>movie</td>\n      <td>Wild Desire</td>\n      <td>Raghba Motawahesha</td>\n      <td>0</td>\n      <td>1992.0</td>\n      <td>\\N</td>\n      <td>110</td>\n      <td>Drama</td>\n      <td>6.1</td>\n      <td>1779</td>\n    </tr>\n    <tr>\n      <th>39944</th>\n      <td>tt2186669</td>\n      <td>movie</td>\n      <td>48 Sa'aa Fi Israel</td>\n      <td>48 Sa'aa Fi Israel</td>\n      <td>0</td>\n      <td>1998.0</td>\n      <td>\\N</td>\n      <td>\\N</td>\n      <td>Drama,Thriller</td>\n      <td>6.0</td>\n      <td>1760</td>\n    </tr>\n    <tr>\n      <th>40120</th>\n      <td>tt2210725</td>\n      <td>movie</td>\n      <td>Khamsa Bab</td>\n      <td>Khamsa Bab</td>\n      <td>0</td>\n      <td>1983.0</td>\n      <td>\\N</td>\n      <td>\\N</td>\n      <td>Comedy,Drama</td>\n      <td>5.7</td>\n      <td>1552</td>\n    </tr>\n    <tr>\n      <th>40928</th>\n      <td>tt2330098</td>\n      <td>movie</td>\n      <td>Upendra</td>\n      <td>Upendra</td>\n      <td>0</td>\n      <td>1999.0</td>\n      <td>\\N</td>\n      <td>138</td>\n      <td>Drama,Thriller</td>\n      <td>8.8</td>\n      <td>2431</td>\n    </tr>\n    <tr>\n      <th>44125</th>\n      <td>tt3178292</td>\n      <td>movie</td>\n      <td>A: Film by Upendra</td>\n      <td>A: Film by Upendra</td>\n      <td>0</td>\n      <td>1998.0</td>\n      <td>\\N</td>\n      <td>150</td>\n      <td>Drama</td>\n      <td>8.7</td>\n      <td>1723</td>\n    </tr>\n    <tr>\n      <th>44176</th>\n      <td>tt3189256</td>\n      <td>movie</td>\n      <td>Om</td>\n      <td>Om</td>\n      <td>0</td>\n      <td>1995.0</td>\n      <td>\\N</td>\n      <td>150</td>\n      <td>Action,Crime,Drama</td>\n      <td>8.8</td>\n      <td>2600</td>\n    </tr>\n    <tr>\n      <th>46431</th>\n      <td>tt3834956</td>\n      <td>movie</td>\n      <td>Mission in Tel Aviv</td>\n      <td>Mohemma Fi Tel Aviv</td>\n      <td>0</td>\n      <td>1992.0</td>\n      <td>\\N</td>\n      <td>118</td>\n      <td>Thriller</td>\n      <td>5.7</td>\n      <td>1626</td>\n    </tr>\n    <tr>\n      <th>54438</th>\n      <td>tt6725014</td>\n      <td>movie</td>\n      <td>Scenes from a Marriage</td>\n      <td>Scener ur ett äktenskap</td>\n      <td>0</td>\n      <td>1974.0</td>\n      <td>\\N</td>\n      <td>169</td>\n      <td>Drama</td>\n      <td>8.4</td>\n      <td>4266</td>\n    </tr>\n  </tbody>\n</table>\n</div>"
     },
     "metadata": {},
     "execution_count": 12
    }
   ],
   "source": [
    "# 12\n",
    "year2.tail(10)"
   ]
  },
  {
   "cell_type": "code",
   "execution_count": 13,
   "metadata": {},
   "outputs": [
    {
     "output_type": "execute_result",
     "data": {
      "text/plain": [
       "    startYear    values\n",
       "0      1911.0  7.000000\n",
       "1      1913.0  6.875000\n",
       "2      1914.0  6.560000\n",
       "3      1915.0  6.760000\n",
       "4      1916.0  6.950000\n",
       "..        ...       ...\n",
       "83     1995.0  6.428836\n",
       "84     1996.0  6.326515\n",
       "85     1997.0  6.416476\n",
       "86     1998.0  6.425386\n",
       "87     1999.0  6.412656\n",
       "\n",
       "[88 rows x 2 columns]"
      ],
      "text/html": "<div>\n<style scoped>\n    .dataframe tbody tr th:only-of-type {\n        vertical-align: middle;\n    }\n\n    .dataframe tbody tr th {\n        vertical-align: top;\n    }\n\n    .dataframe thead th {\n        text-align: right;\n    }\n</style>\n<table border=\"1\" class=\"dataframe\">\n  <thead>\n    <tr style=\"text-align: right;\">\n      <th></th>\n      <th>startYear</th>\n      <th>values</th>\n    </tr>\n  </thead>\n  <tbody>\n    <tr>\n      <th>0</th>\n      <td>1911.0</td>\n      <td>7.000000</td>\n    </tr>\n    <tr>\n      <th>1</th>\n      <td>1913.0</td>\n      <td>6.875000</td>\n    </tr>\n    <tr>\n      <th>2</th>\n      <td>1914.0</td>\n      <td>6.560000</td>\n    </tr>\n    <tr>\n      <th>3</th>\n      <td>1915.0</td>\n      <td>6.760000</td>\n    </tr>\n    <tr>\n      <th>4</th>\n      <td>1916.0</td>\n      <td>6.950000</td>\n    </tr>\n    <tr>\n      <th>...</th>\n      <td>...</td>\n      <td>...</td>\n    </tr>\n    <tr>\n      <th>83</th>\n      <td>1995.0</td>\n      <td>6.428836</td>\n    </tr>\n    <tr>\n      <th>84</th>\n      <td>1996.0</td>\n      <td>6.326515</td>\n    </tr>\n    <tr>\n      <th>85</th>\n      <td>1997.0</td>\n      <td>6.416476</td>\n    </tr>\n    <tr>\n      <th>86</th>\n      <td>1998.0</td>\n      <td>6.425386</td>\n    </tr>\n    <tr>\n      <th>87</th>\n      <td>1999.0</td>\n      <td>6.412656</td>\n    </tr>\n  </tbody>\n</table>\n<p>88 rows × 2 columns</p>\n</div>"
     },
     "metadata": {},
     "execution_count": 13
    }
   ],
   "source": [
    "# 13\n",
    "result = year2.groupby('startYear').agg(values = ('averageRating', np.mean)).reset_index()\n",
    "result"
   ]
  },
  {
   "cell_type": "code",
   "execution_count": 14,
   "metadata": {},
   "outputs": [
    {
     "output_type": "execute_result",
     "data": {
      "text/plain": [
       "    startYear\n",
       "17     1929.0"
      ],
      "text/html": "<div>\n<style scoped>\n    .dataframe tbody tr th:only-of-type {\n        vertical-align: middle;\n    }\n\n    .dataframe tbody tr th {\n        vertical-align: top;\n    }\n\n    .dataframe thead th {\n        text-align: right;\n    }\n</style>\n<table border=\"1\" class=\"dataframe\">\n  <thead>\n    <tr style=\"text-align: right;\">\n      <th></th>\n      <th>startYear</th>\n    </tr>\n  </thead>\n  <tbody>\n    <tr>\n      <th>17</th>\n      <td>1929.0</td>\n    </tr>\n  </tbody>\n</table>\n</div>"
     },
     "metadata": {},
     "execution_count": 14
    }
   ],
   "source": [
    "# 14\n",
    "maximum = 0\n",
    "final_year = 0\n",
    "for i in range(1, len(result)):\n",
    "    x = result.loc[i, 'values']\n",
    "    y = result.loc[i-1, 'values']\n",
    "    temp = abs(x - y)\n",
    "    if (temp > maximum):\n",
    "        maximum = temp\n",
    "        final_year = result.loc[[i], ['startYear']]\n",
    "final_year"
   ]
  },
  {
   "cell_type": "code",
   "execution_count": 15,
   "metadata": {},
   "outputs": [
    {
     "output_type": "execute_result",
     "data": {
      "text/plain": [
       "      tconst titleType                                 primaryTitle  \\\n",
       "0  tt0000001     short                                   Carmencita   \n",
       "1  tt0000003     short                               Pauvre Pierrot   \n",
       "2  tt0000005     short                             Blacksmith Scene   \n",
       "3  tt0000008     short       Edison Kinetoscopic Record of a Sneeze   \n",
       "4  tt0000010     short                          Leaving the Factory   \n",
       "5  tt0000012     short                       The Arrival of a Train   \n",
       "6  tt0000013     short  The Photographical Congress Arrives in Lyon   \n",
       "7  tt0000014     short                          The Waterer Watered   \n",
       "8  tt0000016     short                       Barque sortant du port   \n",
       "9  tt0000023     short                                      The Sea   \n",
       "\n",
       "                                       originalTitle isAdult  startYear  \\\n",
       "0                                         Carmencita       0     1894.0   \n",
       "1                                     Pauvre Pierrot       0     1892.0   \n",
       "2                                   Blacksmith Scene       0     1893.0   \n",
       "3             Edison Kinetoscopic Record of a Sneeze       0     1894.0   \n",
       "4                La sortie de l'usine Lumière à Lyon       0     1895.0   \n",
       "5                   L'arrivée d'un train à La Ciotat       0     1896.0   \n",
       "6  Neuville-sur-Saône: Débarquement du congrès de...       0     1895.0   \n",
       "7                                  L'arroseur arrosé       0     1895.0   \n",
       "8                             Barque sortant du port       0     1895.0   \n",
       "9                                    Baignade en mer       0     1895.0   \n",
       "\n",
       "  endYear runtimeMinutes                    genres  averageRating  numVotes  \n",
       "0      \\N              1         Documentary,Short            5.6      1668  \n",
       "1      \\N              4  Animation,Comedy,Romance            6.5      1392  \n",
       "2      \\N              1              Comedy,Short            6.2      2179  \n",
       "3      \\N              1         Documentary,Short            5.4      1838  \n",
       "4      \\N              1         Documentary,Short            6.9      6146  \n",
       "5      \\N              1         Documentary,Short            7.4     10542  \n",
       "6      \\N              1         Documentary,Short            5.7      1597  \n",
       "7      \\N              1              Comedy,Short            7.1      4702  \n",
       "8      \\N              1         Documentary,Short            5.9      1220  \n",
       "9      \\N              1         Documentary,Short            5.7      1164  "
      ],
      "text/html": "<div>\n<style scoped>\n    .dataframe tbody tr th:only-of-type {\n        vertical-align: middle;\n    }\n\n    .dataframe tbody tr th {\n        vertical-align: top;\n    }\n\n    .dataframe thead th {\n        text-align: right;\n    }\n</style>\n<table border=\"1\" class=\"dataframe\">\n  <thead>\n    <tr style=\"text-align: right;\">\n      <th></th>\n      <th>tconst</th>\n      <th>titleType</th>\n      <th>primaryTitle</th>\n      <th>originalTitle</th>\n      <th>isAdult</th>\n      <th>startYear</th>\n      <th>endYear</th>\n      <th>runtimeMinutes</th>\n      <th>genres</th>\n      <th>averageRating</th>\n      <th>numVotes</th>\n    </tr>\n  </thead>\n  <tbody>\n    <tr>\n      <th>0</th>\n      <td>tt0000001</td>\n      <td>short</td>\n      <td>Carmencita</td>\n      <td>Carmencita</td>\n      <td>0</td>\n      <td>1894.0</td>\n      <td>\\N</td>\n      <td>1</td>\n      <td>Documentary,Short</td>\n      <td>5.6</td>\n      <td>1668</td>\n    </tr>\n    <tr>\n      <th>1</th>\n      <td>tt0000003</td>\n      <td>short</td>\n      <td>Pauvre Pierrot</td>\n      <td>Pauvre Pierrot</td>\n      <td>0</td>\n      <td>1892.0</td>\n      <td>\\N</td>\n      <td>4</td>\n      <td>Animation,Comedy,Romance</td>\n      <td>6.5</td>\n      <td>1392</td>\n    </tr>\n    <tr>\n      <th>2</th>\n      <td>tt0000005</td>\n      <td>short</td>\n      <td>Blacksmith Scene</td>\n      <td>Blacksmith Scene</td>\n      <td>0</td>\n      <td>1893.0</td>\n      <td>\\N</td>\n      <td>1</td>\n      <td>Comedy,Short</td>\n      <td>6.2</td>\n      <td>2179</td>\n    </tr>\n    <tr>\n      <th>3</th>\n      <td>tt0000008</td>\n      <td>short</td>\n      <td>Edison Kinetoscopic Record of a Sneeze</td>\n      <td>Edison Kinetoscopic Record of a Sneeze</td>\n      <td>0</td>\n      <td>1894.0</td>\n      <td>\\N</td>\n      <td>1</td>\n      <td>Documentary,Short</td>\n      <td>5.4</td>\n      <td>1838</td>\n    </tr>\n    <tr>\n      <th>4</th>\n      <td>tt0000010</td>\n      <td>short</td>\n      <td>Leaving the Factory</td>\n      <td>La sortie de l'usine Lumière à Lyon</td>\n      <td>0</td>\n      <td>1895.0</td>\n      <td>\\N</td>\n      <td>1</td>\n      <td>Documentary,Short</td>\n      <td>6.9</td>\n      <td>6146</td>\n    </tr>\n    <tr>\n      <th>5</th>\n      <td>tt0000012</td>\n      <td>short</td>\n      <td>The Arrival of a Train</td>\n      <td>L'arrivée d'un train à La Ciotat</td>\n      <td>0</td>\n      <td>1896.0</td>\n      <td>\\N</td>\n      <td>1</td>\n      <td>Documentary,Short</td>\n      <td>7.4</td>\n      <td>10542</td>\n    </tr>\n    <tr>\n      <th>6</th>\n      <td>tt0000013</td>\n      <td>short</td>\n      <td>The Photographical Congress Arrives in Lyon</td>\n      <td>Neuville-sur-Saône: Débarquement du congrès de...</td>\n      <td>0</td>\n      <td>1895.0</td>\n      <td>\\N</td>\n      <td>1</td>\n      <td>Documentary,Short</td>\n      <td>5.7</td>\n      <td>1597</td>\n    </tr>\n    <tr>\n      <th>7</th>\n      <td>tt0000014</td>\n      <td>short</td>\n      <td>The Waterer Watered</td>\n      <td>L'arroseur arrosé</td>\n      <td>0</td>\n      <td>1895.0</td>\n      <td>\\N</td>\n      <td>1</td>\n      <td>Comedy,Short</td>\n      <td>7.1</td>\n      <td>4702</td>\n    </tr>\n    <tr>\n      <th>8</th>\n      <td>tt0000016</td>\n      <td>short</td>\n      <td>Barque sortant du port</td>\n      <td>Barque sortant du port</td>\n      <td>0</td>\n      <td>1895.0</td>\n      <td>\\N</td>\n      <td>1</td>\n      <td>Documentary,Short</td>\n      <td>5.9</td>\n      <td>1220</td>\n    </tr>\n    <tr>\n      <th>9</th>\n      <td>tt0000023</td>\n      <td>short</td>\n      <td>The Sea</td>\n      <td>Baignade en mer</td>\n      <td>0</td>\n      <td>1895.0</td>\n      <td>\\N</td>\n      <td>1</td>\n      <td>Documentary,Short</td>\n      <td>5.7</td>\n      <td>1164</td>\n    </tr>\n  </tbody>\n</table>\n</div>"
     },
     "metadata": {},
     "execution_count": 15
    }
   ],
   "source": [
    "# 15\n",
    "merge_bv.head(10)"
   ]
  },
  {
   "cell_type": "code",
   "execution_count": 16,
   "metadata": {},
   "outputs": [
    {
     "output_type": "execute_result",
     "data": {
      "text/plain": [
       "          tconst titleType                               primaryTitle  \\\n",
       "41     tt0002130     movie                            Dante's Inferno   \n",
       "45     tt0002844     movie  Fantômas: In the Shadow of the Guillotine   \n",
       "46     tt0003037     movie                 Fantomas: The Man in Black   \n",
       "47     tt0003165     movie          Fantômas: The Dead Man Who Killed   \n",
       "48     tt0003419     movie                      The Student of Prague   \n",
       "...          ...       ...                                        ...   \n",
       "59283  tt9894470     movie                                        VFW   \n",
       "59286  tt9898858     movie                            Coffee & Kareem   \n",
       "59292  tt9900782     movie                                     Kaithi   \n",
       "59293  tt9904802     movie                                Enemy Lines   \n",
       "59296  tt9911196     movie                        The Marriage Escape   \n",
       "\n",
       "                               originalTitle isAdult  startYear endYear  \\\n",
       "41                                 L'Inferno       0     1911.0      \\N   \n",
       "45     Fantômas - À l'ombre de la guillotine       0     1913.0      \\N   \n",
       "46                      Juve contre Fantômas       0     1913.0      \\N   \n",
       "47                           Le mort qui tue       0     1913.0      \\N   \n",
       "48                      Der Student von Prag       0     1913.0      \\N   \n",
       "...                                      ...     ...        ...     ...   \n",
       "59283                                    VFW       0     2019.0      \\N   \n",
       "59286                        Coffee & Kareem       0     2020.0      \\N   \n",
       "59292                                 Kaithi       0     2019.0      \\N   \n",
       "59293                            Enemy Lines       0     2020.0      \\N   \n",
       "59296         De beentjes van Sint-Hildegard       0     2020.0      \\N   \n",
       "\n",
       "      runtimeMinutes                   genres  averageRating  numVotes  \n",
       "41                71  Adventure,Drama,Fantasy            7.0      2331  \n",
       "45                54              Crime,Drama            7.0      1974  \n",
       "46                61              Crime,Drama            7.0      1368  \n",
       "47                90      Crime,Drama,Mystery            7.0      1070  \n",
       "48                85     Drama,Fantasy,Horror            6.5      1823  \n",
       "...              ...                      ...            ...       ...  \n",
       "59283             92      Action,Crime,Horror            6.1      5221  \n",
       "59286             88            Action,Comedy            5.1     11394  \n",
       "59292            145          Action,Thriller            8.5     10887  \n",
       "59293             92                      War            4.8      1099  \n",
       "59296            103             Comedy,Drama            7.7      1033  \n",
       "\n",
       "[32465 rows x 11 columns]"
      ],
      "text/html": "<div>\n<style scoped>\n    .dataframe tbody tr th:only-of-type {\n        vertical-align: middle;\n    }\n\n    .dataframe tbody tr th {\n        vertical-align: top;\n    }\n\n    .dataframe thead th {\n        text-align: right;\n    }\n</style>\n<table border=\"1\" class=\"dataframe\">\n  <thead>\n    <tr style=\"text-align: right;\">\n      <th></th>\n      <th>tconst</th>\n      <th>titleType</th>\n      <th>primaryTitle</th>\n      <th>originalTitle</th>\n      <th>isAdult</th>\n      <th>startYear</th>\n      <th>endYear</th>\n      <th>runtimeMinutes</th>\n      <th>genres</th>\n      <th>averageRating</th>\n      <th>numVotes</th>\n    </tr>\n  </thead>\n  <tbody>\n    <tr>\n      <th>41</th>\n      <td>tt0002130</td>\n      <td>movie</td>\n      <td>Dante's Inferno</td>\n      <td>L'Inferno</td>\n      <td>0</td>\n      <td>1911.0</td>\n      <td>\\N</td>\n      <td>71</td>\n      <td>Adventure,Drama,Fantasy</td>\n      <td>7.0</td>\n      <td>2331</td>\n    </tr>\n    <tr>\n      <th>45</th>\n      <td>tt0002844</td>\n      <td>movie</td>\n      <td>Fantômas: In the Shadow of the Guillotine</td>\n      <td>Fantômas - À l'ombre de la guillotine</td>\n      <td>0</td>\n      <td>1913.0</td>\n      <td>\\N</td>\n      <td>54</td>\n      <td>Crime,Drama</td>\n      <td>7.0</td>\n      <td>1974</td>\n    </tr>\n    <tr>\n      <th>46</th>\n      <td>tt0003037</td>\n      <td>movie</td>\n      <td>Fantomas: The Man in Black</td>\n      <td>Juve contre Fantômas</td>\n      <td>0</td>\n      <td>1913.0</td>\n      <td>\\N</td>\n      <td>61</td>\n      <td>Crime,Drama</td>\n      <td>7.0</td>\n      <td>1368</td>\n    </tr>\n    <tr>\n      <th>47</th>\n      <td>tt0003165</td>\n      <td>movie</td>\n      <td>Fantômas: The Dead Man Who Killed</td>\n      <td>Le mort qui tue</td>\n      <td>0</td>\n      <td>1913.0</td>\n      <td>\\N</td>\n      <td>90</td>\n      <td>Crime,Drama,Mystery</td>\n      <td>7.0</td>\n      <td>1070</td>\n    </tr>\n    <tr>\n      <th>48</th>\n      <td>tt0003419</td>\n      <td>movie</td>\n      <td>The Student of Prague</td>\n      <td>Der Student von Prag</td>\n      <td>0</td>\n      <td>1913.0</td>\n      <td>\\N</td>\n      <td>85</td>\n      <td>Drama,Fantasy,Horror</td>\n      <td>6.5</td>\n      <td>1823</td>\n    </tr>\n    <tr>\n      <th>...</th>\n      <td>...</td>\n      <td>...</td>\n      <td>...</td>\n      <td>...</td>\n      <td>...</td>\n      <td>...</td>\n      <td>...</td>\n      <td>...</td>\n      <td>...</td>\n      <td>...</td>\n      <td>...</td>\n    </tr>\n    <tr>\n      <th>59283</th>\n      <td>tt9894470</td>\n      <td>movie</td>\n      <td>VFW</td>\n      <td>VFW</td>\n      <td>0</td>\n      <td>2019.0</td>\n      <td>\\N</td>\n      <td>92</td>\n      <td>Action,Crime,Horror</td>\n      <td>6.1</td>\n      <td>5221</td>\n    </tr>\n    <tr>\n      <th>59286</th>\n      <td>tt9898858</td>\n      <td>movie</td>\n      <td>Coffee &amp; Kareem</td>\n      <td>Coffee &amp; Kareem</td>\n      <td>0</td>\n      <td>2020.0</td>\n      <td>\\N</td>\n      <td>88</td>\n      <td>Action,Comedy</td>\n      <td>5.1</td>\n      <td>11394</td>\n    </tr>\n    <tr>\n      <th>59292</th>\n      <td>tt9900782</td>\n      <td>movie</td>\n      <td>Kaithi</td>\n      <td>Kaithi</td>\n      <td>0</td>\n      <td>2019.0</td>\n      <td>\\N</td>\n      <td>145</td>\n      <td>Action,Thriller</td>\n      <td>8.5</td>\n      <td>10887</td>\n    </tr>\n    <tr>\n      <th>59293</th>\n      <td>tt9904802</td>\n      <td>movie</td>\n      <td>Enemy Lines</td>\n      <td>Enemy Lines</td>\n      <td>0</td>\n      <td>2020.0</td>\n      <td>\\N</td>\n      <td>92</td>\n      <td>War</td>\n      <td>4.8</td>\n      <td>1099</td>\n    </tr>\n    <tr>\n      <th>59296</th>\n      <td>tt9911196</td>\n      <td>movie</td>\n      <td>The Marriage Escape</td>\n      <td>De beentjes van Sint-Hildegard</td>\n      <td>0</td>\n      <td>2020.0</td>\n      <td>\\N</td>\n      <td>103</td>\n      <td>Comedy,Drama</td>\n      <td>7.7</td>\n      <td>1033</td>\n    </tr>\n  </tbody>\n</table>\n<p>32465 rows × 11 columns</p>\n</div>"
     },
     "metadata": {},
     "execution_count": 16
    }
   ],
   "source": [
    "# 16\n",
    "movies = merge_bv[merge_bv['titleType'] == \"movie\"]\n",
    "movies"
   ]
  },
  {
   "cell_type": "code",
   "execution_count": 17,
   "metadata": {},
   "outputs": [],
   "source": [
    "# 17\n",
    "eachyear = movies.groupby('startYear').agg(avg = ('averageRating', np.mean)).reset_index()"
   ]
  },
  {
   "cell_type": "code",
   "execution_count": 18,
   "metadata": {},
   "outputs": [
    {
     "output_type": "execute_result",
     "data": {
      "text/plain": [
       "     startYear       avg\n",
       "0       1911.0  7.000000\n",
       "1       1913.0  6.875000\n",
       "2       1914.0  6.560000\n",
       "3       1915.0  6.760000\n",
       "4       1916.0  6.950000\n",
       "..         ...       ...\n",
       "104     2016.0  6.187610\n",
       "105     2017.0  6.168917\n",
       "106     2018.0  6.265904\n",
       "107     2019.0  6.301036\n",
       "108     2020.0  6.069435\n",
       "\n",
       "[109 rows x 2 columns]"
      ],
      "text/html": "<div>\n<style scoped>\n    .dataframe tbody tr th:only-of-type {\n        vertical-align: middle;\n    }\n\n    .dataframe tbody tr th {\n        vertical-align: top;\n    }\n\n    .dataframe thead th {\n        text-align: right;\n    }\n</style>\n<table border=\"1\" class=\"dataframe\">\n  <thead>\n    <tr style=\"text-align: right;\">\n      <th></th>\n      <th>startYear</th>\n      <th>avg</th>\n    </tr>\n  </thead>\n  <tbody>\n    <tr>\n      <th>0</th>\n      <td>1911.0</td>\n      <td>7.000000</td>\n    </tr>\n    <tr>\n      <th>1</th>\n      <td>1913.0</td>\n      <td>6.875000</td>\n    </tr>\n    <tr>\n      <th>2</th>\n      <td>1914.0</td>\n      <td>6.560000</td>\n    </tr>\n    <tr>\n      <th>3</th>\n      <td>1915.0</td>\n      <td>6.760000</td>\n    </tr>\n    <tr>\n      <th>4</th>\n      <td>1916.0</td>\n      <td>6.950000</td>\n    </tr>\n    <tr>\n      <th>...</th>\n      <td>...</td>\n      <td>...</td>\n    </tr>\n    <tr>\n      <th>104</th>\n      <td>2016.0</td>\n      <td>6.187610</td>\n    </tr>\n    <tr>\n      <th>105</th>\n      <td>2017.0</td>\n      <td>6.168917</td>\n    </tr>\n    <tr>\n      <th>106</th>\n      <td>2018.0</td>\n      <td>6.265904</td>\n    </tr>\n    <tr>\n      <th>107</th>\n      <td>2019.0</td>\n      <td>6.301036</td>\n    </tr>\n    <tr>\n      <th>108</th>\n      <td>2020.0</td>\n      <td>6.069435</td>\n    </tr>\n  </tbody>\n</table>\n<p>109 rows × 2 columns</p>\n</div>"
     },
     "metadata": {},
     "execution_count": 18
    }
   ],
   "source": [
    "# 18\n",
    "eachyear"
   ]
  },
  {
   "cell_type": "code",
   "execution_count": 19,
   "metadata": {},
   "outputs": [
    {
     "output_type": "execute_result",
     "data": {
      "text/plain": [
       "     startYear       avg\n",
       "99      2011.0  6.163610\n",
       "100     2012.0  6.145479\n",
       "101     2013.0  6.198722\n",
       "102     2014.0  6.188996\n",
       "103     2015.0  6.185207\n",
       "104     2016.0  6.187610\n",
       "105     2017.0  6.168917\n",
       "106     2018.0  6.265904\n",
       "107     2019.0  6.301036\n",
       "108     2020.0  6.069435"
      ],
      "text/html": "<div>\n<style scoped>\n    .dataframe tbody tr th:only-of-type {\n        vertical-align: middle;\n    }\n\n    .dataframe tbody tr th {\n        vertical-align: top;\n    }\n\n    .dataframe thead th {\n        text-align: right;\n    }\n</style>\n<table border=\"1\" class=\"dataframe\">\n  <thead>\n    <tr style=\"text-align: right;\">\n      <th></th>\n      <th>startYear</th>\n      <th>avg</th>\n    </tr>\n  </thead>\n  <tbody>\n    <tr>\n      <th>99</th>\n      <td>2011.0</td>\n      <td>6.163610</td>\n    </tr>\n    <tr>\n      <th>100</th>\n      <td>2012.0</td>\n      <td>6.145479</td>\n    </tr>\n    <tr>\n      <th>101</th>\n      <td>2013.0</td>\n      <td>6.198722</td>\n    </tr>\n    <tr>\n      <th>102</th>\n      <td>2014.0</td>\n      <td>6.188996</td>\n    </tr>\n    <tr>\n      <th>103</th>\n      <td>2015.0</td>\n      <td>6.185207</td>\n    </tr>\n    <tr>\n      <th>104</th>\n      <td>2016.0</td>\n      <td>6.187610</td>\n    </tr>\n    <tr>\n      <th>105</th>\n      <td>2017.0</td>\n      <td>6.168917</td>\n    </tr>\n    <tr>\n      <th>106</th>\n      <td>2018.0</td>\n      <td>6.265904</td>\n    </tr>\n    <tr>\n      <th>107</th>\n      <td>2019.0</td>\n      <td>6.301036</td>\n    </tr>\n    <tr>\n      <th>108</th>\n      <td>2020.0</td>\n      <td>6.069435</td>\n    </tr>\n  </tbody>\n</table>\n</div>"
     },
     "metadata": {},
     "execution_count": 19
    }
   ],
   "source": [
    "# 19\n",
    "eachyear.tail(10)"
   ]
  },
  {
   "cell_type": "code",
   "execution_count": 20,
   "metadata": {},
   "outputs": [
    {
     "output_type": "execute_result",
     "data": {
      "text/plain": [
       "     startYear       avg\n",
       "0       1911.0  7.000000\n",
       "1       1913.0  6.875000\n",
       "2       1914.0  6.560000\n",
       "3       1915.0  6.760000\n",
       "4       1916.0  6.950000\n",
       "..         ...       ...\n",
       "104     2016.0  6.187610\n",
       "105     2017.0  6.168917\n",
       "106     2018.0  6.265904\n",
       "107     2019.0  6.301036\n",
       "108     2020.0  6.069435\n",
       "\n",
       "[108 rows x 2 columns]"
      ],
      "text/html": "<div>\n<style scoped>\n    .dataframe tbody tr th:only-of-type {\n        vertical-align: middle;\n    }\n\n    .dataframe tbody tr th {\n        vertical-align: top;\n    }\n\n    .dataframe thead th {\n        text-align: right;\n    }\n</style>\n<table border=\"1\" class=\"dataframe\">\n  <thead>\n    <tr style=\"text-align: right;\">\n      <th></th>\n      <th>startYear</th>\n      <th>avg</th>\n    </tr>\n  </thead>\n  <tbody>\n    <tr>\n      <th>0</th>\n      <td>1911.0</td>\n      <td>7.000000</td>\n    </tr>\n    <tr>\n      <th>1</th>\n      <td>1913.0</td>\n      <td>6.875000</td>\n    </tr>\n    <tr>\n      <th>2</th>\n      <td>1914.0</td>\n      <td>6.560000</td>\n    </tr>\n    <tr>\n      <th>3</th>\n      <td>1915.0</td>\n      <td>6.760000</td>\n    </tr>\n    <tr>\n      <th>4</th>\n      <td>1916.0</td>\n      <td>6.950000</td>\n    </tr>\n    <tr>\n      <th>...</th>\n      <td>...</td>\n      <td>...</td>\n    </tr>\n    <tr>\n      <th>104</th>\n      <td>2016.0</td>\n      <td>6.187610</td>\n    </tr>\n    <tr>\n      <th>105</th>\n      <td>2017.0</td>\n      <td>6.168917</td>\n    </tr>\n    <tr>\n      <th>106</th>\n      <td>2018.0</td>\n      <td>6.265904</td>\n    </tr>\n    <tr>\n      <th>107</th>\n      <td>2019.0</td>\n      <td>6.301036</td>\n    </tr>\n    <tr>\n      <th>108</th>\n      <td>2020.0</td>\n      <td>6.069435</td>\n    </tr>\n  </tbody>\n</table>\n<p>108 rows × 2 columns</p>\n</div>"
     },
     "metadata": {},
     "execution_count": 20
    }
   ],
   "source": [
    "# 20\n",
    "eachyear = eachyear[eachyear['startYear'] != 2013]\n",
    "eachyear"
   ]
  },
  {
   "cell_type": "code",
   "execution_count": 21,
   "metadata": {},
   "outputs": [
    {
     "output_type": "execute_result",
     "data": {
      "text/plain": [
       "     startYear       avg\n",
       "98      2010.0  6.258824\n",
       "99      2011.0  6.163610\n",
       "100     2012.0  6.145479\n",
       "102     2014.0  6.188996\n",
       "103     2015.0  6.185207\n",
       "104     2016.0  6.187610\n",
       "105     2017.0  6.168917\n",
       "106     2018.0  6.265904\n",
       "107     2019.0  6.301036\n",
       "108     2020.0  6.069435"
      ],
      "text/html": "<div>\n<style scoped>\n    .dataframe tbody tr th:only-of-type {\n        vertical-align: middle;\n    }\n\n    .dataframe tbody tr th {\n        vertical-align: top;\n    }\n\n    .dataframe thead th {\n        text-align: right;\n    }\n</style>\n<table border=\"1\" class=\"dataframe\">\n  <thead>\n    <tr style=\"text-align: right;\">\n      <th></th>\n      <th>startYear</th>\n      <th>avg</th>\n    </tr>\n  </thead>\n  <tbody>\n    <tr>\n      <th>98</th>\n      <td>2010.0</td>\n      <td>6.258824</td>\n    </tr>\n    <tr>\n      <th>99</th>\n      <td>2011.0</td>\n      <td>6.163610</td>\n    </tr>\n    <tr>\n      <th>100</th>\n      <td>2012.0</td>\n      <td>6.145479</td>\n    </tr>\n    <tr>\n      <th>102</th>\n      <td>2014.0</td>\n      <td>6.188996</td>\n    </tr>\n    <tr>\n      <th>103</th>\n      <td>2015.0</td>\n      <td>6.185207</td>\n    </tr>\n    <tr>\n      <th>104</th>\n      <td>2016.0</td>\n      <td>6.187610</td>\n    </tr>\n    <tr>\n      <th>105</th>\n      <td>2017.0</td>\n      <td>6.168917</td>\n    </tr>\n    <tr>\n      <th>106</th>\n      <td>2018.0</td>\n      <td>6.265904</td>\n    </tr>\n    <tr>\n      <th>107</th>\n      <td>2019.0</td>\n      <td>6.301036</td>\n    </tr>\n    <tr>\n      <th>108</th>\n      <td>2020.0</td>\n      <td>6.069435</td>\n    </tr>\n  </tbody>\n</table>\n</div>"
     },
     "metadata": {},
     "execution_count": 21
    }
   ],
   "source": [
    "# 21\n",
    "eachyear.tail(10)"
   ]
  },
  {
   "cell_type": "code",
   "execution_count": 22,
   "metadata": {},
   "outputs": [],
   "source": [
    "# 22\n",
    "from sklearn.linear_model import LinearRegression\n",
    "x = eachyear['startYear'].values.reshape(-1,1)\n",
    "y = eachyear['avg'].values.reshape(-1,1)"
   ]
  },
  {
   "cell_type": "code",
   "execution_count": 23,
   "metadata": {},
   "outputs": [],
   "source": [
    "# 23\n",
    "model = LinearRegression().fit(x,y)"
   ]
  },
  {
   "cell_type": "code",
   "execution_count": 24,
   "metadata": {},
   "outputs": [
    {
     "output_type": "stream",
     "name": "stdout",
     "text": [
      "[[6.23598443]]\n"
     ]
    }
   ],
   "source": [
    "# 24\n",
    "xtest = np.array([2013]).reshape(-1,1)\n",
    "y_pred = model.predict(xtest)\n",
    "print(y_pred)"
   ]
  },
  {
   "cell_type": "code",
   "execution_count": 25,
   "metadata": {},
   "outputs": [],
   "source": [
    "#25 Visualization\n",
    "import matplotlib.pyplot as plt"
   ]
  },
  {
   "cell_type": "code",
   "execution_count": 26,
   "metadata": {},
   "outputs": [
    {
     "output_type": "display_data",
     "data": {
      "text/plain": "<Figure size 432x288 with 1 Axes>",
      "image/svg+xml": "<?xml version=\"1.0\" encoding=\"utf-8\" standalone=\"no\"?>\r\n<!DOCTYPE svg PUBLIC \"-//W3C//DTD SVG 1.1//EN\"\r\n  \"http://www.w3.org/Graphics/SVG/1.1/DTD/svg11.dtd\">\r\n<!-- Created with matplotlib (https://matplotlib.org/) -->\r\n<svg height=\"248.518125pt\" version=\"1.1\" viewBox=\"0 0 372.103125 248.518125\" width=\"372.103125pt\" xmlns=\"http://www.w3.org/2000/svg\" xmlns:xlink=\"http://www.w3.org/1999/xlink\">\r\n <metadata>\r\n  <rdf:RDF xmlns:cc=\"http://creativecommons.org/ns#\" xmlns:dc=\"http://purl.org/dc/elements/1.1/\" xmlns:rdf=\"http://www.w3.org/1999/02/22-rdf-syntax-ns#\">\r\n   <cc:Work>\r\n    <dc:type rdf:resource=\"http://purl.org/dc/dcmitype/StillImage\"/>\r\n    <dc:date>2021-04-22T00:34:27.779547</dc:date>\r\n    <dc:format>image/svg+xml</dc:format>\r\n    <dc:creator>\r\n     <cc:Agent>\r\n      <dc:title>Matplotlib v3.3.4, https://matplotlib.org/</dc:title>\r\n     </cc:Agent>\r\n    </dc:creator>\r\n   </cc:Work>\r\n  </rdf:RDF>\r\n </metadata>\r\n <defs>\r\n  <style type=\"text/css\">*{stroke-linecap:butt;stroke-linejoin:round;}</style>\r\n </defs>\r\n <g id=\"figure_1\">\r\n  <g id=\"patch_1\">\r\n   <path d=\"M 0 248.518125 \r\nL 372.103125 248.518125 \r\nL 372.103125 0 \r\nL 0 0 \r\nz\r\n\" style=\"fill:none;\"/>\r\n  </g>\r\n  <g id=\"axes_1\">\r\n   <g id=\"patch_2\">\r\n    <path d=\"M 30.103125 224.64 \r\nL 364.903125 224.64 \r\nL 364.903125 7.2 \r\nL 30.103125 7.2 \r\nz\r\n\" style=\"fill:#ffffff;\"/>\r\n   </g>\r\n   <g id=\"PathCollection_1\">\r\n    <defs>\r\n     <path d=\"M 0 3 \r\nC 0.795609 3 1.55874 2.683901 2.12132 2.12132 \r\nC 2.683901 1.55874 3 0.795609 3 0 \r\nC 3 -0.795609 2.683901 -1.55874 2.12132 -2.12132 \r\nC 1.55874 -2.683901 0.795609 -3 0 -3 \r\nC -0.795609 -3 -1.55874 -2.683901 -2.12132 -2.12132 \r\nC -2.683901 -1.55874 -3 -0.795609 -3 0 \r\nC -3 0.795609 -2.683901 1.55874 -2.12132 2.12132 \r\nC -1.55874 2.683901 -0.795609 3 0 3 \r\nz\r\n\" id=\"mf0abd97655\" style=\"stroke:#1f77b4;\"/>\r\n    </defs>\r\n    <g clip-path=\"url(#p197a215dd2)\">\r\n     <use style=\"fill:#1f77b4;stroke:#1f77b4;\" x=\"45.321307\" xlink:href=\"#mf0abd97655\" y=\"84.022395\"/>\r\n     <use style=\"fill:#1f77b4;stroke:#1f77b4;\" x=\"50.905961\" xlink:href=\"#mf0abd97655\" y=\"101.583489\"/>\r\n     <use style=\"fill:#1f77b4;stroke:#1f77b4;\" x=\"53.698288\" xlink:href=\"#mf0abd97655\" y=\"145.837446\"/>\r\n     <use style=\"fill:#1f77b4;stroke:#1f77b4;\" x=\"56.490615\" xlink:href=\"#mf0abd97655\" y=\"117.739696\"/>\r\n     <use style=\"fill:#1f77b4;stroke:#1f77b4;\" x=\"59.282942\" xlink:href=\"#mf0abd97655\" y=\"91.046833\"/>\r\n     <use style=\"fill:#1f77b4;stroke:#1f77b4;\" x=\"62.075268\" xlink:href=\"#mf0abd97655\" y=\"76.997957\"/>\r\n     <use style=\"fill:#1f77b4;stroke:#1f77b4;\" x=\"64.867595\" xlink:href=\"#mf0abd97655\" y=\"129.68124\"/>\r\n     <use style=\"fill:#1f77b4;stroke:#1f77b4;\" x=\"67.659922\" xlink:href=\"#mf0abd97655\" y=\"91.587174\"/>\r\n     <use style=\"fill:#1f77b4;stroke:#1f77b4;\" x=\"70.452249\" xlink:href=\"#mf0abd97655\" y=\"85.193135\"/>\r\n     <use style=\"fill:#1f77b4;stroke:#1f77b4;\" x=\"73.244576\" xlink:href=\"#mf0abd97655\" y=\"68.80278\"/>\r\n     <use style=\"fill:#1f77b4;stroke:#1f77b4;\" x=\"76.036903\" xlink:href=\"#mf0abd97655\" y=\"52.093133\"/>\r\n     <use style=\"fill:#1f77b4;stroke:#1f77b4;\" x=\"78.82923\" xlink:href=\"#mf0abd97655\" y=\"40.598599\"/>\r\n     <use style=\"fill:#1f77b4;stroke:#1f77b4;\" x=\"81.621557\" xlink:href=\"#mf0abd97655\" y=\"17.083636\"/>\r\n     <use style=\"fill:#1f77b4;stroke:#1f77b4;\" x=\"84.413884\" xlink:href=\"#mf0abd97655\" y=\"49.602651\"/>\r\n     <use style=\"fill:#1f77b4;stroke:#1f77b4;\" x=\"87.206211\" xlink:href=\"#mf0abd97655\" y=\"43.436755\"/>\r\n     <use style=\"fill:#1f77b4;stroke:#1f77b4;\" x=\"89.998538\" xlink:href=\"#mf0abd97655\" y=\"54.238779\"/>\r\n     <use style=\"fill:#1f77b4;stroke:#1f77b4;\" x=\"92.790865\" xlink:href=\"#mf0abd97655\" y=\"25.22525\"/>\r\n     <use style=\"fill:#1f77b4;stroke:#1f77b4;\" x=\"95.583192\" xlink:href=\"#mf0abd97655\" y=\"90.2039\"/>\r\n     <use style=\"fill:#1f77b4;stroke:#1f77b4;\" x=\"98.375519\" xlink:href=\"#mf0abd97655\" y=\"99.074762\"/>\r\n     <use style=\"fill:#1f77b4;stroke:#1f77b4;\" x=\"101.167846\" xlink:href=\"#mf0abd97655\" y=\"78.600022\"/>\r\n     <use style=\"fill:#1f77b4;stroke:#1f77b4;\" x=\"103.960173\" xlink:href=\"#mf0abd97655\" y=\"82.851656\"/>\r\n     <use style=\"fill:#1f77b4;stroke:#1f77b4;\" x=\"106.752499\" xlink:href=\"#mf0abd97655\" y=\"97.380342\"/>\r\n     <use style=\"fill:#1f77b4;stroke:#1f77b4;\" x=\"109.544826\" xlink:href=\"#mf0abd97655\" y=\"92.127515\"/>\r\n     <use style=\"fill:#1f77b4;stroke:#1f77b4;\" x=\"112.337153\" xlink:href=\"#mf0abd97655\" y=\"79.185897\"/>\r\n     <use style=\"fill:#1f77b4;stroke:#1f77b4;\" x=\"115.12948\" xlink:href=\"#mf0abd97655\" y=\"91.912859\"/>\r\n     <use style=\"fill:#1f77b4;stroke:#1f77b4;\" x=\"117.921807\" xlink:href=\"#mf0abd97655\" y=\"58.688358\"/>\r\n     <use style=\"fill:#1f77b4;stroke:#1f77b4;\" x=\"120.714134\" xlink:href=\"#mf0abd97655\" y=\"66.397442\"/>\r\n     <use style=\"fill:#1f77b4;stroke:#1f77b4;\" x=\"123.506461\" xlink:href=\"#mf0abd97655\" y=\"64.864838\"/>\r\n     <use style=\"fill:#1f77b4;stroke:#1f77b4;\" x=\"126.298788\" xlink:href=\"#mf0abd97655\" y=\"93.967105\"/>\r\n     <use style=\"fill:#1f77b4;stroke:#1f77b4;\" x=\"129.091115\" xlink:href=\"#mf0abd97655\" y=\"83.085803\"/>\r\n     <use style=\"fill:#1f77b4;stroke:#1f77b4;\" x=\"131.883442\" xlink:href=\"#mf0abd97655\" y=\"87.915457\"/>\r\n     <use style=\"fill:#1f77b4;stroke:#1f77b4;\" x=\"134.675769\" xlink:href=\"#mf0abd97655\" y=\"107.852133\"/>\r\n     <use style=\"fill:#1f77b4;stroke:#1f77b4;\" x=\"137.468096\" xlink:href=\"#mf0abd97655\" y=\"95.909905\"/>\r\n     <use style=\"fill:#1f77b4;stroke:#1f77b4;\" x=\"140.260423\" xlink:href=\"#mf0abd97655\" y=\"82.851656\"/>\r\n     <use style=\"fill:#1f77b4;stroke:#1f77b4;\" x=\"143.05275\" xlink:href=\"#mf0abd97655\" y=\"82.552164\"/>\r\n     <use style=\"fill:#1f77b4;stroke:#1f77b4;\" x=\"145.845077\" xlink:href=\"#mf0abd97655\" y=\"87.968708\"/>\r\n     <use style=\"fill:#1f77b4;stroke:#1f77b4;\" x=\"148.637404\" xlink:href=\"#mf0abd97655\" y=\"67.432766\"/>\r\n     <use style=\"fill:#1f77b4;stroke:#1f77b4;\" x=\"151.429731\" xlink:href=\"#mf0abd97655\" y=\"73.670592\"/>\r\n     <use style=\"fill:#1f77b4;stroke:#1f77b4;\" x=\"154.222057\" xlink:href=\"#mf0abd97655\" y=\"78.293728\"/>\r\n     <use style=\"fill:#1f77b4;stroke:#1f77b4;\" x=\"157.014384\" xlink:href=\"#mf0abd97655\" y=\"82.898485\"/>\r\n     <use style=\"fill:#1f77b4;stroke:#1f77b4;\" x=\"159.806711\" xlink:href=\"#mf0abd97655\" y=\"91.41654\"/>\r\n     <use style=\"fill:#1f77b4;stroke:#1f77b4;\" x=\"162.599038\" xlink:href=\"#mf0abd97655\" y=\"111.107614\"/>\r\n     <use style=\"fill:#1f77b4;stroke:#1f77b4;\" x=\"165.391365\" xlink:href=\"#mf0abd97655\" y=\"104.209129\"/>\r\n     <use style=\"fill:#1f77b4;stroke:#1f77b4;\" x=\"168.183692\" xlink:href=\"#mf0abd97655\" y=\"98.910009\"/>\r\n     <use style=\"fill:#1f77b4;stroke:#1f77b4;\" x=\"170.976019\" xlink:href=\"#mf0abd97655\" y=\"117.71857\"/>\r\n     <use style=\"fill:#1f77b4;stroke:#1f77b4;\" x=\"173.768346\" xlink:href=\"#mf0abd97655\" y=\"117.783258\"/>\r\n     <use style=\"fill:#1f77b4;stroke:#1f77b4;\" x=\"176.560673\" xlink:href=\"#mf0abd97655\" y=\"135.802535\"/>\r\n     <use style=\"fill:#1f77b4;stroke:#1f77b4;\" x=\"179.353\" xlink:href=\"#mf0abd97655\" y=\"118.241441\"/>\r\n     <use style=\"fill:#1f77b4;stroke:#1f77b4;\" x=\"182.145327\" xlink:href=\"#mf0abd97655\" y=\"101.95713\"/>\r\n     <use style=\"fill:#1f77b4;stroke:#1f77b4;\" x=\"184.937654\" xlink:href=\"#mf0abd97655\" y=\"113.089034\"/>\r\n     <use style=\"fill:#1f77b4;stroke:#1f77b4;\" x=\"187.729981\" xlink:href=\"#mf0abd97655\" y=\"72.208568\"/>\r\n     <use style=\"fill:#1f77b4;stroke:#1f77b4;\" x=\"190.522308\" xlink:href=\"#mf0abd97655\" y=\"99.258499\"/>\r\n     <use style=\"fill:#1f77b4;stroke:#1f77b4;\" x=\"193.314635\" xlink:href=\"#mf0abd97655\" y=\"100.540467\"/>\r\n     <use style=\"fill:#1f77b4;stroke:#1f77b4;\" x=\"196.106962\" xlink:href=\"#mf0abd97655\" y=\"114.999729\"/>\r\n     <use style=\"fill:#1f77b4;stroke:#1f77b4;\" x=\"198.899288\" xlink:href=\"#mf0abd97655\" y=\"135.617095\"/>\r\n     <use style=\"fill:#1f77b4;stroke:#1f77b4;\" x=\"201.691615\" xlink:href=\"#mf0abd97655\" y=\"119.95199\"/>\r\n     <use style=\"fill:#1f77b4;stroke:#1f77b4;\" x=\"204.483942\" xlink:href=\"#mf0abd97655\" y=\"129.072978\"/>\r\n     <use style=\"fill:#1f77b4;stroke:#1f77b4;\" x=\"207.276269\" xlink:href=\"#mf0abd97655\" y=\"111.603009\"/>\r\n     <use style=\"fill:#1f77b4;stroke:#1f77b4;\" x=\"210.068596\" xlink:href=\"#mf0abd97655\" y=\"123.708484\"/>\r\n     <use style=\"fill:#1f77b4;stroke:#1f77b4;\" x=\"212.860923\" xlink:href=\"#mf0abd97655\" y=\"128.150273\"/>\r\n     <use style=\"fill:#1f77b4;stroke:#1f77b4;\" x=\"215.65325\" xlink:href=\"#mf0abd97655\" y=\"127.640808\"/>\r\n     <use style=\"fill:#1f77b4;stroke:#1f77b4;\" x=\"218.445577\" xlink:href=\"#mf0abd97655\" y=\"120.674659\"/>\r\n     <use style=\"fill:#1f77b4;stroke:#1f77b4;\" x=\"221.237904\" xlink:href=\"#mf0abd97655\" y=\"126.534877\"/>\r\n     <use style=\"fill:#1f77b4;stroke:#1f77b4;\" x=\"224.030231\" xlink:href=\"#mf0abd97655\" y=\"125.600569\"/>\r\n     <use style=\"fill:#1f77b4;stroke:#1f77b4;\" x=\"226.822558\" xlink:href=\"#mf0abd97655\" y=\"121.653311\"/>\r\n     <use style=\"fill:#1f77b4;stroke:#1f77b4;\" x=\"229.614885\" xlink:href=\"#mf0abd97655\" y=\"146.071594\"/>\r\n     <use style=\"fill:#1f77b4;stroke:#1f77b4;\" x=\"232.407212\" xlink:href=\"#mf0abd97655\" y=\"141.615428\"/>\r\n     <use style=\"fill:#1f77b4;stroke:#1f77b4;\" x=\"235.199539\" xlink:href=\"#mf0abd97655\" y=\"137.800885\"/>\r\n     <use style=\"fill:#1f77b4;stroke:#1f77b4;\" x=\"237.991866\" xlink:href=\"#mf0abd97655\" y=\"167.47787\"/>\r\n     <use style=\"fill:#1f77b4;stroke:#1f77b4;\" x=\"240.784193\" xlink:href=\"#mf0abd97655\" y=\"154.034559\"/>\r\n     <use style=\"fill:#1f77b4;stroke:#1f77b4;\" x=\"243.576519\" xlink:href=\"#mf0abd97655\" y=\"162.831656\"/>\r\n     <use style=\"fill:#1f77b4;stroke:#1f77b4;\" x=\"246.368846\" xlink:href=\"#mf0abd97655\" y=\"162.085276\"/>\r\n     <use style=\"fill:#1f77b4;stroke:#1f77b4;\" x=\"249.161173\" xlink:href=\"#mf0abd97655\" y=\"163.160616\"/>\r\n     <use style=\"fill:#1f77b4;stroke:#1f77b4;\" x=\"251.9535\" xlink:href=\"#mf0abd97655\" y=\"163.54532\"/>\r\n     <use style=\"fill:#1f77b4;stroke:#1f77b4;\" x=\"254.745827\" xlink:href=\"#mf0abd97655\" y=\"170.631949\"/>\r\n     <use style=\"fill:#1f77b4;stroke:#1f77b4;\" x=\"257.538154\" xlink:href=\"#mf0abd97655\" y=\"178.650966\"/>\r\n     <use style=\"fill:#1f77b4;stroke:#1f77b4;\" x=\"260.330481\" xlink:href=\"#mf0abd97655\" y=\"172.139347\"/>\r\n     <use style=\"fill:#1f77b4;stroke:#1f77b4;\" x=\"263.122808\" xlink:href=\"#mf0abd97655\" y=\"174.96338\"/>\r\n     <use style=\"fill:#1f77b4;stroke:#1f77b4;\" x=\"265.915135\" xlink:href=\"#mf0abd97655\" y=\"185.912702\"/>\r\n     <use style=\"fill:#1f77b4;stroke:#1f77b4;\" x=\"268.707462\" xlink:href=\"#mf0abd97655\" y=\"166.333831\"/>\r\n     <use style=\"fill:#1f77b4;stroke:#1f77b4;\" x=\"271.499789\" xlink:href=\"#mf0abd97655\" y=\"150.731893\"/>\r\n     <use style=\"fill:#1f77b4;stroke:#1f77b4;\" x=\"274.292116\" xlink:href=\"#mf0abd97655\" y=\"170.209877\"/>\r\n     <use style=\"fill:#1f77b4;stroke:#1f77b4;\" x=\"277.084443\" xlink:href=\"#mf0abd97655\" y=\"186.901553\"/>\r\n     <use style=\"fill:#1f77b4;stroke:#1f77b4;\" x=\"279.87677\" xlink:href=\"#mf0abd97655\" y=\"164.264516\"/>\r\n     <use style=\"fill:#1f77b4;stroke:#1f77b4;\" x=\"282.669097\" xlink:href=\"#mf0abd97655\" y=\"178.639442\"/>\r\n     <use style=\"fill:#1f77b4;stroke:#1f77b4;\" x=\"285.461424\" xlink:href=\"#mf0abd97655\" y=\"166.000958\"/>\r\n     <use style=\"fill:#1f77b4;stroke:#1f77b4;\" x=\"288.253751\" xlink:href=\"#mf0abd97655\" y=\"164.749155\"/>\r\n     <use style=\"fill:#1f77b4;stroke:#1f77b4;\" x=\"291.046077\" xlink:href=\"#mf0abd97655\" y=\"166.537677\"/>\r\n     <use style=\"fill:#1f77b4;stroke:#1f77b4;\" x=\"293.838404\" xlink:href=\"#mf0abd97655\" y=\"181.237467\"/>\r\n     <use style=\"fill:#1f77b4;stroke:#1f77b4;\" x=\"296.630731\" xlink:href=\"#mf0abd97655\" y=\"176.555385\"/>\r\n     <use style=\"fill:#1f77b4;stroke:#1f77b4;\" x=\"299.423058\" xlink:href=\"#mf0abd97655\" y=\"180.45997\"/>\r\n     <use style=\"fill:#1f77b4;stroke:#1f77b4;\" x=\"302.215385\" xlink:href=\"#mf0abd97655\" y=\"173.953383\"/>\r\n     <use style=\"fill:#1f77b4;stroke:#1f77b4;\" x=\"305.007712\" xlink:href=\"#mf0abd97655\" y=\"180.107675\"/>\r\n     <use style=\"fill:#1f77b4;stroke:#1f77b4;\" x=\"307.800039\" xlink:href=\"#mf0abd97655\" y=\"192.79311\"/>\r\n     <use style=\"fill:#1f77b4;stroke:#1f77b4;\" x=\"310.592366\" xlink:href=\"#mf0abd97655\" y=\"193.512171\"/>\r\n     <use style=\"fill:#1f77b4;stroke:#1f77b4;\" x=\"313.384693\" xlink:href=\"#mf0abd97655\" y=\"185.025763\"/>\r\n     <use style=\"fill:#1f77b4;stroke:#1f77b4;\" x=\"316.17702\" xlink:href=\"#mf0abd97655\" y=\"195.216757\"/>\r\n     <use style=\"fill:#1f77b4;stroke:#1f77b4;\" x=\"318.969347\" xlink:href=\"#mf0abd97655\" y=\"206.033977\"/>\r\n     <use style=\"fill:#1f77b4;stroke:#1f77b4;\" x=\"321.761674\" xlink:href=\"#mf0abd97655\" y=\"188.149353\"/>\r\n     <use style=\"fill:#1f77b4;stroke:#1f77b4;\" x=\"324.554001\" xlink:href=\"#mf0abd97655\" y=\"201.525817\"/>\r\n     <use style=\"fill:#1f77b4;stroke:#1f77b4;\" x=\"327.346328\" xlink:href=\"#mf0abd97655\" y=\"204.072921\"/>\r\n     <use style=\"fill:#1f77b4;stroke:#1f77b4;\" x=\"332.930982\" xlink:href=\"#mf0abd97655\" y=\"197.959338\"/>\r\n     <use style=\"fill:#1f77b4;stroke:#1f77b4;\" x=\"335.723308\" xlink:href=\"#mf0abd97655\" y=\"198.491702\"/>\r\n     <use style=\"fill:#1f77b4;stroke:#1f77b4;\" x=\"338.515635\" xlink:href=\"#mf0abd97655\" y=\"198.154065\"/>\r\n     <use style=\"fill:#1f77b4;stroke:#1f77b4;\" x=\"341.307962\" xlink:href=\"#mf0abd97655\" y=\"200.780238\"/>\r\n     <use style=\"fill:#1f77b4;stroke:#1f77b4;\" x=\"344.100289\" xlink:href=\"#mf0abd97655\" y=\"187.154695\"/>\r\n     <use style=\"fill:#1f77b4;stroke:#1f77b4;\" x=\"346.892616\" xlink:href=\"#mf0abd97655\" y=\"182.219007\"/>\r\n     <use style=\"fill:#1f77b4;stroke:#1f77b4;\" x=\"349.684943\" xlink:href=\"#mf0abd97655\" y=\"214.756364\"/>\r\n    </g>\r\n   </g>\r\n   <g id=\"matplotlib.axis_1\">\r\n    <g id=\"xtick_1\">\r\n     <g id=\"line2d_1\">\r\n      <defs>\r\n       <path d=\"M 0 0 \r\nL 0 3.5 \r\n\" id=\"m618ed83dce\" style=\"stroke:#000000;stroke-width:0.8;\"/>\r\n      </defs>\r\n      <g>\r\n       <use style=\"stroke:#000000;stroke-width:0.8;\" x=\"70.452249\" xlink:href=\"#m618ed83dce\" y=\"224.64\"/>\r\n      </g>\r\n     </g>\r\n     <g id=\"text_1\">\r\n      <!-- 1920 -->\r\n      <g transform=\"translate(57.727249 239.238438)scale(0.1 -0.1)\">\r\n       <defs>\r\n        <path d=\"M 12.40625 8.296875 \r\nL 28.515625 8.296875 \r\nL 28.515625 63.921875 \r\nL 10.984375 60.40625 \r\nL 10.984375 69.390625 \r\nL 28.421875 72.90625 \r\nL 38.28125 72.90625 \r\nL 38.28125 8.296875 \r\nL 54.390625 8.296875 \r\nL 54.390625 0 \r\nL 12.40625 0 \r\nz\r\n\" id=\"DejaVuSans-49\"/>\r\n        <path d=\"M 10.984375 1.515625 \r\nL 10.984375 10.5 \r\nQ 14.703125 8.734375 18.5 7.8125 \r\nQ 22.3125 6.890625 25.984375 6.890625 \r\nQ 35.75 6.890625 40.890625 13.453125 \r\nQ 46.046875 20.015625 46.78125 33.40625 \r\nQ 43.953125 29.203125 39.59375 26.953125 \r\nQ 35.25 24.703125 29.984375 24.703125 \r\nQ 19.046875 24.703125 12.671875 31.3125 \r\nQ 6.296875 37.9375 6.296875 49.421875 \r\nQ 6.296875 60.640625 12.9375 67.421875 \r\nQ 19.578125 74.21875 30.609375 74.21875 \r\nQ 43.265625 74.21875 49.921875 64.515625 \r\nQ 56.59375 54.828125 56.59375 36.375 \r\nQ 56.59375 19.140625 48.40625 8.859375 \r\nQ 40.234375 -1.421875 26.421875 -1.421875 \r\nQ 22.703125 -1.421875 18.890625 -0.6875 \r\nQ 15.09375 0.046875 10.984375 1.515625 \r\nz\r\nM 30.609375 32.421875 \r\nQ 37.25 32.421875 41.125 36.953125 \r\nQ 45.015625 41.5 45.015625 49.421875 \r\nQ 45.015625 57.28125 41.125 61.84375 \r\nQ 37.25 66.40625 30.609375 66.40625 \r\nQ 23.96875 66.40625 20.09375 61.84375 \r\nQ 16.21875 57.28125 16.21875 49.421875 \r\nQ 16.21875 41.5 20.09375 36.953125 \r\nQ 23.96875 32.421875 30.609375 32.421875 \r\nz\r\n\" id=\"DejaVuSans-57\"/>\r\n        <path d=\"M 19.1875 8.296875 \r\nL 53.609375 8.296875 \r\nL 53.609375 0 \r\nL 7.328125 0 \r\nL 7.328125 8.296875 \r\nQ 12.9375 14.109375 22.625 23.890625 \r\nQ 32.328125 33.6875 34.8125 36.53125 \r\nQ 39.546875 41.84375 41.421875 45.53125 \r\nQ 43.3125 49.21875 43.3125 52.78125 \r\nQ 43.3125 58.59375 39.234375 62.25 \r\nQ 35.15625 65.921875 28.609375 65.921875 \r\nQ 23.96875 65.921875 18.8125 64.3125 \r\nQ 13.671875 62.703125 7.8125 59.421875 \r\nL 7.8125 69.390625 \r\nQ 13.765625 71.78125 18.9375 73 \r\nQ 24.125 74.21875 28.421875 74.21875 \r\nQ 39.75 74.21875 46.484375 68.546875 \r\nQ 53.21875 62.890625 53.21875 53.421875 \r\nQ 53.21875 48.921875 51.53125 44.890625 \r\nQ 49.859375 40.875 45.40625 35.40625 \r\nQ 44.1875 33.984375 37.640625 27.21875 \r\nQ 31.109375 20.453125 19.1875 8.296875 \r\nz\r\n\" id=\"DejaVuSans-50\"/>\r\n        <path d=\"M 31.78125 66.40625 \r\nQ 24.171875 66.40625 20.328125 58.90625 \r\nQ 16.5 51.421875 16.5 36.375 \r\nQ 16.5 21.390625 20.328125 13.890625 \r\nQ 24.171875 6.390625 31.78125 6.390625 \r\nQ 39.453125 6.390625 43.28125 13.890625 \r\nQ 47.125 21.390625 47.125 36.375 \r\nQ 47.125 51.421875 43.28125 58.90625 \r\nQ 39.453125 66.40625 31.78125 66.40625 \r\nz\r\nM 31.78125 74.21875 \r\nQ 44.046875 74.21875 50.515625 64.515625 \r\nQ 56.984375 54.828125 56.984375 36.375 \r\nQ 56.984375 17.96875 50.515625 8.265625 \r\nQ 44.046875 -1.421875 31.78125 -1.421875 \r\nQ 19.53125 -1.421875 13.0625 8.265625 \r\nQ 6.59375 17.96875 6.59375 36.375 \r\nQ 6.59375 54.828125 13.0625 64.515625 \r\nQ 19.53125 74.21875 31.78125 74.21875 \r\nz\r\n\" id=\"DejaVuSans-48\"/>\r\n       </defs>\r\n       <use xlink:href=\"#DejaVuSans-49\"/>\r\n       <use x=\"63.623047\" xlink:href=\"#DejaVuSans-57\"/>\r\n       <use x=\"127.246094\" xlink:href=\"#DejaVuSans-50\"/>\r\n       <use x=\"190.869141\" xlink:href=\"#DejaVuSans-48\"/>\r\n      </g>\r\n     </g>\r\n    </g>\r\n    <g id=\"xtick_2\">\r\n     <g id=\"line2d_2\">\r\n      <g>\r\n       <use style=\"stroke:#000000;stroke-width:0.8;\" x=\"126.298788\" xlink:href=\"#m618ed83dce\" y=\"224.64\"/>\r\n      </g>\r\n     </g>\r\n     <g id=\"text_2\">\r\n      <!-- 1940 -->\r\n      <g transform=\"translate(113.573788 239.238438)scale(0.1 -0.1)\">\r\n       <defs>\r\n        <path d=\"M 37.796875 64.3125 \r\nL 12.890625 25.390625 \r\nL 37.796875 25.390625 \r\nz\r\nM 35.203125 72.90625 \r\nL 47.609375 72.90625 \r\nL 47.609375 25.390625 \r\nL 58.015625 25.390625 \r\nL 58.015625 17.1875 \r\nL 47.609375 17.1875 \r\nL 47.609375 0 \r\nL 37.796875 0 \r\nL 37.796875 17.1875 \r\nL 4.890625 17.1875 \r\nL 4.890625 26.703125 \r\nz\r\n\" id=\"DejaVuSans-52\"/>\r\n       </defs>\r\n       <use xlink:href=\"#DejaVuSans-49\"/>\r\n       <use x=\"63.623047\" xlink:href=\"#DejaVuSans-57\"/>\r\n       <use x=\"127.246094\" xlink:href=\"#DejaVuSans-52\"/>\r\n       <use x=\"190.869141\" xlink:href=\"#DejaVuSans-48\"/>\r\n      </g>\r\n     </g>\r\n    </g>\r\n    <g id=\"xtick_3\">\r\n     <g id=\"line2d_3\">\r\n      <g>\r\n       <use style=\"stroke:#000000;stroke-width:0.8;\" x=\"182.145327\" xlink:href=\"#m618ed83dce\" y=\"224.64\"/>\r\n      </g>\r\n     </g>\r\n     <g id=\"text_3\">\r\n      <!-- 1960 -->\r\n      <g transform=\"translate(169.420327 239.238438)scale(0.1 -0.1)\">\r\n       <defs>\r\n        <path d=\"M 33.015625 40.375 \r\nQ 26.375 40.375 22.484375 35.828125 \r\nQ 18.609375 31.296875 18.609375 23.390625 \r\nQ 18.609375 15.53125 22.484375 10.953125 \r\nQ 26.375 6.390625 33.015625 6.390625 \r\nQ 39.65625 6.390625 43.53125 10.953125 \r\nQ 47.40625 15.53125 47.40625 23.390625 \r\nQ 47.40625 31.296875 43.53125 35.828125 \r\nQ 39.65625 40.375 33.015625 40.375 \r\nz\r\nM 52.59375 71.296875 \r\nL 52.59375 62.3125 \r\nQ 48.875 64.0625 45.09375 64.984375 \r\nQ 41.3125 65.921875 37.59375 65.921875 \r\nQ 27.828125 65.921875 22.671875 59.328125 \r\nQ 17.53125 52.734375 16.796875 39.40625 \r\nQ 19.671875 43.65625 24.015625 45.921875 \r\nQ 28.375 48.1875 33.59375 48.1875 \r\nQ 44.578125 48.1875 50.953125 41.515625 \r\nQ 57.328125 34.859375 57.328125 23.390625 \r\nQ 57.328125 12.15625 50.6875 5.359375 \r\nQ 44.046875 -1.421875 33.015625 -1.421875 \r\nQ 20.359375 -1.421875 13.671875 8.265625 \r\nQ 6.984375 17.96875 6.984375 36.375 \r\nQ 6.984375 53.65625 15.1875 63.9375 \r\nQ 23.390625 74.21875 37.203125 74.21875 \r\nQ 40.921875 74.21875 44.703125 73.484375 \r\nQ 48.484375 72.75 52.59375 71.296875 \r\nz\r\n\" id=\"DejaVuSans-54\"/>\r\n       </defs>\r\n       <use xlink:href=\"#DejaVuSans-49\"/>\r\n       <use x=\"63.623047\" xlink:href=\"#DejaVuSans-57\"/>\r\n       <use x=\"127.246094\" xlink:href=\"#DejaVuSans-54\"/>\r\n       <use x=\"190.869141\" xlink:href=\"#DejaVuSans-48\"/>\r\n      </g>\r\n     </g>\r\n    </g>\r\n    <g id=\"xtick_4\">\r\n     <g id=\"line2d_4\">\r\n      <g>\r\n       <use style=\"stroke:#000000;stroke-width:0.8;\" x=\"237.991866\" xlink:href=\"#m618ed83dce\" y=\"224.64\"/>\r\n      </g>\r\n     </g>\r\n     <g id=\"text_4\">\r\n      <!-- 1980 -->\r\n      <g transform=\"translate(225.266866 239.238438)scale(0.1 -0.1)\">\r\n       <defs>\r\n        <path d=\"M 31.78125 34.625 \r\nQ 24.75 34.625 20.71875 30.859375 \r\nQ 16.703125 27.09375 16.703125 20.515625 \r\nQ 16.703125 13.921875 20.71875 10.15625 \r\nQ 24.75 6.390625 31.78125 6.390625 \r\nQ 38.8125 6.390625 42.859375 10.171875 \r\nQ 46.921875 13.96875 46.921875 20.515625 \r\nQ 46.921875 27.09375 42.890625 30.859375 \r\nQ 38.875 34.625 31.78125 34.625 \r\nz\r\nM 21.921875 38.8125 \r\nQ 15.578125 40.375 12.03125 44.71875 \r\nQ 8.5 49.078125 8.5 55.328125 \r\nQ 8.5 64.0625 14.71875 69.140625 \r\nQ 20.953125 74.21875 31.78125 74.21875 \r\nQ 42.671875 74.21875 48.875 69.140625 \r\nQ 55.078125 64.0625 55.078125 55.328125 \r\nQ 55.078125 49.078125 51.53125 44.71875 \r\nQ 48 40.375 41.703125 38.8125 \r\nQ 48.828125 37.15625 52.796875 32.3125 \r\nQ 56.78125 27.484375 56.78125 20.515625 \r\nQ 56.78125 9.90625 50.3125 4.234375 \r\nQ 43.84375 -1.421875 31.78125 -1.421875 \r\nQ 19.734375 -1.421875 13.25 4.234375 \r\nQ 6.78125 9.90625 6.78125 20.515625 \r\nQ 6.78125 27.484375 10.78125 32.3125 \r\nQ 14.796875 37.15625 21.921875 38.8125 \r\nz\r\nM 18.3125 54.390625 \r\nQ 18.3125 48.734375 21.84375 45.5625 \r\nQ 25.390625 42.390625 31.78125 42.390625 \r\nQ 38.140625 42.390625 41.71875 45.5625 \r\nQ 45.3125 48.734375 45.3125 54.390625 \r\nQ 45.3125 60.0625 41.71875 63.234375 \r\nQ 38.140625 66.40625 31.78125 66.40625 \r\nQ 25.390625 66.40625 21.84375 63.234375 \r\nQ 18.3125 60.0625 18.3125 54.390625 \r\nz\r\n\" id=\"DejaVuSans-56\"/>\r\n       </defs>\r\n       <use xlink:href=\"#DejaVuSans-49\"/>\r\n       <use x=\"63.623047\" xlink:href=\"#DejaVuSans-57\"/>\r\n       <use x=\"127.246094\" xlink:href=\"#DejaVuSans-56\"/>\r\n       <use x=\"190.869141\" xlink:href=\"#DejaVuSans-48\"/>\r\n      </g>\r\n     </g>\r\n    </g>\r\n    <g id=\"xtick_5\">\r\n     <g id=\"line2d_5\">\r\n      <g>\r\n       <use style=\"stroke:#000000;stroke-width:0.8;\" x=\"293.838404\" xlink:href=\"#m618ed83dce\" y=\"224.64\"/>\r\n      </g>\r\n     </g>\r\n     <g id=\"text_5\">\r\n      <!-- 2000 -->\r\n      <g transform=\"translate(281.113404 239.238438)scale(0.1 -0.1)\">\r\n       <use xlink:href=\"#DejaVuSans-50\"/>\r\n       <use x=\"63.623047\" xlink:href=\"#DejaVuSans-48\"/>\r\n       <use x=\"127.246094\" xlink:href=\"#DejaVuSans-48\"/>\r\n       <use x=\"190.869141\" xlink:href=\"#DejaVuSans-48\"/>\r\n      </g>\r\n     </g>\r\n    </g>\r\n    <g id=\"xtick_6\">\r\n     <g id=\"line2d_6\">\r\n      <g>\r\n       <use style=\"stroke:#000000;stroke-width:0.8;\" x=\"349.684943\" xlink:href=\"#m618ed83dce\" y=\"224.64\"/>\r\n      </g>\r\n     </g>\r\n     <g id=\"text_6\">\r\n      <!-- 2020 -->\r\n      <g transform=\"translate(336.959943 239.238438)scale(0.1 -0.1)\">\r\n       <use xlink:href=\"#DejaVuSans-50\"/>\r\n       <use x=\"63.623047\" xlink:href=\"#DejaVuSans-48\"/>\r\n       <use x=\"127.246094\" xlink:href=\"#DejaVuSans-50\"/>\r\n       <use x=\"190.869141\" xlink:href=\"#DejaVuSans-48\"/>\r\n      </g>\r\n     </g>\r\n    </g>\r\n   </g>\r\n   <g id=\"matplotlib.axis_2\">\r\n    <g id=\"ytick_1\">\r\n     <g id=\"line2d_7\">\r\n      <defs>\r\n       <path d=\"M 0 0 \r\nL -3.5 0 \r\n\" id=\"mbac2e54fb0\" style=\"stroke:#000000;stroke-width:0.8;\"/>\r\n      </defs>\r\n      <g>\r\n       <use style=\"stroke:#000000;stroke-width:0.8;\" x=\"30.103125\" xlink:href=\"#mbac2e54fb0\" y=\"224.511148\"/>\r\n      </g>\r\n     </g>\r\n     <g id=\"text_7\">\r\n      <!-- 6.0 -->\r\n      <g transform=\"translate(7.2 228.310367)scale(0.1 -0.1)\">\r\n       <defs>\r\n        <path d=\"M 10.6875 12.40625 \r\nL 21 12.40625 \r\nL 21 0 \r\nL 10.6875 0 \r\nz\r\n\" id=\"DejaVuSans-46\"/>\r\n       </defs>\r\n       <use xlink:href=\"#DejaVuSans-54\"/>\r\n       <use x=\"63.623047\" xlink:href=\"#DejaVuSans-46\"/>\r\n       <use x=\"95.410156\" xlink:href=\"#DejaVuSans-48\"/>\r\n      </g>\r\n     </g>\r\n    </g>\r\n    <g id=\"ytick_2\">\r\n     <g id=\"line2d_8\">\r\n      <g>\r\n       <use style=\"stroke:#000000;stroke-width:0.8;\" x=\"30.103125\" xlink:href=\"#mbac2e54fb0\" y=\"196.413397\"/>\r\n      </g>\r\n     </g>\r\n     <g id=\"text_8\">\r\n      <!-- 6.2 -->\r\n      <g transform=\"translate(7.2 200.212616)scale(0.1 -0.1)\">\r\n       <use xlink:href=\"#DejaVuSans-54\"/>\r\n       <use x=\"63.623047\" xlink:href=\"#DejaVuSans-46\"/>\r\n       <use x=\"95.410156\" xlink:href=\"#DejaVuSans-50\"/>\r\n      </g>\r\n     </g>\r\n    </g>\r\n    <g id=\"ytick_3\">\r\n     <g id=\"line2d_9\">\r\n      <g>\r\n       <use style=\"stroke:#000000;stroke-width:0.8;\" x=\"30.103125\" xlink:href=\"#mbac2e54fb0\" y=\"168.315647\"/>\r\n      </g>\r\n     </g>\r\n     <g id=\"text_9\">\r\n      <!-- 6.4 -->\r\n      <g transform=\"translate(7.2 172.114866)scale(0.1 -0.1)\">\r\n       <use xlink:href=\"#DejaVuSans-54\"/>\r\n       <use x=\"63.623047\" xlink:href=\"#DejaVuSans-46\"/>\r\n       <use x=\"95.410156\" xlink:href=\"#DejaVuSans-52\"/>\r\n      </g>\r\n     </g>\r\n    </g>\r\n    <g id=\"ytick_4\">\r\n     <g id=\"line2d_10\">\r\n      <g>\r\n       <use style=\"stroke:#000000;stroke-width:0.8;\" x=\"30.103125\" xlink:href=\"#mbac2e54fb0\" y=\"140.217896\"/>\r\n      </g>\r\n     </g>\r\n     <g id=\"text_10\">\r\n      <!-- 6.6 -->\r\n      <g transform=\"translate(7.2 144.017115)scale(0.1 -0.1)\">\r\n       <use xlink:href=\"#DejaVuSans-54\"/>\r\n       <use x=\"63.623047\" xlink:href=\"#DejaVuSans-46\"/>\r\n       <use x=\"95.410156\" xlink:href=\"#DejaVuSans-54\"/>\r\n      </g>\r\n     </g>\r\n    </g>\r\n    <g id=\"ytick_5\">\r\n     <g id=\"line2d_11\">\r\n      <g>\r\n       <use style=\"stroke:#000000;stroke-width:0.8;\" x=\"30.103125\" xlink:href=\"#mbac2e54fb0\" y=\"112.120146\"/>\r\n      </g>\r\n     </g>\r\n     <g id=\"text_11\">\r\n      <!-- 6.8 -->\r\n      <g transform=\"translate(7.2 115.919364)scale(0.1 -0.1)\">\r\n       <use xlink:href=\"#DejaVuSans-54\"/>\r\n       <use x=\"63.623047\" xlink:href=\"#DejaVuSans-46\"/>\r\n       <use x=\"95.410156\" xlink:href=\"#DejaVuSans-56\"/>\r\n      </g>\r\n     </g>\r\n    </g>\r\n    <g id=\"ytick_6\">\r\n     <g id=\"line2d_12\">\r\n      <g>\r\n       <use style=\"stroke:#000000;stroke-width:0.8;\" x=\"30.103125\" xlink:href=\"#mbac2e54fb0\" y=\"84.022395\"/>\r\n      </g>\r\n     </g>\r\n     <g id=\"text_12\">\r\n      <!-- 7.0 -->\r\n      <g transform=\"translate(7.2 87.821614)scale(0.1 -0.1)\">\r\n       <defs>\r\n        <path d=\"M 8.203125 72.90625 \r\nL 55.078125 72.90625 \r\nL 55.078125 68.703125 \r\nL 28.609375 0 \r\nL 18.3125 0 \r\nL 43.21875 64.59375 \r\nL 8.203125 64.59375 \r\nz\r\n\" id=\"DejaVuSans-55\"/>\r\n       </defs>\r\n       <use xlink:href=\"#DejaVuSans-55\"/>\r\n       <use x=\"63.623047\" xlink:href=\"#DejaVuSans-46\"/>\r\n       <use x=\"95.410156\" xlink:href=\"#DejaVuSans-48\"/>\r\n      </g>\r\n     </g>\r\n    </g>\r\n    <g id=\"ytick_7\">\r\n     <g id=\"line2d_13\">\r\n      <g>\r\n       <use style=\"stroke:#000000;stroke-width:0.8;\" x=\"30.103125\" xlink:href=\"#mbac2e54fb0\" y=\"55.924645\"/>\r\n      </g>\r\n     </g>\r\n     <g id=\"text_13\">\r\n      <!-- 7.2 -->\r\n      <g transform=\"translate(7.2 59.723863)scale(0.1 -0.1)\">\r\n       <use xlink:href=\"#DejaVuSans-55\"/>\r\n       <use x=\"63.623047\" xlink:href=\"#DejaVuSans-46\"/>\r\n       <use x=\"95.410156\" xlink:href=\"#DejaVuSans-50\"/>\r\n      </g>\r\n     </g>\r\n    </g>\r\n    <g id=\"ytick_8\">\r\n     <g id=\"line2d_14\">\r\n      <g>\r\n       <use style=\"stroke:#000000;stroke-width:0.8;\" x=\"30.103125\" xlink:href=\"#mbac2e54fb0\" y=\"27.826894\"/>\r\n      </g>\r\n     </g>\r\n     <g id=\"text_14\">\r\n      <!-- 7.4 -->\r\n      <g transform=\"translate(7.2 31.626113)scale(0.1 -0.1)\">\r\n       <use xlink:href=\"#DejaVuSans-55\"/>\r\n       <use x=\"63.623047\" xlink:href=\"#DejaVuSans-46\"/>\r\n       <use x=\"95.410156\" xlink:href=\"#DejaVuSans-52\"/>\r\n      </g>\r\n     </g>\r\n    </g>\r\n   </g>\r\n   <g id=\"line2d_15\">\r\n    <path clip-path=\"url(#p197a215dd2)\" d=\"M 45.321307 52.704364 \r\nL 50.905961 55.423063 \r\nL 53.698288 56.782412 \r\nL 56.490615 58.141761 \r\nL 59.282942 59.501111 \r\nL 62.075268 60.86046 \r\nL 64.867595 62.219809 \r\nL 67.659922 63.579158 \r\nL 70.452249 64.938508 \r\nL 73.244576 66.297857 \r\nL 76.036903 67.657206 \r\nL 78.82923 69.016555 \r\nL 81.621557 70.375905 \r\nL 84.413884 71.735254 \r\nL 87.206211 73.094603 \r\nL 89.998538 74.453953 \r\nL 92.790865 75.813302 \r\nL 95.583192 77.172651 \r\nL 98.375519 78.532 \r\nL 101.167846 79.89135 \r\nL 103.960173 81.250699 \r\nL 106.752499 82.610048 \r\nL 109.544826 83.969397 \r\nL 112.337153 85.328747 \r\nL 115.12948 86.688096 \r\nL 117.921807 88.047445 \r\nL 120.714134 89.406795 \r\nL 123.506461 90.766144 \r\nL 126.298788 92.125493 \r\nL 129.091115 93.484842 \r\nL 131.883442 94.844192 \r\nL 134.675769 96.203541 \r\nL 137.468096 97.56289 \r\nL 140.260423 98.922239 \r\nL 143.05275 100.281589 \r\nL 145.845077 101.640938 \r\nL 148.637404 103.000287 \r\nL 151.429731 104.359636 \r\nL 154.222057 105.718986 \r\nL 157.014384 107.078335 \r\nL 159.806711 108.437684 \r\nL 162.599038 109.797034 \r\nL 165.391365 111.156383 \r\nL 168.183692 112.515732 \r\nL 170.976019 113.875081 \r\nL 173.768346 115.234431 \r\nL 176.560673 116.59378 \r\nL 179.353 117.953129 \r\nL 182.145327 119.312478 \r\nL 184.937654 120.671828 \r\nL 187.729981 122.031177 \r\nL 190.522308 123.390526 \r\nL 193.314635 124.749875 \r\nL 196.106962 126.109225 \r\nL 198.899288 127.468574 \r\nL 201.691615 128.827923 \r\nL 204.483942 130.187273 \r\nL 207.276269 131.546622 \r\nL 210.068596 132.905971 \r\nL 212.860923 134.26532 \r\nL 215.65325 135.62467 \r\nL 218.445577 136.984019 \r\nL 221.237904 138.343368 \r\nL 224.030231 139.702717 \r\nL 226.822558 141.062067 \r\nL 229.614885 142.421416 \r\nL 232.407212 143.780765 \r\nL 235.199539 145.140114 \r\nL 237.991866 146.499464 \r\nL 240.784193 147.858813 \r\nL 243.576519 149.218162 \r\nL 246.368846 150.577512 \r\nL 249.161173 151.936861 \r\nL 251.9535 153.29621 \r\nL 254.745827 154.655559 \r\nL 257.538154 156.014909 \r\nL 260.330481 157.374258 \r\nL 263.122808 158.733607 \r\nL 265.915135 160.092956 \r\nL 268.707462 161.452306 \r\nL 271.499789 162.811655 \r\nL 274.292116 164.171004 \r\nL 277.084443 165.530354 \r\nL 279.87677 166.889703 \r\nL 282.669097 168.249052 \r\nL 285.461424 169.608401 \r\nL 288.253751 170.967751 \r\nL 291.046077 172.3271 \r\nL 293.838404 173.686449 \r\nL 296.630731 175.045798 \r\nL 299.423058 176.405148 \r\nL 302.215385 177.764497 \r\nL 305.007712 179.123846 \r\nL 307.800039 180.483195 \r\nL 310.592366 181.842545 \r\nL 313.384693 183.201894 \r\nL 316.17702 184.561243 \r\nL 318.969347 185.920593 \r\nL 321.761674 187.279942 \r\nL 324.554001 188.639291 \r\nL 327.346328 189.99864 \r\nL 332.930982 192.717339 \r\nL 335.723308 194.076688 \r\nL 338.515635 195.436037 \r\nL 341.307962 196.795387 \r\nL 344.100289 198.154736 \r\nL 346.892616 199.514085 \r\nL 349.684943 200.873434 \r\n\" style=\"fill:none;stroke:#008000;stroke-linecap:square;stroke-width:1.5;\"/>\r\n   </g>\r\n   <g id=\"patch_3\">\r\n    <path d=\"M 30.103125 224.64 \r\nL 30.103125 7.2 \r\n\" style=\"fill:none;stroke:#000000;stroke-linecap:square;stroke-linejoin:miter;stroke-width:0.8;\"/>\r\n   </g>\r\n   <g id=\"patch_4\">\r\n    <path d=\"M 364.903125 224.64 \r\nL 364.903125 7.2 \r\n\" style=\"fill:none;stroke:#000000;stroke-linecap:square;stroke-linejoin:miter;stroke-width:0.8;\"/>\r\n   </g>\r\n   <g id=\"patch_5\">\r\n    <path d=\"M 30.103125 224.64 \r\nL 364.903125 224.64 \r\n\" style=\"fill:none;stroke:#000000;stroke-linecap:square;stroke-linejoin:miter;stroke-width:0.8;\"/>\r\n   </g>\r\n   <g id=\"patch_6\">\r\n    <path d=\"M 30.103125 7.2 \r\nL 364.903125 7.2 \r\n\" style=\"fill:none;stroke:#000000;stroke-linecap:square;stroke-linejoin:miter;stroke-width:0.8;\"/>\r\n   </g>\r\n  </g>\r\n </g>\r\n <defs>\r\n  <clipPath id=\"p197a215dd2\">\r\n   <rect height=\"217.44\" width=\"334.8\" x=\"30.103125\" y=\"7.2\"/>\r\n  </clipPath>\r\n </defs>\r\n</svg>\r\n",
      "image/png": "[encoded data removed]"
     },
     "metadata": {
      "needs_background": "light"
     }
    }
   ],
   "source": [
    "# 26\n",
    "pred2 = model.predict(x)\n",
    "plt.scatter(x, y)\n",
    "plt.plot(x, pred2, color='green')\n",
    "plt.show()"
   ]
  },
  {
   "cell_type": "code",
   "execution_count": 27,
   "metadata": {},
   "outputs": [],
   "source": [
    "# 27\n",
    "year3 = basics[(basics['startYear']>= 1900) & (basics['startYear'] < 2000) & (basics['titleType'] == \"movie\")]"
   ]
  },
  {
   "cell_type": "code",
   "execution_count": 28,
   "metadata": {},
   "outputs": [
    {
     "output_type": "execute_result",
     "data": {
      "text/plain": [
       "        tconst titleType                     primaryTitle  \\\n",
       "331  tt0000335     movie            Soldiers of the Cross   \n",
       "498  tt0000502     movie                         Bohemios   \n",
       "570  tt0000574     movie      The Story of the Kelly Gang   \n",
       "610  tt0000615     movie               Robbery Under Arms   \n",
       "625  tt0000630     movie                           Hamlet   \n",
       "668  tt0000675     movie                      Don Quijote   \n",
       "669  tt0000676     movie  Don Álvaro o la fuerza del sino   \n",
       "672  tt0000679     movie   The Fairylogue and Radio-Plays   \n",
       "729  tt0000739     movie        El pastorcito de Torrente   \n",
       "783  tt0000793     movie                    Andreas Hofer   \n",
       "\n",
       "                       originalTitle isAdult  startYear endYear  \\\n",
       "331            Soldiers of the Cross       0     1900.0      \\N   \n",
       "498                         Bohemios       0     1905.0      \\N   \n",
       "570      The Story of the Kelly Gang       0     1906.0      \\N   \n",
       "610               Robbery Under Arms       0     1907.0      \\N   \n",
       "625                           Amleto       0     1908.0      \\N   \n",
       "668                      Don Quijote       0     1908.0      \\N   \n",
       "669  Don Álvaro o la fuerza del sino       0     1908.0      \\N   \n",
       "672   The Fairylogue and Radio-Plays       0     1908.0      \\N   \n",
       "729        El pastorcito de Torrente       0     1908.0      \\N   \n",
       "783                    Andreas Hofer       0     1909.0      \\N   \n",
       "\n",
       "    runtimeMinutes                 genres  \n",
       "331             \\N        Biography,Drama  \n",
       "498            100                     \\N  \n",
       "570             70  Biography,Crime,Drama  \n",
       "610             \\N                  Drama  \n",
       "625             \\N                  Drama  \n",
       "668             \\N                  Drama  \n",
       "669             \\N                  Drama  \n",
       "672            120      Adventure,Fantasy  \n",
       "729             \\N                  Drama  \n",
       "783             \\N                  Drama  "
      ],
      "text/html": "<div>\n<style scoped>\n    .dataframe tbody tr th:only-of-type {\n        vertical-align: middle;\n    }\n\n    .dataframe tbody tr th {\n        vertical-align: top;\n    }\n\n    .dataframe thead th {\n        text-align: right;\n    }\n</style>\n<table border=\"1\" class=\"dataframe\">\n  <thead>\n    <tr style=\"text-align: right;\">\n      <th></th>\n      <th>tconst</th>\n      <th>titleType</th>\n      <th>primaryTitle</th>\n      <th>originalTitle</th>\n      <th>isAdult</th>\n      <th>startYear</th>\n      <th>endYear</th>\n      <th>runtimeMinutes</th>\n      <th>genres</th>\n    </tr>\n  </thead>\n  <tbody>\n    <tr>\n      <th>331</th>\n      <td>tt0000335</td>\n      <td>movie</td>\n      <td>Soldiers of the Cross</td>\n      <td>Soldiers of the Cross</td>\n      <td>0</td>\n      <td>1900.0</td>\n      <td>\\N</td>\n      <td>\\N</td>\n      <td>Biography,Drama</td>\n    </tr>\n    <tr>\n      <th>498</th>\n      <td>tt0000502</td>\n      <td>movie</td>\n      <td>Bohemios</td>\n      <td>Bohemios</td>\n      <td>0</td>\n      <td>1905.0</td>\n      <td>\\N</td>\n      <td>100</td>\n      <td>\\N</td>\n    </tr>\n    <tr>\n      <th>570</th>\n      <td>tt0000574</td>\n      <td>movie</td>\n      <td>The Story of the Kelly Gang</td>\n      <td>The Story of the Kelly Gang</td>\n      <td>0</td>\n      <td>1906.0</td>\n      <td>\\N</td>\n      <td>70</td>\n      <td>Biography,Crime,Drama</td>\n    </tr>\n    <tr>\n      <th>610</th>\n      <td>tt0000615</td>\n      <td>movie</td>\n      <td>Robbery Under Arms</td>\n      <td>Robbery Under Arms</td>\n      <td>0</td>\n      <td>1907.0</td>\n      <td>\\N</td>\n      <td>\\N</td>\n      <td>Drama</td>\n    </tr>\n    <tr>\n      <th>625</th>\n      <td>tt0000630</td>\n      <td>movie</td>\n      <td>Hamlet</td>\n      <td>Amleto</td>\n      <td>0</td>\n      <td>1908.0</td>\n      <td>\\N</td>\n      <td>\\N</td>\n      <td>Drama</td>\n    </tr>\n    <tr>\n      <th>668</th>\n      <td>tt0000675</td>\n      <td>movie</td>\n      <td>Don Quijote</td>\n      <td>Don Quijote</td>\n      <td>0</td>\n      <td>1908.0</td>\n      <td>\\N</td>\n      <td>\\N</td>\n      <td>Drama</td>\n    </tr>\n    <tr>\n      <th>669</th>\n      <td>tt0000676</td>\n      <td>movie</td>\n      <td>Don Álvaro o la fuerza del sino</td>\n      <td>Don Álvaro o la fuerza del sino</td>\n      <td>0</td>\n      <td>1908.0</td>\n      <td>\\N</td>\n      <td>\\N</td>\n      <td>Drama</td>\n    </tr>\n    <tr>\n      <th>672</th>\n      <td>tt0000679</td>\n      <td>movie</td>\n      <td>The Fairylogue and Radio-Plays</td>\n      <td>The Fairylogue and Radio-Plays</td>\n      <td>0</td>\n      <td>1908.0</td>\n      <td>\\N</td>\n      <td>120</td>\n      <td>Adventure,Fantasy</td>\n    </tr>\n    <tr>\n      <th>729</th>\n      <td>tt0000739</td>\n      <td>movie</td>\n      <td>El pastorcito de Torrente</td>\n      <td>El pastorcito de Torrente</td>\n      <td>0</td>\n      <td>1908.0</td>\n      <td>\\N</td>\n      <td>\\N</td>\n      <td>Drama</td>\n    </tr>\n    <tr>\n      <th>783</th>\n      <td>tt0000793</td>\n      <td>movie</td>\n      <td>Andreas Hofer</td>\n      <td>Andreas Hofer</td>\n      <td>0</td>\n      <td>1909.0</td>\n      <td>\\N</td>\n      <td>\\N</td>\n      <td>Drama</td>\n    </tr>\n  </tbody>\n</table>\n</div>"
     },
     "metadata": {},
     "execution_count": 28
    }
   ],
   "source": [
    "# 28\n",
    "year3.head(10)"
   ]
  },
  {
   "cell_type": "code",
   "execution_count": 29,
   "metadata": {},
   "outputs": [
    {
     "output_type": "execute_result",
     "data": {
      "text/plain": [
       "      tconst  averageRating  numVotes titleType  \\\n",
       "0  tt0000335            6.0        39     movie   \n",
       "1  tt0000502            4.5         8     movie   \n",
       "2  tt0000574            6.1       608     movie   \n",
       "3  tt0000615            4.5        14     movie   \n",
       "4  tt0000630            3.2        11     movie   \n",
       "5  tt0000675            4.9         9     movie   \n",
       "6  tt0000676            4.4         8     movie   \n",
       "7  tt0000679            5.2        35     movie   \n",
       "8  tt0000739            6.3         7     movie   \n",
       "9  tt0000793            5.0         7     movie   \n",
       "\n",
       "                      primaryTitle                    originalTitle isAdult  \\\n",
       "0            Soldiers of the Cross            Soldiers of the Cross       0   \n",
       "1                         Bohemios                         Bohemios       0   \n",
       "2      The Story of the Kelly Gang      The Story of the Kelly Gang       0   \n",
       "3               Robbery Under Arms               Robbery Under Arms       0   \n",
       "4                           Hamlet                           Amleto       0   \n",
       "5                      Don Quijote                      Don Quijote       0   \n",
       "6  Don Álvaro o la fuerza del sino  Don Álvaro o la fuerza del sino       0   \n",
       "7   The Fairylogue and Radio-Plays   The Fairylogue and Radio-Plays       0   \n",
       "8        El pastorcito de Torrente        El pastorcito de Torrente       0   \n",
       "9                    Andreas Hofer                    Andreas Hofer       0   \n",
       "\n",
       "   startYear endYear runtimeMinutes                 genres  \n",
       "0     1900.0      \\N             \\N        Biography,Drama  \n",
       "1     1905.0      \\N            100                     \\N  \n",
       "2     1906.0      \\N             70  Biography,Crime,Drama  \n",
       "3     1907.0      \\N             \\N                  Drama  \n",
       "4     1908.0      \\N             \\N                  Drama  \n",
       "5     1908.0      \\N             \\N                  Drama  \n",
       "6     1908.0      \\N             \\N                  Drama  \n",
       "7     1908.0      \\N            120      Adventure,Fantasy  \n",
       "8     1908.0      \\N             \\N                  Drama  \n",
       "9     1909.0      \\N             \\N                  Drama  "
      ],
      "text/html": "<div>\n<style scoped>\n    .dataframe tbody tr th:only-of-type {\n        vertical-align: middle;\n    }\n\n    .dataframe tbody tr th {\n        vertical-align: top;\n    }\n\n    .dataframe thead th {\n        text-align: right;\n    }\n</style>\n<table border=\"1\" class=\"dataframe\">\n  <thead>\n    <tr style=\"text-align: right;\">\n      <th></th>\n      <th>tconst</th>\n      <th>averageRating</th>\n      <th>numVotes</th>\n      <th>titleType</th>\n      <th>primaryTitle</th>\n      <th>originalTitle</th>\n      <th>isAdult</th>\n      <th>startYear</th>\n      <th>endYear</th>\n      <th>runtimeMinutes</th>\n      <th>genres</th>\n    </tr>\n  </thead>\n  <tbody>\n    <tr>\n      <th>0</th>\n      <td>tt0000335</td>\n      <td>6.0</td>\n      <td>39</td>\n      <td>movie</td>\n      <td>Soldiers of the Cross</td>\n      <td>Soldiers of the Cross</td>\n      <td>0</td>\n      <td>1900.0</td>\n      <td>\\N</td>\n      <td>\\N</td>\n      <td>Biography,Drama</td>\n    </tr>\n    <tr>\n      <th>1</th>\n      <td>tt0000502</td>\n      <td>4.5</td>\n      <td>8</td>\n      <td>movie</td>\n      <td>Bohemios</td>\n      <td>Bohemios</td>\n      <td>0</td>\n      <td>1905.0</td>\n      <td>\\N</td>\n      <td>100</td>\n      <td>\\N</td>\n    </tr>\n    <tr>\n      <th>2</th>\n      <td>tt0000574</td>\n      <td>6.1</td>\n      <td>608</td>\n      <td>movie</td>\n      <td>The Story of the Kelly Gang</td>\n      <td>The Story of the Kelly Gang</td>\n      <td>0</td>\n      <td>1906.0</td>\n      <td>\\N</td>\n      <td>70</td>\n      <td>Biography,Crime,Drama</td>\n    </tr>\n    <tr>\n      <th>3</th>\n      <td>tt0000615</td>\n      <td>4.5</td>\n      <td>14</td>\n      <td>movie</td>\n      <td>Robbery Under Arms</td>\n      <td>Robbery Under Arms</td>\n      <td>0</td>\n      <td>1907.0</td>\n      <td>\\N</td>\n      <td>\\N</td>\n      <td>Drama</td>\n    </tr>\n    <tr>\n      <th>4</th>\n      <td>tt0000630</td>\n      <td>3.2</td>\n      <td>11</td>\n      <td>movie</td>\n      <td>Hamlet</td>\n      <td>Amleto</td>\n      <td>0</td>\n      <td>1908.0</td>\n      <td>\\N</td>\n      <td>\\N</td>\n      <td>Drama</td>\n    </tr>\n    <tr>\n      <th>5</th>\n      <td>tt0000675</td>\n      <td>4.9</td>\n      <td>9</td>\n      <td>movie</td>\n      <td>Don Quijote</td>\n      <td>Don Quijote</td>\n      <td>0</td>\n      <td>1908.0</td>\n      <td>\\N</td>\n      <td>\\N</td>\n      <td>Drama</td>\n    </tr>\n    <tr>\n      <th>6</th>\n      <td>tt0000676</td>\n      <td>4.4</td>\n      <td>8</td>\n      <td>movie</td>\n      <td>Don Álvaro o la fuerza del sino</td>\n      <td>Don Álvaro o la fuerza del sino</td>\n      <td>0</td>\n      <td>1908.0</td>\n      <td>\\N</td>\n      <td>\\N</td>\n      <td>Drama</td>\n    </tr>\n    <tr>\n      <th>7</th>\n      <td>tt0000679</td>\n      <td>5.2</td>\n      <td>35</td>\n      <td>movie</td>\n      <td>The Fairylogue and Radio-Plays</td>\n      <td>The Fairylogue and Radio-Plays</td>\n      <td>0</td>\n      <td>1908.0</td>\n      <td>\\N</td>\n      <td>120</td>\n      <td>Adventure,Fantasy</td>\n    </tr>\n    <tr>\n      <th>8</th>\n      <td>tt0000739</td>\n      <td>6.3</td>\n      <td>7</td>\n      <td>movie</td>\n      <td>El pastorcito de Torrente</td>\n      <td>El pastorcito de Torrente</td>\n      <td>0</td>\n      <td>1908.0</td>\n      <td>\\N</td>\n      <td>\\N</td>\n      <td>Drama</td>\n    </tr>\n    <tr>\n      <th>9</th>\n      <td>tt0000793</td>\n      <td>5.0</td>\n      <td>7</td>\n      <td>movie</td>\n      <td>Andreas Hofer</td>\n      <td>Andreas Hofer</td>\n      <td>0</td>\n      <td>1909.0</td>\n      <td>\\N</td>\n      <td>\\N</td>\n      <td>Drama</td>\n    </tr>\n  </tbody>\n</table>\n</div>"
     },
     "metadata": {},
     "execution_count": 29
    }
   ],
   "source": [
    "# 29\n",
    "merge_ry = pd.merge(ratings, year3, on = 'tconst')\n",
    "merge_ry.head(10)"
   ]
  },
  {
   "cell_type": "code",
   "execution_count": 30,
   "metadata": {},
   "outputs": [
    {
     "output_type": "execute_result",
     "data": {
      "text/plain": [
       "      Year  Correlation\n",
       "0   1900.0    -0.189051\n",
       "1   1905.0     0.329072\n",
       "2   1906.0     0.910193\n",
       "3   1907.0    -0.065269\n",
       "4   1908.0    -0.027588\n",
       "..     ...          ...\n",
       "95  1997.0     0.105978\n",
       "96  1903.0     0.739733\n",
       "97  1902.0    -0.316438\n",
       "98  1904.0     0.579870\n",
       "99  1901.0    -1.000000\n",
       "\n",
       "[100 rows x 2 columns]"
      ],
      "text/html": "<div>\n<style scoped>\n    .dataframe tbody tr th:only-of-type {\n        vertical-align: middle;\n    }\n\n    .dataframe tbody tr th {\n        vertical-align: top;\n    }\n\n    .dataframe thead th {\n        text-align: right;\n    }\n</style>\n<table border=\"1\" class=\"dataframe\">\n  <thead>\n    <tr style=\"text-align: right;\">\n      <th></th>\n      <th>Year</th>\n      <th>Correlation</th>\n    </tr>\n  </thead>\n  <tbody>\n    <tr>\n      <th>0</th>\n      <td>1900.0</td>\n      <td>-0.189051</td>\n    </tr>\n    <tr>\n      <th>1</th>\n      <td>1905.0</td>\n      <td>0.329072</td>\n    </tr>\n    <tr>\n      <th>2</th>\n      <td>1906.0</td>\n      <td>0.910193</td>\n    </tr>\n    <tr>\n      <th>3</th>\n      <td>1907.0</td>\n      <td>-0.065269</td>\n    </tr>\n    <tr>\n      <th>4</th>\n      <td>1908.0</td>\n      <td>-0.027588</td>\n    </tr>\n    <tr>\n      <th>...</th>\n      <td>...</td>\n      <td>...</td>\n    </tr>\n    <tr>\n      <th>95</th>\n      <td>1997.0</td>\n      <td>0.105978</td>\n    </tr>\n    <tr>\n      <th>96</th>\n      <td>1903.0</td>\n      <td>0.739733</td>\n    </tr>\n    <tr>\n      <th>97</th>\n      <td>1902.0</td>\n      <td>-0.316438</td>\n    </tr>\n    <tr>\n      <th>98</th>\n      <td>1904.0</td>\n      <td>0.579870</td>\n    </tr>\n    <tr>\n      <th>99</th>\n      <td>1901.0</td>\n      <td>-1.000000</td>\n    </tr>\n  </tbody>\n</table>\n<p>100 rows × 2 columns</p>\n</div>"
     },
     "metadata": {},
     "execution_count": 30
    }
   ],
   "source": [
    "# 30\n",
    "years = list(merge_ry['startYear'].unique())\n",
    "Corr_year = pd.DataFrame()\n",
    "for year in years:\n",
    "    X = merge_ry[merge_ry['startYear']==year].iloc[:,[1,2]]\n",
    "    corr = X.corr()\n",
    "    corr = corr['averageRating'][1]\n",
    "    newRow = {'Correlation':corr,'Year':year}\n",
    "    Corr_year = Corr_year.append(newRow, ignore_index=True)\n",
    "Corr_year = Corr_year.reindex(columns=['Year', 'Correlation'])\n",
    "Corr_year"
   ]
  },
  {
   "cell_type": "code",
   "execution_count": 31,
   "metadata": {},
   "outputs": [
    {
     "output_type": "execute_result",
     "data": {
      "text/plain": [
       "<seaborn.axisgrid.PairGrid at 0x1af981944f0>"
      ]
     },
     "metadata": {},
     "execution_count": 31
    },
    {
     "output_type": "display_data",
     "data": {
      "text/plain": "<Figure size 352.8x504 with 1 Axes>",
      "image/svg+xml": "<?xml version=\"1.0\" encoding=\"utf-8\" standalone=\"no\"?>\r\n<!DOCTYPE svg PUBLIC \"-//W3C//DTD SVG 1.1//EN\"\r\n  \"http://www.w3.org/Graphics/SVG/1.1/DTD/svg11.dtd\">\r\n<!-- Created with matplotlib (https://matplotlib.org/) -->\r\n<svg height=\"497.472162pt\" version=\"1.1\" viewBox=\"0 0 349.842437 497.472162\" width=\"349.842437pt\" xmlns=\"http://www.w3.org/2000/svg\" xmlns:xlink=\"http://www.w3.org/1999/xlink\">\r\n <metadata>\r\n  <rdf:RDF xmlns:cc=\"http://creativecommons.org/ns#\" xmlns:dc=\"http://purl.org/dc/elements/1.1/\" xmlns:rdf=\"http://www.w3.org/1999/02/22-rdf-syntax-ns#\">\r\n   <cc:Work>\r\n    <dc:type rdf:resource=\"http://purl.org/dc/dcmitype/StillImage\"/>\r\n    <dc:date>2021-04-22T00:34:37.898686</dc:date>\r\n    <dc:format>image/svg+xml</dc:format>\r\n    <dc:creator>\r\n     <cc:Agent>\r\n      <dc:title>Matplotlib v3.3.4, https://matplotlib.org/</dc:title>\r\n     </cc:Agent>\r\n    </dc:creator>\r\n   </cc:Work>\r\n  </rdf:RDF>\r\n </metadata>\r\n <defs>\r\n  <style type=\"text/css\">*{stroke-linecap:butt;stroke-linejoin:round;}</style>\r\n </defs>\r\n <g id=\"figure_1\">\r\n  <g id=\"patch_1\">\r\n   <path d=\"M 0 497.472162 \r\nL 349.842437 497.472162 \r\nL 349.842437 0 \r\nL 0 0 \r\nz\r\n\" style=\"fill:none;\"/>\r\n  </g>\r\n  <g id=\"axes_1\">\r\n   <g id=\"patch_2\">\r\n    <path d=\"M 58.523438 459.915912 \r\nL 342.642437 459.915912 \r\nL 342.642437 9.777577 \r\nL 58.523438 9.777577 \r\nz\r\n\" style=\"fill:#ffffff;\"/>\r\n   </g>\r\n   <g id=\"PathCollection_1\">\r\n    <defs>\r\n     <path d=\"M 0 3 \r\nC 0.795609 3 1.55874 2.683901 2.12132 2.12132 \r\nC 2.683901 1.55874 3 0.795609 3 0 \r\nC 3 -0.795609 2.683901 -1.55874 2.12132 -2.12132 \r\nC 1.55874 -2.683901 0.795609 -3 0 -3 \r\nC -0.795609 -3 -1.55874 -2.683901 -2.12132 -2.12132 \r\nC -2.683901 -1.55874 -3 -0.795609 -3 0 \r\nC -3 0.795609 -2.683901 1.55874 -2.12132 2.12132 \r\nC -1.55874 2.683901 -0.795609 3 0 3 \r\nz\r\n\" id=\"ma6f5935947\" style=\"stroke:#1f77b4;stroke-opacity:0.8;\"/>\r\n    </defs>\r\n    <g clip-path=\"url(#pbd73c21d2c)\">\r\n     <use style=\"fill:#1f77b4;fill-opacity:0.8;stroke:#1f77b4;stroke-opacity:0.8;\" x=\"58.523438\" xlink:href=\"#ma6f5935947\" y=\"265.727243\"/>\r\n     <use style=\"fill:#1f77b4;fill-opacity:0.8;stroke:#1f77b4;stroke-opacity:0.8;\" x=\"72.872882\" xlink:href=\"#ma6f5935947\" y=\"154.730813\"/>\r\n     <use style=\"fill:#1f77b4;fill-opacity:0.8;stroke:#1f77b4;stroke-opacity:0.8;\" x=\"75.742771\" xlink:href=\"#ma6f5935947\" y=\"30.238411\"/>\r\n     <use style=\"fill:#1f77b4;fill-opacity:0.8;stroke:#1f77b4;stroke-opacity:0.8;\" x=\"78.61266\" xlink:href=\"#ma6f5935947\" y=\"239.209607\"/>\r\n     <use style=\"fill:#1f77b4;fill-opacity:0.8;stroke:#1f77b4;stroke-opacity:0.8;\" x=\"81.482549\" xlink:href=\"#ma6f5935947\" y=\"231.1373\"/>\r\n     <use style=\"fill:#1f77b4;fill-opacity:0.8;stroke:#1f77b4;stroke-opacity:0.8;\" x=\"84.352437\" xlink:href=\"#ma6f5935947\" y=\"240.164806\"/>\r\n     <use style=\"fill:#1f77b4;fill-opacity:0.8;stroke:#1f77b4;stroke-opacity:0.8;\" x=\"87.222326\" xlink:href=\"#ma6f5935947\" y=\"168.66236\"/>\r\n     <use style=\"fill:#1f77b4;fill-opacity:0.8;stroke:#1f77b4;stroke-opacity:0.8;\" x=\"92.962104\" xlink:href=\"#ma6f5935947\" y=\"183.681235\"/>\r\n     <use style=\"fill:#1f77b4;fill-opacity:0.8;stroke:#1f77b4;stroke-opacity:0.8;\" x=\"90.092215\" xlink:href=\"#ma6f5935947\" y=\"168.775786\"/>\r\n     <use style=\"fill:#1f77b4;fill-opacity:0.8;stroke:#1f77b4;stroke-opacity:0.8;\" x=\"95.831993\" xlink:href=\"#ma6f5935947\" y=\"151.00592\"/>\r\n     <use style=\"fill:#1f77b4;fill-opacity:0.8;stroke:#1f77b4;stroke-opacity:0.8;\" x=\"113.051326\" xlink:href=\"#ma6f5935947\" y=\"192.531235\"/>\r\n     <use style=\"fill:#1f77b4;fill-opacity:0.8;stroke:#1f77b4;stroke-opacity:0.8;\" x=\"98.701882\" xlink:href=\"#ma6f5935947\" y=\"191.881669\"/>\r\n     <use style=\"fill:#1f77b4;fill-opacity:0.8;stroke:#1f77b4;stroke-opacity:0.8;\" x=\"107.311549\" xlink:href=\"#ma6f5935947\" y=\"196.574381\"/>\r\n     <use style=\"fill:#1f77b4;fill-opacity:0.8;stroke:#1f77b4;stroke-opacity:0.8;\" x=\"101.571771\" xlink:href=\"#ma6f5935947\" y=\"215.060927\"/>\r\n     <use style=\"fill:#1f77b4;fill-opacity:0.8;stroke:#1f77b4;stroke-opacity:0.8;\" x=\"104.44166\" xlink:href=\"#ma6f5935947\" y=\"200.498237\"/>\r\n     <use style=\"fill:#1f77b4;fill-opacity:0.8;stroke:#1f77b4;stroke-opacity:0.8;\" x=\"161.839437\" xlink:href=\"#ma6f5935947\" y=\"197.275998\"/>\r\n     <use style=\"fill:#1f77b4;fill-opacity:0.8;stroke:#1f77b4;stroke-opacity:0.8;\" x=\"130.27066\" xlink:href=\"#ma6f5935947\" y=\"192.29449\"/>\r\n     <use style=\"fill:#1f77b4;fill-opacity:0.8;stroke:#1f77b4;stroke-opacity:0.8;\" x=\"110.181437\" xlink:href=\"#ma6f5935947\" y=\"208.634025\"/>\r\n     <use style=\"fill:#1f77b4;fill-opacity:0.8;stroke:#1f77b4;stroke-opacity:0.8;\" x=\"115.921215\" xlink:href=\"#ma6f5935947\" y=\"191.857802\"/>\r\n     <use style=\"fill:#1f77b4;fill-opacity:0.8;stroke:#1f77b4;stroke-opacity:0.8;\" x=\"118.791104\" xlink:href=\"#ma6f5935947\" y=\"194.520682\"/>\r\n     <use style=\"fill:#1f77b4;fill-opacity:0.8;stroke:#1f77b4;stroke-opacity:0.8;\" x=\"127.400771\" xlink:href=\"#ma6f5935947\" y=\"178.227062\"/>\r\n     <use style=\"fill:#1f77b4;fill-opacity:0.8;stroke:#1f77b4;stroke-opacity:0.8;\" x=\"124.530882\" xlink:href=\"#ma6f5935947\" y=\"181.577842\"/>\r\n     <use style=\"fill:#1f77b4;fill-opacity:0.8;stroke:#1f77b4;stroke-opacity:0.8;\" x=\"121.660993\" xlink:href=\"#ma6f5935947\" y=\"196.596596\"/>\r\n     <use style=\"fill:#1f77b4;fill-opacity:0.8;stroke:#1f77b4;stroke-opacity:0.8;\" x=\"136.010437\" xlink:href=\"#ma6f5935947\" y=\"197.841186\"/>\r\n     <use style=\"fill:#1f77b4;fill-opacity:0.8;stroke:#1f77b4;stroke-opacity:0.8;\" x=\"141.750215\" xlink:href=\"#ma6f5935947\" y=\"191.309516\"/>\r\n     <use style=\"fill:#1f77b4;fill-opacity:0.8;stroke:#1f77b4;stroke-opacity:0.8;\" x=\"133.140549\" xlink:href=\"#ma6f5935947\" y=\"201.64554\"/>\r\n     <use style=\"fill:#1f77b4;fill-opacity:0.8;stroke:#1f77b4;stroke-opacity:0.8;\" x=\"325.423104\" xlink:href=\"#ma6f5935947\" y=\"199.788988\"/>\r\n     <use style=\"fill:#1f77b4;fill-opacity:0.8;stroke:#1f77b4;stroke-opacity:0.8;\" x=\"158.969549\" xlink:href=\"#ma6f5935947\" y=\"185.825277\"/>\r\n     <use style=\"fill:#1f77b4;fill-opacity:0.8;stroke:#1f77b4;stroke-opacity:0.8;\" x=\"138.880326\" xlink:href=\"#ma6f5935947\" y=\"186.281105\"/>\r\n     <use style=\"fill:#1f77b4;fill-opacity:0.8;stroke:#1f77b4;stroke-opacity:0.8;\" x=\"179.058771\" xlink:href=\"#ma6f5935947\" y=\"199.551099\"/>\r\n     <use style=\"fill:#1f77b4;fill-opacity:0.8;stroke:#1f77b4;stroke-opacity:0.8;\" x=\"144.620104\" xlink:href=\"#ma6f5935947\" y=\"190.126902\"/>\r\n     <use style=\"fill:#1f77b4;fill-opacity:0.8;stroke:#1f77b4;stroke-opacity:0.8;\" x=\"150.359882\" xlink:href=\"#ma6f5935947\" y=\"174.484554\"/>\r\n     <use style=\"fill:#1f77b4;fill-opacity:0.8;stroke:#1f77b4;stroke-opacity:0.8;\" x=\"147.489993\" xlink:href=\"#ma6f5935947\" y=\"186.929042\"/>\r\n     <use style=\"fill:#1f77b4;fill-opacity:0.8;stroke:#1f77b4;stroke-opacity:0.8;\" x=\"170.449104\" xlink:href=\"#ma6f5935947\" y=\"197.91236\"/>\r\n     <use style=\"fill:#1f77b4;fill-opacity:0.8;stroke:#1f77b4;stroke-opacity:0.8;\" x=\"164.709326\" xlink:href=\"#ma6f5935947\" y=\"199.017747\"/>\r\n     <use style=\"fill:#1f77b4;fill-opacity:0.8;stroke:#1f77b4;stroke-opacity:0.8;\" x=\"202.017882\" xlink:href=\"#ma6f5935947\" y=\"187.126431\"/>\r\n     <use style=\"fill:#1f77b4;fill-opacity:0.8;stroke:#1f77b4;stroke-opacity:0.8;\" x=\"153.229771\" xlink:href=\"#ma6f5935947\" y=\"190.740854\"/>\r\n     <use style=\"fill:#1f77b4;fill-opacity:0.8;stroke:#1f77b4;stroke-opacity:0.8;\" x=\"167.579215\" xlink:href=\"#ma6f5935947\" y=\"187.271734\"/>\r\n     <use style=\"fill:#1f77b4;fill-opacity:0.8;stroke:#1f77b4;stroke-opacity:0.8;\" x=\"204.887771\" xlink:href=\"#ma6f5935947\" y=\"192.688227\"/>\r\n     <use style=\"fill:#1f77b4;fill-opacity:0.8;stroke:#1f77b4;stroke-opacity:0.8;\" x=\"156.09966\" xlink:href=\"#ma6f5935947\" y=\"194.794504\"/>\r\n     <use style=\"fill:#1f77b4;fill-opacity:0.8;stroke:#1f77b4;stroke-opacity:0.8;\" x=\"190.538326\" xlink:href=\"#ma6f5935947\" y=\"191.172061\"/>\r\n     <use style=\"fill:#1f77b4;fill-opacity:0.8;stroke:#1f77b4;stroke-opacity:0.8;\" x=\"173.318993\" xlink:href=\"#ma6f5935947\" y=\"187.699963\"/>\r\n     <use style=\"fill:#1f77b4;fill-opacity:0.8;stroke:#1f77b4;stroke-opacity:0.8;\" x=\"184.798549\" xlink:href=\"#ma6f5935947\" y=\"186.568696\"/>\r\n     <use style=\"fill:#1f77b4;fill-opacity:0.8;stroke:#1f77b4;stroke-opacity:0.8;\" x=\"193.408215\" xlink:href=\"#ma6f5935947\" y=\"178.168733\"/>\r\n     <use style=\"fill:#1f77b4;fill-opacity:0.8;stroke:#1f77b4;stroke-opacity:0.8;\" x=\"176.188882\" xlink:href=\"#ma6f5935947\" y=\"198.19161\"/>\r\n     <use style=\"fill:#1f77b4;fill-opacity:0.8;stroke:#1f77b4;stroke-opacity:0.8;\" x=\"207.75766\" xlink:href=\"#ma6f5935947\" y=\"196.630396\"/>\r\n     <use style=\"fill:#1f77b4;fill-opacity:0.8;stroke:#1f77b4;stroke-opacity:0.8;\" x=\"259.41566\" xlink:href=\"#ma6f5935947\" y=\"197.341566\"/>\r\n     <use style=\"fill:#1f77b4;fill-opacity:0.8;stroke:#1f77b4;stroke-opacity:0.8;\" x=\"222.107104\" xlink:href=\"#ma6f5935947\" y=\"194.642877\"/>\r\n     <use style=\"fill:#1f77b4;fill-opacity:0.8;stroke:#1f77b4;stroke-opacity:0.8;\" x=\"181.92866\" xlink:href=\"#ma6f5935947\" y=\"189.604031\"/>\r\n     <use style=\"fill:#1f77b4;fill-opacity:0.8;stroke:#1f77b4;stroke-opacity:0.8;\" x=\"187.668437\" xlink:href=\"#ma6f5935947\" y=\"167.391222\"/>\r\n     <use style=\"fill:#1f77b4;fill-opacity:0.8;stroke:#1f77b4;stroke-opacity:0.8;\" x=\"196.278104\" xlink:href=\"#ma6f5935947\" y=\"187.548916\"/>\r\n     <use style=\"fill:#1f77b4;fill-opacity:0.8;stroke:#1f77b4;stroke-opacity:0.8;\" x=\"199.147993\" xlink:href=\"#ma6f5935947\" y=\"192.758554\"/>\r\n     <use style=\"fill:#1f77b4;fill-opacity:0.8;stroke:#1f77b4;stroke-opacity:0.8;\" x=\"210.627549\" xlink:href=\"#ma6f5935947\" y=\"189.090594\"/>\r\n     <use style=\"fill:#1f77b4;fill-opacity:0.8;stroke:#1f77b4;stroke-opacity:0.8;\" x=\"213.497437\" xlink:href=\"#ma6f5935947\" y=\"192.38214\"/>\r\n     <use style=\"fill:#1f77b4;fill-opacity:0.8;stroke:#1f77b4;stroke-opacity:0.8;\" x=\"245.066215\" xlink:href=\"#ma6f5935947\" y=\"200.867691\"/>\r\n     <use style=\"fill:#1f77b4;fill-opacity:0.8;stroke:#1f77b4;stroke-opacity:0.8;\" x=\"296.724215\" xlink:href=\"#ma6f5935947\" y=\"209.186719\"/>\r\n     <use style=\"fill:#1f77b4;fill-opacity:0.8;stroke:#1f77b4;stroke-opacity:0.8;\" x=\"288.114549\" xlink:href=\"#ma6f5935947\" y=\"205.173583\"/>\r\n     <use style=\"fill:#1f77b4;fill-opacity:0.8;stroke:#1f77b4;stroke-opacity:0.8;\" x=\"268.025326\" xlink:href=\"#ma6f5935947\" y=\"196.17957\"/>\r\n     <use style=\"fill:#1f77b4;fill-opacity:0.8;stroke:#1f77b4;stroke-opacity:0.8;\" x=\"233.58666\" xlink:href=\"#ma6f5935947\" y=\"196.657071\"/>\r\n     <use style=\"fill:#1f77b4;fill-opacity:0.8;stroke:#1f77b4;stroke-opacity:0.8;\" x=\"236.456549\" xlink:href=\"#ma6f5935947\" y=\"194.528357\"/>\r\n     <use style=\"fill:#1f77b4;fill-opacity:0.8;stroke:#1f77b4;stroke-opacity:0.8;\" x=\"224.976993\" xlink:href=\"#ma6f5935947\" y=\"202.345986\"/>\r\n     <use style=\"fill:#1f77b4;fill-opacity:0.8;stroke:#1f77b4;stroke-opacity:0.8;\" x=\"216.367326\" xlink:href=\"#ma6f5935947\" y=\"189.743975\"/>\r\n     <use style=\"fill:#1f77b4;fill-opacity:0.8;stroke:#1f77b4;stroke-opacity:0.8;\" x=\"219.237215\" xlink:href=\"#ma6f5935947\" y=\"188.94323\"/>\r\n     <use style=\"fill:#1f77b4;fill-opacity:0.8;stroke:#1f77b4;stroke-opacity:0.8;\" x=\"242.196326\" xlink:href=\"#ma6f5935947\" y=\"200.599565\"/>\r\n     <use style=\"fill:#1f77b4;fill-opacity:0.8;stroke:#1f77b4;stroke-opacity:0.8;\" x=\"230.716771\" xlink:href=\"#ma6f5935947\" y=\"200.673042\"/>\r\n     <use style=\"fill:#1f77b4;fill-opacity:0.8;stroke:#1f77b4;stroke-opacity:0.8;\" x=\"227.846882\" xlink:href=\"#ma6f5935947\" y=\"196.415673\"/>\r\n     <use style=\"fill:#1f77b4;fill-opacity:0.8;stroke:#1f77b4;stroke-opacity:0.8;\" x=\"250.805993\" xlink:href=\"#ma6f5935947\" y=\"198.052869\"/>\r\n     <use style=\"fill:#1f77b4;fill-opacity:0.8;stroke:#1f77b4;stroke-opacity:0.8;\" x=\"239.326437\" xlink:href=\"#ma6f5935947\" y=\"196.642104\"/>\r\n     <use style=\"fill:#1f77b4;fill-opacity:0.8;stroke:#1f77b4;stroke-opacity:0.8;\" x=\"253.675882\" xlink:href=\"#ma6f5935947\" y=\"202.772715\"/>\r\n     <use style=\"fill:#1f77b4;fill-opacity:0.8;stroke:#1f77b4;stroke-opacity:0.8;\" x=\"262.285549\" xlink:href=\"#ma6f5935947\" y=\"205.467035\"/>\r\n     <use style=\"fill:#1f77b4;fill-opacity:0.8;stroke:#1f77b4;stroke-opacity:0.8;\" x=\"256.545771\" xlink:href=\"#ma6f5935947\" y=\"201.007015\"/>\r\n     <use style=\"fill:#1f77b4;fill-opacity:0.8;stroke:#1f77b4;stroke-opacity:0.8;\" x=\"265.155437\" xlink:href=\"#ma6f5935947\" y=\"208.702655\"/>\r\n     <use style=\"fill:#1f77b4;fill-opacity:0.8;stroke:#1f77b4;stroke-opacity:0.8;\" x=\"247.936104\" xlink:href=\"#ma6f5935947\" y=\"205.93984\"/>\r\n     <use style=\"fill:#1f77b4;fill-opacity:0.8;stroke:#1f77b4;stroke-opacity:0.8;\" x=\"276.634993\" xlink:href=\"#ma6f5935947\" y=\"204.448371\"/>\r\n     <use style=\"fill:#1f77b4;fill-opacity:0.8;stroke:#1f77b4;stroke-opacity:0.8;\" x=\"316.813437\" xlink:href=\"#ma6f5935947\" y=\"203.467419\"/>\r\n     <use style=\"fill:#1f77b4;fill-opacity:0.8;stroke:#1f77b4;stroke-opacity:0.8;\" x=\"319.683326\" xlink:href=\"#ma6f5935947\" y=\"205.582767\"/>\r\n     <use style=\"fill:#1f77b4;fill-opacity:0.8;stroke:#1f77b4;stroke-opacity:0.8;\" x=\"285.24466\" xlink:href=\"#ma6f5935947\" y=\"203.85824\"/>\r\n     <use style=\"fill:#1f77b4;fill-opacity:0.8;stroke:#1f77b4;stroke-opacity:0.8;\" x=\"290.984437\" xlink:href=\"#ma6f5935947\" y=\"207.719825\"/>\r\n     <use style=\"fill:#1f77b4;fill-opacity:0.8;stroke:#1f77b4;stroke-opacity:0.8;\" x=\"282.374771\" xlink:href=\"#ma6f5935947\" y=\"204.316395\"/>\r\n     <use style=\"fill:#1f77b4;fill-opacity:0.8;stroke:#1f77b4;stroke-opacity:0.8;\" x=\"313.943549\" xlink:href=\"#ma6f5935947\" y=\"202.74563\"/>\r\n     <use style=\"fill:#1f77b4;fill-opacity:0.8;stroke:#1f77b4;stroke-opacity:0.8;\" x=\"270.895215\" xlink:href=\"#ma6f5935947\" y=\"205.816548\"/>\r\n     <use style=\"fill:#1f77b4;fill-opacity:0.8;stroke:#1f77b4;stroke-opacity:0.8;\" x=\"273.765104\" xlink:href=\"#ma6f5935947\" y=\"202.783385\"/>\r\n     <use style=\"fill:#1f77b4;fill-opacity:0.8;stroke:#1f77b4;stroke-opacity:0.8;\" x=\"279.504882\" xlink:href=\"#ma6f5935947\" y=\"208.902451\"/>\r\n     <use style=\"fill:#1f77b4;fill-opacity:0.8;stroke:#1f77b4;stroke-opacity:0.8;\" x=\"305.333882\" xlink:href=\"#ma6f5935947\" y=\"201.920532\"/>\r\n     <use style=\"fill:#1f77b4;fill-opacity:0.8;stroke:#1f77b4;stroke-opacity:0.8;\" x=\"302.463993\" xlink:href=\"#ma6f5935947\" y=\"206.581255\"/>\r\n     <use style=\"fill:#1f77b4;fill-opacity:0.8;stroke:#1f77b4;stroke-opacity:0.8;\" x=\"308.203771\" xlink:href=\"#ma6f5935947\" y=\"201.960687\"/>\r\n     <use style=\"fill:#1f77b4;fill-opacity:0.8;stroke:#1f77b4;stroke-opacity:0.8;\" x=\"299.594104\" xlink:href=\"#ma6f5935947\" y=\"202.555874\"/>\r\n     <use style=\"fill:#1f77b4;fill-opacity:0.8;stroke:#1f77b4;stroke-opacity:0.8;\" x=\"293.854326\" xlink:href=\"#ma6f5935947\" y=\"202.024821\"/>\r\n     <use style=\"fill:#1f77b4;fill-opacity:0.8;stroke:#1f77b4;stroke-opacity:0.8;\" x=\"311.07366\" xlink:href=\"#ma6f5935947\" y=\"200.778479\"/>\r\n     <use style=\"fill:#1f77b4;fill-opacity:0.8;stroke:#1f77b4;stroke-opacity:0.8;\" x=\"331.162882\" xlink:href=\"#ma6f5935947\" y=\"198.033427\"/>\r\n     <use style=\"fill:#1f77b4;fill-opacity:0.8;stroke:#1f77b4;stroke-opacity:0.8;\" x=\"339.772549\" xlink:href=\"#ma6f5935947\" y=\"200.795878\"/>\r\n     <use style=\"fill:#1f77b4;fill-opacity:0.8;stroke:#1f77b4;stroke-opacity:0.8;\" x=\"342.642437\" xlink:href=\"#ma6f5935947\" y=\"199.527057\"/>\r\n     <use style=\"fill:#1f77b4;fill-opacity:0.8;stroke:#1f77b4;stroke-opacity:0.8;\" x=\"322.553215\" xlink:href=\"#ma6f5935947\" y=\"202.02851\"/>\r\n     <use style=\"fill:#1f77b4;fill-opacity:0.8;stroke:#1f77b4;stroke-opacity:0.8;\" x=\"328.292993\" xlink:href=\"#ma6f5935947\" y=\"200.277699\"/>\r\n     <use style=\"fill:#1f77b4;fill-opacity:0.8;stroke:#1f77b4;stroke-opacity:0.8;\" x=\"334.032771\" xlink:href=\"#ma6f5935947\" y=\"206.455647\"/>\r\n     <use style=\"fill:#1f77b4;fill-opacity:0.8;stroke:#1f77b4;stroke-opacity:0.8;\" x=\"336.90266\" xlink:href=\"#ma6f5935947\" y=\"202.523596\"/>\r\n     <use style=\"fill:#1f77b4;fill-opacity:0.8;stroke:#1f77b4;stroke-opacity:0.8;\" x=\"67.133104\" xlink:href=\"#ma6f5935947\" y=\"66.755615\"/>\r\n     <use style=\"fill:#1f77b4;fill-opacity:0.8;stroke:#1f77b4;stroke-opacity:0.8;\" x=\"64.263215\" xlink:href=\"#ma6f5935947\" y=\"293.01711\"/>\r\n     <use style=\"fill:#1f77b4;fill-opacity:0.8;stroke:#1f77b4;stroke-opacity:0.8;\" x=\"70.002993\" xlink:href=\"#ma6f5935947\" y=\"101.002871\"/>\r\n     <use style=\"fill:#1f77b4;fill-opacity:0.8;stroke:#1f77b4;stroke-opacity:0.8;\" x=\"61.393326\" xlink:href=\"#ma6f5935947\" y=\"439.455079\"/>\r\n    </g>\r\n   </g>\r\n   <g id=\"PolyCollection_1\">\r\n    <path clip-path=\"url(#pbd73c21d2c)\" d=\"M 58.523438 166.429076 \r\nL 58.523438 218.658636 \r\nL 61.393326 218.352266 \r\nL 64.263215 218.045896 \r\nL 67.133104 217.739527 \r\nL 70.002993 217.433157 \r\nL 72.872882 217.126787 \r\nL 75.742771 216.801386 \r\nL 78.61266 216.472833 \r\nL 81.482549 216.144281 \r\nL 84.352437 215.815729 \r\nL 87.222326 215.487177 \r\nL 90.092215 215.158625 \r\nL 92.962104 214.830073 \r\nL 95.831993 214.501521 \r\nL 98.701882 214.191813 \r\nL 101.571771 213.903155 \r\nL 104.44166 213.614497 \r\nL 107.311549 213.325839 \r\nL 110.181437 213.041513 \r\nL 113.051326 212.787246 \r\nL 115.921215 212.53298 \r\nL 118.791104 212.235271 \r\nL 121.660993 211.93025 \r\nL 124.530882 211.62419 \r\nL 127.400771 211.31813 \r\nL 130.27066 211.01766 \r\nL 133.140549 210.728728 \r\nL 136.010437 210.421423 \r\nL 138.880326 210.114288 \r\nL 141.750215 209.812545 \r\nL 144.620104 209.511315 \r\nL 147.489993 209.208233 \r\nL 150.359882 208.890121 \r\nL 153.229771 208.572008 \r\nL 156.09966 208.26262 \r\nL 158.969549 207.972738 \r\nL 161.839437 207.706586 \r\nL 164.709326 207.440435 \r\nL 167.579215 207.174281 \r\nL 170.449104 206.908032 \r\nL 173.318993 206.586178 \r\nL 176.188882 206.243303 \r\nL 179.058771 206.017084 \r\nL 181.92866 205.790499 \r\nL 184.798549 205.405112 \r\nL 187.668437 205.067899 \r\nL 190.538326 204.810559 \r\nL 193.408215 204.553137 \r\nL 196.278104 204.295318 \r\nL 199.147993 204.037227 \r\nL 202.017882 203.74041 \r\nL 204.887771 203.449078 \r\nL 207.75766 203.134751 \r\nL 210.627549 202.925156 \r\nL 213.497437 202.62487 \r\nL 216.367326 202.370359 \r\nL 219.237215 202.101352 \r\nL 222.107104 201.867475 \r\nL 224.976993 201.508148 \r\nL 227.846882 201.298801 \r\nL 230.716771 201.016451 \r\nL 233.58666 200.781767 \r\nL 236.456549 200.609032 \r\nL 239.326437 200.445465 \r\nL 242.196326 200.254275 \r\nL 245.066215 200.08436 \r\nL 247.936104 199.952136 \r\nL 250.805993 199.927448 \r\nL 253.675882 199.961248 \r\nL 256.545771 200.09931 \r\nL 259.41566 200.44715 \r\nL 262.285549 200.748038 \r\nL 265.155437 201.177255 \r\nL 268.025326 201.518897 \r\nL 270.895215 201.937524 \r\nL 273.765104 202.362221 \r\nL 276.634993 202.793196 \r\nL 279.504882 203.296117 \r\nL 282.374771 203.76091 \r\nL 285.24466 204.232333 \r\nL 288.114549 204.64688 \r\nL 290.984437 205.060872 \r\nL 293.854326 205.500259 \r\nL 296.724215 205.970074 \r\nL 299.594104 206.439152 \r\nL 302.463993 206.907975 \r\nL 305.333882 207.37226 \r\nL 308.203771 207.875021 \r\nL 311.07366 208.397326 \r\nL 313.943549 208.822519 \r\nL 316.813437 209.292094 \r\nL 319.683326 209.772468 \r\nL 322.553215 210.230245 \r\nL 325.423104 210.688021 \r\nL 328.292993 211.138042 \r\nL 331.162882 211.604277 \r\nL 334.032771 212.062706 \r\nL 336.90266 212.521136 \r\nL 339.772549 212.979565 \r\nL 342.642437 213.449353 \r\nL 342.642437 188.015836 \r\nL 342.642437 188.015836 \r\nL 339.772549 188.266144 \r\nL 336.90266 188.601933 \r\nL 334.032771 188.939761 \r\nL 331.162882 189.235621 \r\nL 328.292993 189.511498 \r\nL 325.423104 189.845786 \r\nL 322.553215 190.18665 \r\nL 319.683326 190.528334 \r\nL 316.813437 190.823336 \r\nL 313.943549 191.116557 \r\nL 311.07366 191.455388 \r\nL 308.203771 191.782922 \r\nL 305.333882 191.995078 \r\nL 302.463993 192.207235 \r\nL 299.594104 192.464727 \r\nL 296.724215 192.815052 \r\nL 293.854326 193.038879 \r\nL 290.984437 193.315228 \r\nL 288.114549 193.631947 \r\nL 285.24466 193.895797 \r\nL 282.374771 194.212469 \r\nL 279.504882 194.478233 \r\nL 276.634993 194.685006 \r\nL 273.765104 194.958914 \r\nL 270.895215 195.157838 \r\nL 268.025326 195.421484 \r\nL 265.155437 195.643683 \r\nL 262.285549 195.838032 \r\nL 259.41566 196.023332 \r\nL 256.545771 196.227497 \r\nL 253.675882 196.392799 \r\nL 250.805993 196.405623 \r\nL 247.936104 196.352421 \r\nL 245.066215 196.187195 \r\nL 242.196326 195.961784 \r\nL 239.326437 195.676163 \r\nL 236.456549 195.421744 \r\nL 233.58666 195.043894 \r\nL 230.716771 194.660942 \r\nL 227.846882 194.255954 \r\nL 224.976993 193.833927 \r\nL 222.107104 193.351547 \r\nL 219.237215 192.940551 \r\nL 216.367326 192.552965 \r\nL 213.497437 192.037351 \r\nL 210.627549 191.550094 \r\nL 207.75766 191.078554 \r\nL 204.887771 190.637677 \r\nL 202.017882 190.192433 \r\nL 199.147993 189.696997 \r\nL 196.278104 189.159793 \r\nL 193.408215 188.706342 \r\nL 190.538326 188.255914 \r\nL 187.668437 187.773374 \r\nL 184.798549 187.290833 \r\nL 181.92866 186.864029 \r\nL 179.058771 186.450712 \r\nL 176.188882 186.037395 \r\nL 173.318993 185.624078 \r\nL 170.449104 185.197573 \r\nL 167.579215 184.692957 \r\nL 164.709326 184.180896 \r\nL 161.839437 183.668834 \r\nL 158.969549 183.156772 \r\nL 156.09966 182.698387 \r\nL 153.229771 182.266296 \r\nL 150.359882 181.834581 \r\nL 147.489993 181.402865 \r\nL 144.620104 180.971149 \r\nL 141.750215 180.516813 \r\nL 138.880326 180.037092 \r\nL 136.010437 179.557372 \r\nL 133.140549 179.077651 \r\nL 130.27066 178.601513 \r\nL 127.400771 178.116452 \r\nL 124.530882 177.635213 \r\nL 121.660993 177.153974 \r\nL 118.791104 176.672735 \r\nL 115.921215 176.191497 \r\nL 113.051326 175.710258 \r\nL 110.181437 175.229019 \r\nL 107.311549 174.74778 \r\nL 104.44166 174.266541 \r\nL 101.571771 173.785302 \r\nL 98.701882 173.304063 \r\nL 95.831993 172.822824 \r\nL 92.962104 172.341585 \r\nL 90.092215 171.860841 \r\nL 87.222326 171.380534 \r\nL 84.352437 170.900228 \r\nL 81.482549 170.419922 \r\nL 78.61266 169.939616 \r\nL 75.742771 169.439242 \r\nL 72.872882 168.937548 \r\nL 70.002993 168.435853 \r\nL 67.133104 167.934159 \r\nL 64.263215 167.432465 \r\nL 61.393326 166.93077 \r\nL 58.523438 166.429076 \r\nz\r\n\" style=\"fill:#1f77b4;fill-opacity:0.15;\"/>\r\n   </g>\r\n   <g id=\"matplotlib.axis_1\">\r\n    <g id=\"xtick_1\">\r\n     <g id=\"line2d_1\">\r\n      <defs>\r\n       <path d=\"M 0 0 \r\nL 0 3.5 \r\n\" id=\"m12d9fe0b94\" style=\"stroke:#000000;stroke-width:0.8;\"/>\r\n      </defs>\r\n      <g>\r\n       <use style=\"stroke:#000000;stroke-width:0.8;\" x=\"58.523438\" xlink:href=\"#m12d9fe0b94\" y=\"459.915912\"/>\r\n      </g>\r\n     </g>\r\n     <g id=\"text_1\">\r\n      <!-- 1900 -->\r\n      <g transform=\"translate(45.798437 474.51435)scale(0.1 -0.1)\">\r\n       <defs>\r\n        <path d=\"M 12.40625 8.296875 \r\nL 28.515625 8.296875 \r\nL 28.515625 63.921875 \r\nL 10.984375 60.40625 \r\nL 10.984375 69.390625 \r\nL 28.421875 72.90625 \r\nL 38.28125 72.90625 \r\nL 38.28125 8.296875 \r\nL 54.390625 8.296875 \r\nL 54.390625 0 \r\nL 12.40625 0 \r\nz\r\n\" id=\"DejaVuSans-49\"/>\r\n        <path d=\"M 10.984375 1.515625 \r\nL 10.984375 10.5 \r\nQ 14.703125 8.734375 18.5 7.8125 \r\nQ 22.3125 6.890625 25.984375 6.890625 \r\nQ 35.75 6.890625 40.890625 13.453125 \r\nQ 46.046875 20.015625 46.78125 33.40625 \r\nQ 43.953125 29.203125 39.59375 26.953125 \r\nQ 35.25 24.703125 29.984375 24.703125 \r\nQ 19.046875 24.703125 12.671875 31.3125 \r\nQ 6.296875 37.9375 6.296875 49.421875 \r\nQ 6.296875 60.640625 12.9375 67.421875 \r\nQ 19.578125 74.21875 30.609375 74.21875 \r\nQ 43.265625 74.21875 49.921875 64.515625 \r\nQ 56.59375 54.828125 56.59375 36.375 \r\nQ 56.59375 19.140625 48.40625 8.859375 \r\nQ 40.234375 -1.421875 26.421875 -1.421875 \r\nQ 22.703125 -1.421875 18.890625 -0.6875 \r\nQ 15.09375 0.046875 10.984375 1.515625 \r\nz\r\nM 30.609375 32.421875 \r\nQ 37.25 32.421875 41.125 36.953125 \r\nQ 45.015625 41.5 45.015625 49.421875 \r\nQ 45.015625 57.28125 41.125 61.84375 \r\nQ 37.25 66.40625 30.609375 66.40625 \r\nQ 23.96875 66.40625 20.09375 61.84375 \r\nQ 16.21875 57.28125 16.21875 49.421875 \r\nQ 16.21875 41.5 20.09375 36.953125 \r\nQ 23.96875 32.421875 30.609375 32.421875 \r\nz\r\n\" id=\"DejaVuSans-57\"/>\r\n        <path d=\"M 31.78125 66.40625 \r\nQ 24.171875 66.40625 20.328125 58.90625 \r\nQ 16.5 51.421875 16.5 36.375 \r\nQ 16.5 21.390625 20.328125 13.890625 \r\nQ 24.171875 6.390625 31.78125 6.390625 \r\nQ 39.453125 6.390625 43.28125 13.890625 \r\nQ 47.125 21.390625 47.125 36.375 \r\nQ 47.125 51.421875 43.28125 58.90625 \r\nQ 39.453125 66.40625 31.78125 66.40625 \r\nz\r\nM 31.78125 74.21875 \r\nQ 44.046875 74.21875 50.515625 64.515625 \r\nQ 56.984375 54.828125 56.984375 36.375 \r\nQ 56.984375 17.96875 50.515625 8.265625 \r\nQ 44.046875 -1.421875 31.78125 -1.421875 \r\nQ 19.53125 -1.421875 13.0625 8.265625 \r\nQ 6.59375 17.96875 6.59375 36.375 \r\nQ 6.59375 54.828125 13.0625 64.515625 \r\nQ 19.53125 74.21875 31.78125 74.21875 \r\nz\r\n\" id=\"DejaVuSans-48\"/>\r\n       </defs>\r\n       <use xlink:href=\"#DejaVuSans-49\"/>\r\n       <use x=\"63.623047\" xlink:href=\"#DejaVuSans-57\"/>\r\n       <use x=\"127.246094\" xlink:href=\"#DejaVuSans-48\"/>\r\n       <use x=\"190.869141\" xlink:href=\"#DejaVuSans-48\"/>\r\n      </g>\r\n     </g>\r\n    </g>\r\n    <g id=\"xtick_2\">\r\n     <g id=\"line2d_2\">\r\n      <g>\r\n       <use style=\"stroke:#000000;stroke-width:0.8;\" x=\"115.921215\" xlink:href=\"#m12d9fe0b94\" y=\"459.915912\"/>\r\n      </g>\r\n     </g>\r\n     <g id=\"text_2\">\r\n      <!-- 1920 -->\r\n      <g transform=\"translate(103.196215 474.51435)scale(0.1 -0.1)\">\r\n       <defs>\r\n        <path d=\"M 19.1875 8.296875 \r\nL 53.609375 8.296875 \r\nL 53.609375 0 \r\nL 7.328125 0 \r\nL 7.328125 8.296875 \r\nQ 12.9375 14.109375 22.625 23.890625 \r\nQ 32.328125 33.6875 34.8125 36.53125 \r\nQ 39.546875 41.84375 41.421875 45.53125 \r\nQ 43.3125 49.21875 43.3125 52.78125 \r\nQ 43.3125 58.59375 39.234375 62.25 \r\nQ 35.15625 65.921875 28.609375 65.921875 \r\nQ 23.96875 65.921875 18.8125 64.3125 \r\nQ 13.671875 62.703125 7.8125 59.421875 \r\nL 7.8125 69.390625 \r\nQ 13.765625 71.78125 18.9375 73 \r\nQ 24.125 74.21875 28.421875 74.21875 \r\nQ 39.75 74.21875 46.484375 68.546875 \r\nQ 53.21875 62.890625 53.21875 53.421875 \r\nQ 53.21875 48.921875 51.53125 44.890625 \r\nQ 49.859375 40.875 45.40625 35.40625 \r\nQ 44.1875 33.984375 37.640625 27.21875 \r\nQ 31.109375 20.453125 19.1875 8.296875 \r\nz\r\n\" id=\"DejaVuSans-50\"/>\r\n       </defs>\r\n       <use xlink:href=\"#DejaVuSans-49\"/>\r\n       <use x=\"63.623047\" xlink:href=\"#DejaVuSans-57\"/>\r\n       <use x=\"127.246094\" xlink:href=\"#DejaVuSans-50\"/>\r\n       <use x=\"190.869141\" xlink:href=\"#DejaVuSans-48\"/>\r\n      </g>\r\n     </g>\r\n    </g>\r\n    <g id=\"xtick_3\">\r\n     <g id=\"line2d_3\">\r\n      <g>\r\n       <use style=\"stroke:#000000;stroke-width:0.8;\" x=\"173.318993\" xlink:href=\"#m12d9fe0b94\" y=\"459.915912\"/>\r\n      </g>\r\n     </g>\r\n     <g id=\"text_3\">\r\n      <!-- 1940 -->\r\n      <g transform=\"translate(160.593993 474.51435)scale(0.1 -0.1)\">\r\n       <defs>\r\n        <path d=\"M 37.796875 64.3125 \r\nL 12.890625 25.390625 \r\nL 37.796875 25.390625 \r\nz\r\nM 35.203125 72.90625 \r\nL 47.609375 72.90625 \r\nL 47.609375 25.390625 \r\nL 58.015625 25.390625 \r\nL 58.015625 17.1875 \r\nL 47.609375 17.1875 \r\nL 47.609375 0 \r\nL 37.796875 0 \r\nL 37.796875 17.1875 \r\nL 4.890625 17.1875 \r\nL 4.890625 26.703125 \r\nz\r\n\" id=\"DejaVuSans-52\"/>\r\n       </defs>\r\n       <use xlink:href=\"#DejaVuSans-49\"/>\r\n       <use x=\"63.623047\" xlink:href=\"#DejaVuSans-57\"/>\r\n       <use x=\"127.246094\" xlink:href=\"#DejaVuSans-52\"/>\r\n       <use x=\"190.869141\" xlink:href=\"#DejaVuSans-48\"/>\r\n      </g>\r\n     </g>\r\n    </g>\r\n    <g id=\"xtick_4\">\r\n     <g id=\"line2d_4\">\r\n      <g>\r\n       <use style=\"stroke:#000000;stroke-width:0.8;\" x=\"230.716771\" xlink:href=\"#m12d9fe0b94\" y=\"459.915912\"/>\r\n      </g>\r\n     </g>\r\n     <g id=\"text_4\">\r\n      <!-- 1960 -->\r\n      <g transform=\"translate(217.991771 474.51435)scale(0.1 -0.1)\">\r\n       <defs>\r\n        <path d=\"M 33.015625 40.375 \r\nQ 26.375 40.375 22.484375 35.828125 \r\nQ 18.609375 31.296875 18.609375 23.390625 \r\nQ 18.609375 15.53125 22.484375 10.953125 \r\nQ 26.375 6.390625 33.015625 6.390625 \r\nQ 39.65625 6.390625 43.53125 10.953125 \r\nQ 47.40625 15.53125 47.40625 23.390625 \r\nQ 47.40625 31.296875 43.53125 35.828125 \r\nQ 39.65625 40.375 33.015625 40.375 \r\nz\r\nM 52.59375 71.296875 \r\nL 52.59375 62.3125 \r\nQ 48.875 64.0625 45.09375 64.984375 \r\nQ 41.3125 65.921875 37.59375 65.921875 \r\nQ 27.828125 65.921875 22.671875 59.328125 \r\nQ 17.53125 52.734375 16.796875 39.40625 \r\nQ 19.671875 43.65625 24.015625 45.921875 \r\nQ 28.375 48.1875 33.59375 48.1875 \r\nQ 44.578125 48.1875 50.953125 41.515625 \r\nQ 57.328125 34.859375 57.328125 23.390625 \r\nQ 57.328125 12.15625 50.6875 5.359375 \r\nQ 44.046875 -1.421875 33.015625 -1.421875 \r\nQ 20.359375 -1.421875 13.671875 8.265625 \r\nQ 6.984375 17.96875 6.984375 36.375 \r\nQ 6.984375 53.65625 15.1875 63.9375 \r\nQ 23.390625 74.21875 37.203125 74.21875 \r\nQ 40.921875 74.21875 44.703125 73.484375 \r\nQ 48.484375 72.75 52.59375 71.296875 \r\nz\r\n\" id=\"DejaVuSans-54\"/>\r\n       </defs>\r\n       <use xlink:href=\"#DejaVuSans-49\"/>\r\n       <use x=\"63.623047\" xlink:href=\"#DejaVuSans-57\"/>\r\n       <use x=\"127.246094\" xlink:href=\"#DejaVuSans-54\"/>\r\n       <use x=\"190.869141\" xlink:href=\"#DejaVuSans-48\"/>\r\n      </g>\r\n     </g>\r\n    </g>\r\n    <g id=\"xtick_5\">\r\n     <g id=\"line2d_5\">\r\n      <g>\r\n       <use style=\"stroke:#000000;stroke-width:0.8;\" x=\"288.114549\" xlink:href=\"#m12d9fe0b94\" y=\"459.915912\"/>\r\n      </g>\r\n     </g>\r\n     <g id=\"text_5\">\r\n      <!-- 1980 -->\r\n      <g transform=\"translate(275.389549 474.51435)scale(0.1 -0.1)\">\r\n       <defs>\r\n        <path d=\"M 31.78125 34.625 \r\nQ 24.75 34.625 20.71875 30.859375 \r\nQ 16.703125 27.09375 16.703125 20.515625 \r\nQ 16.703125 13.921875 20.71875 10.15625 \r\nQ 24.75 6.390625 31.78125 6.390625 \r\nQ 38.8125 6.390625 42.859375 10.171875 \r\nQ 46.921875 13.96875 46.921875 20.515625 \r\nQ 46.921875 27.09375 42.890625 30.859375 \r\nQ 38.875 34.625 31.78125 34.625 \r\nz\r\nM 21.921875 38.8125 \r\nQ 15.578125 40.375 12.03125 44.71875 \r\nQ 8.5 49.078125 8.5 55.328125 \r\nQ 8.5 64.0625 14.71875 69.140625 \r\nQ 20.953125 74.21875 31.78125 74.21875 \r\nQ 42.671875 74.21875 48.875 69.140625 \r\nQ 55.078125 64.0625 55.078125 55.328125 \r\nQ 55.078125 49.078125 51.53125 44.71875 \r\nQ 48 40.375 41.703125 38.8125 \r\nQ 48.828125 37.15625 52.796875 32.3125 \r\nQ 56.78125 27.484375 56.78125 20.515625 \r\nQ 56.78125 9.90625 50.3125 4.234375 \r\nQ 43.84375 -1.421875 31.78125 -1.421875 \r\nQ 19.734375 -1.421875 13.25 4.234375 \r\nQ 6.78125 9.90625 6.78125 20.515625 \r\nQ 6.78125 27.484375 10.78125 32.3125 \r\nQ 14.796875 37.15625 21.921875 38.8125 \r\nz\r\nM 18.3125 54.390625 \r\nQ 18.3125 48.734375 21.84375 45.5625 \r\nQ 25.390625 42.390625 31.78125 42.390625 \r\nQ 38.140625 42.390625 41.71875 45.5625 \r\nQ 45.3125 48.734375 45.3125 54.390625 \r\nQ 45.3125 60.0625 41.71875 63.234375 \r\nQ 38.140625 66.40625 31.78125 66.40625 \r\nQ 25.390625 66.40625 21.84375 63.234375 \r\nQ 18.3125 60.0625 18.3125 54.390625 \r\nz\r\n\" id=\"DejaVuSans-56\"/>\r\n       </defs>\r\n       <use xlink:href=\"#DejaVuSans-49\"/>\r\n       <use x=\"63.623047\" xlink:href=\"#DejaVuSans-57\"/>\r\n       <use x=\"127.246094\" xlink:href=\"#DejaVuSans-56\"/>\r\n       <use x=\"190.869141\" xlink:href=\"#DejaVuSans-48\"/>\r\n      </g>\r\n     </g>\r\n    </g>\r\n    <g id=\"text_6\">\r\n     <!-- Year -->\r\n     <g transform=\"translate(189.995437 488.192475)scale(0.1 -0.1)\">\r\n      <defs>\r\n       <path d=\"M -0.203125 72.90625 \r\nL 10.40625 72.90625 \r\nL 30.609375 42.921875 \r\nL 50.6875 72.90625 \r\nL 61.28125 72.90625 \r\nL 35.5 34.71875 \r\nL 35.5 0 \r\nL 25.59375 0 \r\nL 25.59375 34.71875 \r\nz\r\n\" id=\"DejaVuSans-89\"/>\r\n       <path d=\"M 56.203125 29.59375 \r\nL 56.203125 25.203125 \r\nL 14.890625 25.203125 \r\nQ 15.484375 15.921875 20.484375 11.0625 \r\nQ 25.484375 6.203125 34.421875 6.203125 \r\nQ 39.59375 6.203125 44.453125 7.46875 \r\nQ 49.3125 8.734375 54.109375 11.28125 \r\nL 54.109375 2.78125 \r\nQ 49.265625 0.734375 44.1875 -0.34375 \r\nQ 39.109375 -1.421875 33.890625 -1.421875 \r\nQ 20.796875 -1.421875 13.15625 6.1875 \r\nQ 5.515625 13.8125 5.515625 26.8125 \r\nQ 5.515625 40.234375 12.765625 48.109375 \r\nQ 20.015625 56 32.328125 56 \r\nQ 43.359375 56 49.78125 48.890625 \r\nQ 56.203125 41.796875 56.203125 29.59375 \r\nz\r\nM 47.21875 32.234375 \r\nQ 47.125 39.59375 43.09375 43.984375 \r\nQ 39.0625 48.390625 32.421875 48.390625 \r\nQ 24.90625 48.390625 20.390625 44.140625 \r\nQ 15.875 39.890625 15.1875 32.171875 \r\nz\r\n\" id=\"DejaVuSans-101\"/>\r\n       <path d=\"M 34.28125 27.484375 \r\nQ 23.390625 27.484375 19.1875 25 \r\nQ 14.984375 22.515625 14.984375 16.5 \r\nQ 14.984375 11.71875 18.140625 8.90625 \r\nQ 21.296875 6.109375 26.703125 6.109375 \r\nQ 34.1875 6.109375 38.703125 11.40625 \r\nQ 43.21875 16.703125 43.21875 25.484375 \r\nL 43.21875 27.484375 \r\nz\r\nM 52.203125 31.203125 \r\nL 52.203125 0 \r\nL 43.21875 0 \r\nL 43.21875 8.296875 \r\nQ 40.140625 3.328125 35.546875 0.953125 \r\nQ 30.953125 -1.421875 24.3125 -1.421875 \r\nQ 15.921875 -1.421875 10.953125 3.296875 \r\nQ 6 8.015625 6 15.921875 \r\nQ 6 25.140625 12.171875 29.828125 \r\nQ 18.359375 34.515625 30.609375 34.515625 \r\nL 43.21875 34.515625 \r\nL 43.21875 35.40625 \r\nQ 43.21875 41.609375 39.140625 45 \r\nQ 35.0625 48.390625 27.6875 48.390625 \r\nQ 23 48.390625 18.546875 47.265625 \r\nQ 14.109375 46.140625 10.015625 43.890625 \r\nL 10.015625 52.203125 \r\nQ 14.9375 54.109375 19.578125 55.046875 \r\nQ 24.21875 56 28.609375 56 \r\nQ 40.484375 56 46.34375 49.84375 \r\nQ 52.203125 43.703125 52.203125 31.203125 \r\nz\r\n\" id=\"DejaVuSans-97\"/>\r\n       <path d=\"M 41.109375 46.296875 \r\nQ 39.59375 47.171875 37.8125 47.578125 \r\nQ 36.03125 48 33.890625 48 \r\nQ 26.265625 48 22.1875 43.046875 \r\nQ 18.109375 38.09375 18.109375 28.8125 \r\nL 18.109375 0 \r\nL 9.078125 0 \r\nL 9.078125 54.6875 \r\nL 18.109375 54.6875 \r\nL 18.109375 46.1875 \r\nQ 20.953125 51.171875 25.484375 53.578125 \r\nQ 30.03125 56 36.53125 56 \r\nQ 37.453125 56 38.578125 55.875 \r\nQ 39.703125 55.765625 41.0625 55.515625 \r\nz\r\n\" id=\"DejaVuSans-114\"/>\r\n      </defs>\r\n      <use xlink:href=\"#DejaVuSans-89\"/>\r\n      <use x=\"47.833984\" xlink:href=\"#DejaVuSans-101\"/>\r\n      <use x=\"109.357422\" xlink:href=\"#DejaVuSans-97\"/>\r\n      <use x=\"170.636719\" xlink:href=\"#DejaVuSans-114\"/>\r\n     </g>\r\n    </g>\r\n   </g>\r\n   <g id=\"matplotlib.axis_2\">\r\n    <g id=\"ytick_1\">\r\n     <g id=\"line2d_6\">\r\n      <defs>\r\n       <path d=\"M 0 0 \r\nL -3.5 0 \r\n\" id=\"m532b277d6a\" style=\"stroke:#000000;stroke-width:0.8;\"/>\r\n      </defs>\r\n      <g>\r\n       <use style=\"stroke:#000000;stroke-width:0.8;\" x=\"58.523438\" xlink:href=\"#m532b277d6a\" y=\"439.455079\"/>\r\n      </g>\r\n     </g>\r\n     <g id=\"text_7\">\r\n      <!-- −1.00 -->\r\n      <g transform=\"translate(20.878125 443.254298)scale(0.1 -0.1)\">\r\n       <defs>\r\n        <path d=\"M 10.59375 35.5 \r\nL 73.1875 35.5 \r\nL 73.1875 27.203125 \r\nL 10.59375 27.203125 \r\nz\r\n\" id=\"DejaVuSans-8722\"/>\r\n        <path d=\"M 10.6875 12.40625 \r\nL 21 12.40625 \r\nL 21 0 \r\nL 10.6875 0 \r\nz\r\n\" id=\"DejaVuSans-46\"/>\r\n       </defs>\r\n       <use xlink:href=\"#DejaVuSans-8722\"/>\r\n       <use x=\"83.789062\" xlink:href=\"#DejaVuSans-49\"/>\r\n       <use x=\"147.412109\" xlink:href=\"#DejaVuSans-46\"/>\r\n       <use x=\"179.199219\" xlink:href=\"#DejaVuSans-48\"/>\r\n       <use x=\"242.822266\" xlink:href=\"#DejaVuSans-48\"/>\r\n      </g>\r\n     </g>\r\n    </g>\r\n    <g id=\"ytick_2\">\r\n     <g id=\"line2d_7\">\r\n      <g>\r\n       <use style=\"stroke:#000000;stroke-width:0.8;\" x=\"58.523438\" xlink:href=\"#m532b277d6a\" y=\"385.898096\"/>\r\n      </g>\r\n     </g>\r\n     <g id=\"text_8\">\r\n      <!-- −0.75 -->\r\n      <g transform=\"translate(20.878125 389.697315)scale(0.1 -0.1)\">\r\n       <defs>\r\n        <path d=\"M 8.203125 72.90625 \r\nL 55.078125 72.90625 \r\nL 55.078125 68.703125 \r\nL 28.609375 0 \r\nL 18.3125 0 \r\nL 43.21875 64.59375 \r\nL 8.203125 64.59375 \r\nz\r\n\" id=\"DejaVuSans-55\"/>\r\n        <path d=\"M 10.796875 72.90625 \r\nL 49.515625 72.90625 \r\nL 49.515625 64.59375 \r\nL 19.828125 64.59375 \r\nL 19.828125 46.734375 \r\nQ 21.96875 47.46875 24.109375 47.828125 \r\nQ 26.265625 48.1875 28.421875 48.1875 \r\nQ 40.625 48.1875 47.75 41.5 \r\nQ 54.890625 34.8125 54.890625 23.390625 \r\nQ 54.890625 11.625 47.5625 5.09375 \r\nQ 40.234375 -1.421875 26.90625 -1.421875 \r\nQ 22.3125 -1.421875 17.546875 -0.640625 \r\nQ 12.796875 0.140625 7.71875 1.703125 \r\nL 7.71875 11.625 \r\nQ 12.109375 9.234375 16.796875 8.0625 \r\nQ 21.484375 6.890625 26.703125 6.890625 \r\nQ 35.15625 6.890625 40.078125 11.328125 \r\nQ 45.015625 15.765625 45.015625 23.390625 \r\nQ 45.015625 31 40.078125 35.4375 \r\nQ 35.15625 39.890625 26.703125 39.890625 \r\nQ 22.75 39.890625 18.8125 39.015625 \r\nQ 14.890625 38.140625 10.796875 36.28125 \r\nz\r\n\" id=\"DejaVuSans-53\"/>\r\n       </defs>\r\n       <use xlink:href=\"#DejaVuSans-8722\"/>\r\n       <use x=\"83.789062\" xlink:href=\"#DejaVuSans-48\"/>\r\n       <use x=\"147.412109\" xlink:href=\"#DejaVuSans-46\"/>\r\n       <use x=\"179.199219\" xlink:href=\"#DejaVuSans-55\"/>\r\n       <use x=\"242.822266\" xlink:href=\"#DejaVuSans-53\"/>\r\n      </g>\r\n     </g>\r\n    </g>\r\n    <g id=\"ytick_3\">\r\n     <g id=\"line2d_8\">\r\n      <g>\r\n       <use style=\"stroke:#000000;stroke-width:0.8;\" x=\"58.523438\" xlink:href=\"#m532b277d6a\" y=\"332.341114\"/>\r\n      </g>\r\n     </g>\r\n     <g id=\"text_9\">\r\n      <!-- −0.50 -->\r\n      <g transform=\"translate(20.878125 336.140333)scale(0.1 -0.1)\">\r\n       <use xlink:href=\"#DejaVuSans-8722\"/>\r\n       <use x=\"83.789062\" xlink:href=\"#DejaVuSans-48\"/>\r\n       <use x=\"147.412109\" xlink:href=\"#DejaVuSans-46\"/>\r\n       <use x=\"179.199219\" xlink:href=\"#DejaVuSans-53\"/>\r\n       <use x=\"242.822266\" xlink:href=\"#DejaVuSans-48\"/>\r\n      </g>\r\n     </g>\r\n    </g>\r\n    <g id=\"ytick_4\">\r\n     <g id=\"line2d_9\">\r\n      <g>\r\n       <use style=\"stroke:#000000;stroke-width:0.8;\" x=\"58.523438\" xlink:href=\"#m532b277d6a\" y=\"278.784131\"/>\r\n      </g>\r\n     </g>\r\n     <g id=\"text_10\">\r\n      <!-- −0.25 -->\r\n      <g transform=\"translate(20.878125 282.58335)scale(0.1 -0.1)\">\r\n       <use xlink:href=\"#DejaVuSans-8722\"/>\r\n       <use x=\"83.789062\" xlink:href=\"#DejaVuSans-48\"/>\r\n       <use x=\"147.412109\" xlink:href=\"#DejaVuSans-46\"/>\r\n       <use x=\"179.199219\" xlink:href=\"#DejaVuSans-50\"/>\r\n       <use x=\"242.822266\" xlink:href=\"#DejaVuSans-53\"/>\r\n      </g>\r\n     </g>\r\n    </g>\r\n    <g id=\"ytick_5\">\r\n     <g id=\"line2d_10\">\r\n      <g>\r\n       <use style=\"stroke:#000000;stroke-width:0.8;\" x=\"58.523438\" xlink:href=\"#m532b277d6a\" y=\"225.227149\"/>\r\n      </g>\r\n     </g>\r\n     <g id=\"text_11\">\r\n      <!-- 0.00 -->\r\n      <g transform=\"translate(29.257813 229.026368)scale(0.1 -0.1)\">\r\n       <use xlink:href=\"#DejaVuSans-48\"/>\r\n       <use x=\"63.623047\" xlink:href=\"#DejaVuSans-46\"/>\r\n       <use x=\"95.410156\" xlink:href=\"#DejaVuSans-48\"/>\r\n       <use x=\"159.033203\" xlink:href=\"#DejaVuSans-48\"/>\r\n      </g>\r\n     </g>\r\n    </g>\r\n    <g id=\"ytick_6\">\r\n     <g id=\"line2d_11\">\r\n      <g>\r\n       <use style=\"stroke:#000000;stroke-width:0.8;\" x=\"58.523438\" xlink:href=\"#m532b277d6a\" y=\"171.670166\"/>\r\n      </g>\r\n     </g>\r\n     <g id=\"text_12\">\r\n      <!-- 0.25 -->\r\n      <g transform=\"translate(29.257813 175.469385)scale(0.1 -0.1)\">\r\n       <use xlink:href=\"#DejaVuSans-48\"/>\r\n       <use x=\"63.623047\" xlink:href=\"#DejaVuSans-46\"/>\r\n       <use x=\"95.410156\" xlink:href=\"#DejaVuSans-50\"/>\r\n       <use x=\"159.033203\" xlink:href=\"#DejaVuSans-53\"/>\r\n      </g>\r\n     </g>\r\n    </g>\r\n    <g id=\"ytick_7\">\r\n     <g id=\"line2d_12\">\r\n      <g>\r\n       <use style=\"stroke:#000000;stroke-width:0.8;\" x=\"58.523438\" xlink:href=\"#m532b277d6a\" y=\"118.113184\"/>\r\n      </g>\r\n     </g>\r\n     <g id=\"text_13\">\r\n      <!-- 0.50 -->\r\n      <g transform=\"translate(29.257813 121.912403)scale(0.1 -0.1)\">\r\n       <use xlink:href=\"#DejaVuSans-48\"/>\r\n       <use x=\"63.623047\" xlink:href=\"#DejaVuSans-46\"/>\r\n       <use x=\"95.410156\" xlink:href=\"#DejaVuSans-53\"/>\r\n       <use x=\"159.033203\" xlink:href=\"#DejaVuSans-48\"/>\r\n      </g>\r\n     </g>\r\n    </g>\r\n    <g id=\"ytick_8\">\r\n     <g id=\"line2d_13\">\r\n      <g>\r\n       <use style=\"stroke:#000000;stroke-width:0.8;\" x=\"58.523438\" xlink:href=\"#m532b277d6a\" y=\"64.556201\"/>\r\n      </g>\r\n     </g>\r\n     <g id=\"text_14\">\r\n      <!-- 0.75 -->\r\n      <g transform=\"translate(29.257813 68.35542)scale(0.1 -0.1)\">\r\n       <use xlink:href=\"#DejaVuSans-48\"/>\r\n       <use x=\"63.623047\" xlink:href=\"#DejaVuSans-46\"/>\r\n       <use x=\"95.410156\" xlink:href=\"#DejaVuSans-55\"/>\r\n       <use x=\"159.033203\" xlink:href=\"#DejaVuSans-53\"/>\r\n      </g>\r\n     </g>\r\n    </g>\r\n    <g id=\"ytick_9\">\r\n     <g id=\"line2d_14\">\r\n      <g>\r\n       <use style=\"stroke:#000000;stroke-width:0.8;\" x=\"58.523438\" xlink:href=\"#m532b277d6a\" y=\"10.999219\"/>\r\n      </g>\r\n     </g>\r\n     <g id=\"text_15\">\r\n      <!-- 1.00 -->\r\n      <g transform=\"translate(29.257813 14.798438)scale(0.1 -0.1)\">\r\n       <use xlink:href=\"#DejaVuSans-49\"/>\r\n       <use x=\"63.623047\" xlink:href=\"#DejaVuSans-46\"/>\r\n       <use x=\"95.410156\" xlink:href=\"#DejaVuSans-48\"/>\r\n       <use x=\"159.033203\" xlink:href=\"#DejaVuSans-48\"/>\r\n      </g>\r\n     </g>\r\n    </g>\r\n    <g id=\"text_16\">\r\n     <!-- Correlation -->\r\n     <g transform=\"translate(14.798438 262.415495)rotate(-90)scale(0.1 -0.1)\">\r\n      <defs>\r\n       <path d=\"M 64.40625 67.28125 \r\nL 64.40625 56.890625 \r\nQ 59.421875 61.53125 53.78125 63.8125 \r\nQ 48.140625 66.109375 41.796875 66.109375 \r\nQ 29.296875 66.109375 22.65625 58.46875 \r\nQ 16.015625 50.828125 16.015625 36.375 \r\nQ 16.015625 21.96875 22.65625 14.328125 \r\nQ 29.296875 6.6875 41.796875 6.6875 \r\nQ 48.140625 6.6875 53.78125 8.984375 \r\nQ 59.421875 11.28125 64.40625 15.921875 \r\nL 64.40625 5.609375 \r\nQ 59.234375 2.09375 53.4375 0.328125 \r\nQ 47.65625 -1.421875 41.21875 -1.421875 \r\nQ 24.65625 -1.421875 15.125 8.703125 \r\nQ 5.609375 18.84375 5.609375 36.375 \r\nQ 5.609375 53.953125 15.125 64.078125 \r\nQ 24.65625 74.21875 41.21875 74.21875 \r\nQ 47.75 74.21875 53.53125 72.484375 \r\nQ 59.328125 70.75 64.40625 67.28125 \r\nz\r\n\" id=\"DejaVuSans-67\"/>\r\n       <path d=\"M 30.609375 48.390625 \r\nQ 23.390625 48.390625 19.1875 42.75 \r\nQ 14.984375 37.109375 14.984375 27.296875 \r\nQ 14.984375 17.484375 19.15625 11.84375 \r\nQ 23.34375 6.203125 30.609375 6.203125 \r\nQ 37.796875 6.203125 41.984375 11.859375 \r\nQ 46.1875 17.53125 46.1875 27.296875 \r\nQ 46.1875 37.015625 41.984375 42.703125 \r\nQ 37.796875 48.390625 30.609375 48.390625 \r\nz\r\nM 30.609375 56 \r\nQ 42.328125 56 49.015625 48.375 \r\nQ 55.71875 40.765625 55.71875 27.296875 \r\nQ 55.71875 13.875 49.015625 6.21875 \r\nQ 42.328125 -1.421875 30.609375 -1.421875 \r\nQ 18.84375 -1.421875 12.171875 6.21875 \r\nQ 5.515625 13.875 5.515625 27.296875 \r\nQ 5.515625 40.765625 12.171875 48.375 \r\nQ 18.84375 56 30.609375 56 \r\nz\r\n\" id=\"DejaVuSans-111\"/>\r\n       <path d=\"M 9.421875 75.984375 \r\nL 18.40625 75.984375 \r\nL 18.40625 0 \r\nL 9.421875 0 \r\nz\r\n\" id=\"DejaVuSans-108\"/>\r\n       <path d=\"M 18.3125 70.21875 \r\nL 18.3125 54.6875 \r\nL 36.8125 54.6875 \r\nL 36.8125 47.703125 \r\nL 18.3125 47.703125 \r\nL 18.3125 18.015625 \r\nQ 18.3125 11.328125 20.140625 9.421875 \r\nQ 21.96875 7.515625 27.59375 7.515625 \r\nL 36.8125 7.515625 \r\nL 36.8125 0 \r\nL 27.59375 0 \r\nQ 17.1875 0 13.234375 3.875 \r\nQ 9.28125 7.765625 9.28125 18.015625 \r\nL 9.28125 47.703125 \r\nL 2.6875 47.703125 \r\nL 2.6875 54.6875 \r\nL 9.28125 54.6875 \r\nL 9.28125 70.21875 \r\nz\r\n\" id=\"DejaVuSans-116\"/>\r\n       <path d=\"M 9.421875 54.6875 \r\nL 18.40625 54.6875 \r\nL 18.40625 0 \r\nL 9.421875 0 \r\nz\r\nM 9.421875 75.984375 \r\nL 18.40625 75.984375 \r\nL 18.40625 64.59375 \r\nL 9.421875 64.59375 \r\nz\r\n\" id=\"DejaVuSans-105\"/>\r\n       <path d=\"M 54.890625 33.015625 \r\nL 54.890625 0 \r\nL 45.90625 0 \r\nL 45.90625 32.71875 \r\nQ 45.90625 40.484375 42.875 44.328125 \r\nQ 39.84375 48.1875 33.796875 48.1875 \r\nQ 26.515625 48.1875 22.3125 43.546875 \r\nQ 18.109375 38.921875 18.109375 30.90625 \r\nL 18.109375 0 \r\nL 9.078125 0 \r\nL 9.078125 54.6875 \r\nL 18.109375 54.6875 \r\nL 18.109375 46.1875 \r\nQ 21.34375 51.125 25.703125 53.5625 \r\nQ 30.078125 56 35.796875 56 \r\nQ 45.21875 56 50.046875 50.171875 \r\nQ 54.890625 44.34375 54.890625 33.015625 \r\nz\r\n\" id=\"DejaVuSans-110\"/>\r\n      </defs>\r\n      <use xlink:href=\"#DejaVuSans-67\"/>\r\n      <use x=\"69.824219\" xlink:href=\"#DejaVuSans-111\"/>\r\n      <use x=\"131.005859\" xlink:href=\"#DejaVuSans-114\"/>\r\n      <use x=\"170.369141\" xlink:href=\"#DejaVuSans-114\"/>\r\n      <use x=\"209.232422\" xlink:href=\"#DejaVuSans-101\"/>\r\n      <use x=\"270.755859\" xlink:href=\"#DejaVuSans-108\"/>\r\n      <use x=\"298.539062\" xlink:href=\"#DejaVuSans-97\"/>\r\n      <use x=\"359.818359\" xlink:href=\"#DejaVuSans-116\"/>\r\n      <use x=\"399.027344\" xlink:href=\"#DejaVuSans-105\"/>\r\n      <use x=\"426.810547\" xlink:href=\"#DejaVuSans-111\"/>\r\n      <use x=\"487.992188\" xlink:href=\"#DejaVuSans-110\"/>\r\n     </g>\r\n    </g>\r\n   </g>\r\n   <g id=\"line2d_15\">\r\n    <path clip-path=\"url(#pbd73c21d2c)\" d=\"M 58.523438 191.797745 \r\nL 61.393326 191.894483 \r\nL 64.263215 191.99122 \r\nL 67.133104 192.087958 \r\nL 70.002993 192.184695 \r\nL 72.872882 192.281432 \r\nL 75.742771 192.37817 \r\nL 78.61266 192.474907 \r\nL 81.482549 192.571645 \r\nL 84.352437 192.668382 \r\nL 87.222326 192.765119 \r\nL 90.092215 192.861857 \r\nL 92.962104 192.958594 \r\nL 95.831993 193.055332 \r\nL 98.701882 193.152069 \r\nL 101.571771 193.248807 \r\nL 104.44166 193.345544 \r\nL 107.311549 193.442281 \r\nL 110.181437 193.539019 \r\nL 113.051326 193.635756 \r\nL 115.921215 193.732494 \r\nL 118.791104 193.829231 \r\nL 121.660993 193.925968 \r\nL 124.530882 194.022706 \r\nL 127.400771 194.119443 \r\nL 130.27066 194.216181 \r\nL 133.140549 194.312918 \r\nL 136.010437 194.409655 \r\nL 138.880326 194.506393 \r\nL 141.750215 194.60313 \r\nL 144.620104 194.699868 \r\nL 147.489993 194.796605 \r\nL 150.359882 194.893343 \r\nL 153.229771 194.99008 \r\nL 156.09966 195.086817 \r\nL 158.969549 195.183555 \r\nL 161.839437 195.280292 \r\nL 164.709326 195.37703 \r\nL 167.579215 195.473767 \r\nL 170.449104 195.570504 \r\nL 173.318993 195.667242 \r\nL 176.188882 195.763979 \r\nL 179.058771 195.860717 \r\nL 181.92866 195.957454 \r\nL 184.798549 196.054191 \r\nL 187.668437 196.150929 \r\nL 190.538326 196.247666 \r\nL 193.408215 196.344404 \r\nL 196.278104 196.441141 \r\nL 199.147993 196.537879 \r\nL 202.017882 196.634616 \r\nL 204.887771 196.731353 \r\nL 207.75766 196.828091 \r\nL 210.627549 196.924828 \r\nL 213.497437 197.021566 \r\nL 216.367326 197.118303 \r\nL 219.237215 197.21504 \r\nL 222.107104 197.311778 \r\nL 224.976993 197.408515 \r\nL 227.846882 197.505253 \r\nL 230.716771 197.60199 \r\nL 233.58666 197.698727 \r\nL 236.456549 197.795465 \r\nL 239.326437 197.892202 \r\nL 242.196326 197.98894 \r\nL 245.066215 198.085677 \r\nL 247.936104 198.182415 \r\nL 250.805993 198.279152 \r\nL 253.675882 198.375889 \r\nL 256.545771 198.472627 \r\nL 259.41566 198.569364 \r\nL 262.285549 198.666102 \r\nL 265.155437 198.762839 \r\nL 268.025326 198.859576 \r\nL 270.895215 198.956314 \r\nL 273.765104 199.053051 \r\nL 276.634993 199.149789 \r\nL 279.504882 199.246526 \r\nL 282.374771 199.343263 \r\nL 285.24466 199.440001 \r\nL 288.114549 199.536738 \r\nL 290.984437 199.633476 \r\nL 293.854326 199.730213 \r\nL 296.724215 199.826951 \r\nL 299.594104 199.923688 \r\nL 302.463993 200.020425 \r\nL 305.333882 200.117163 \r\nL 308.203771 200.2139 \r\nL 311.07366 200.310638 \r\nL 313.943549 200.407375 \r\nL 316.813437 200.504112 \r\nL 319.683326 200.60085 \r\nL 322.553215 200.697587 \r\nL 325.423104 200.794325 \r\nL 328.292993 200.891062 \r\nL 331.162882 200.987799 \r\nL 334.032771 201.084537 \r\nL 336.90266 201.181274 \r\nL 339.772549 201.278012 \r\nL 342.642437 201.374749 \r\n\" style=\"fill:none;stroke:#1f77b4;stroke-linecap:square;stroke-width:2.25;\"/>\r\n   </g>\r\n   <g id=\"patch_3\">\r\n    <path d=\"M 58.523438 459.915912 \r\nL 58.523438 9.777577 \r\n\" style=\"fill:none;stroke:#000000;stroke-linecap:square;stroke-linejoin:miter;stroke-width:0.8;\"/>\r\n   </g>\r\n   <g id=\"patch_4\">\r\n    <path d=\"M 58.523438 459.915912 \r\nL 342.642437 459.915912 \r\n\" style=\"fill:none;stroke:#000000;stroke-linecap:square;stroke-linejoin:miter;stroke-width:0.8;\"/>\r\n   </g>\r\n  </g>\r\n </g>\r\n <defs>\r\n  <clipPath id=\"pbd73c21d2c\">\r\n   <rect height=\"450.138335\" width=\"284.119\" x=\"58.523438\" y=\"9.777577\"/>\r\n  </clipPath>\r\n </defs>\r\n</svg>\r\n",
      "image/png": "[encoded data removed]"
     },
     "metadata": {
      "needs_background": "light"
     }
    }
   ],
   "source": [
    "# 31\n",
    "import seaborn as sns\n",
    "sns.pairplot(Corr_year, x_vars='Year', y_vars='Correlation', size=7, aspect=0.7, kind='reg')"
   ]
  },
  {
   "cell_type": "code",
   "execution_count": null,
   "metadata": {},
   "outputs": [],
   "source": []
  }
 ],
 "metadata": {
  "kernelspec": {
   "name": "python392jvsc74a57bd09f732bf2f1584e2b91c869ae689782b48698a078eb0caa539c1da4908ee28e8a",
   "display_name": "Python 3.9.2 64-bit"
  },
  "language_info": {
   "codemirror_mode": {
    "name": "ipython",
    "version": 3
   },
   "file_extension": ".py",
   "mimetype": "text/x-python",
   "name": "python",
   "nbconvert_exporter": "python",
   "pygments_lexer": "ipython3",
   "version": "3.9.2"
  }
 },
 "nbformat": 4,
 "nbformat_minor": 4
}