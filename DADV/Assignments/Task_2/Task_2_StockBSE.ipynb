{
 "cells": [
  {
   "cell_type": "code",
   "execution_count": 25,
   "metadata": {},
   "outputs": [],
   "source": [
    "# 1\n",
    "import pandas as pd\n",
    "import numpy as np\n",
    "import random\n",
    "import glob\n",
    "import csv, os"
   ]
  },
  {
   "cell_type": "code",
   "execution_count": 26,
   "metadata": {},
   "outputs": [],
   "source": [
    "# 2\n",
    "def is_file_empty(file_path):\n",
    "    return os.path.exists(file_path) and os.stat(file_path).st_size == 0"
   ]
  },
  {
   "cell_type": "code",
   "execution_count": 27,
   "metadata": {},
   "outputs": [],
   "source": [
    "# 3\n",
    "count = 0\n",
    "df = pd.DataFrame()\n",
    "for files in glob.glob('C:\\\\Users\\\\madhu\\\\Desktop\\\\Repositories\\\\Data_Science_2019501105\\\\DADV\\\\Assignments\\\\Task_2\\\\Databases\\\\*.csv'):\n",
    "    if count == 28:\n",
    "        break\n",
    "    f=open(files, 'r')\n",
    "    name = os.path.basename(f.name).replace(\".csv\",\"\")\n",
    "    if is_file_empty(\"C:\\\\Users\\\\madhu\\\\Desktop\\\\Repositories\\\\Data_Science_2019501105\\\\DADV\\\\Assignments\\\\Task_2\\\\Databases\\\\\"+name+\".csv\"):\n",
    "        continue\n",
    "    data = pd.read_csv(f)\n",
    "    gain = (data.at[data.shape[0]-1, \"Close Price\"] / data.at[0,\"Close Price\"]) - 1\n",
    "#     gain = (close[len(close)-1]/close[0])-1\n",
    "    row = {'Code': name, 'Gain': gain}\n",
    "    df = df.append(row, ignore_index=True)\n",
    "    count = count + 1\n",
    "    f.close()"
   ]
  },
  {
   "cell_type": "code",
   "execution_count": 28,
   "metadata": {},
   "outputs": [
    {
     "output_type": "execute_result",
     "data": {
      "text/plain": [
       "      Code         Gain\n",
       "7   511736  1408.090909\n",
       "21  538685     3.151163\n",
       "27  570001     2.500961\n",
       "18  533178     2.380282\n",
       "11  522165     2.320251\n",
       "8   513117     1.513812\n",
       "23  539542     1.265420\n",
       "14  530235     1.094595\n",
       "16  530655     0.889655\n",
       "3   500480     0.642359"
      ],
      "text/html": "<div>\n<style scoped>\n    .dataframe tbody tr th:only-of-type {\n        vertical-align: middle;\n    }\n\n    .dataframe tbody tr th {\n        vertical-align: top;\n    }\n\n    .dataframe thead th {\n        text-align: right;\n    }\n</style>\n<table border=\"1\" class=\"dataframe\">\n  <thead>\n    <tr style=\"text-align: right;\">\n      <th></th>\n      <th>Code</th>\n      <th>Gain</th>\n    </tr>\n  </thead>\n  <tbody>\n    <tr>\n      <th>7</th>\n      <td>511736</td>\n      <td>1408.090909</td>\n    </tr>\n    <tr>\n      <th>21</th>\n      <td>538685</td>\n      <td>3.151163</td>\n    </tr>\n    <tr>\n      <th>27</th>\n      <td>570001</td>\n      <td>2.500961</td>\n    </tr>\n    <tr>\n      <th>18</th>\n      <td>533178</td>\n      <td>2.380282</td>\n    </tr>\n    <tr>\n      <th>11</th>\n      <td>522165</td>\n      <td>2.320251</td>\n    </tr>\n    <tr>\n      <th>8</th>\n      <td>513117</td>\n      <td>1.513812</td>\n    </tr>\n    <tr>\n      <th>23</th>\n      <td>539542</td>\n      <td>1.265420</td>\n    </tr>\n    <tr>\n      <th>14</th>\n      <td>530235</td>\n      <td>1.094595</td>\n    </tr>\n    <tr>\n      <th>16</th>\n      <td>530655</td>\n      <td>0.889655</td>\n    </tr>\n    <tr>\n      <th>3</th>\n      <td>500480</td>\n      <td>0.642359</td>\n    </tr>\n  </tbody>\n</table>\n</div>"
     },
     "metadata": {},
     "execution_count": 28
    }
   ],
   "source": [
    "# 4\n",
    "df_5years = df.sort_values(\"Gain\", ascending=False)\n",
    "df_5years.head(10)"
   ]
  },
  {
   "cell_type": "code",
   "execution_count": 29,
   "metadata": {},
   "outputs": [],
   "source": [
    "count = 0\n",
    "df = pd.DataFrame()\n",
    "for files in glob.glob('C:\\\\Users\\\\madhu\\\\Desktop\\\\Repositories\\\\Data_Science_2019501105\\\\DADV\\\\Assignments\\\\Task_2\\\\Databases\\\\*.csv'):\n",
    "    if count == 17:\n",
    "        break\n",
    "    f=open(files, 'r')\n",
    "    name = os.path.basename(f.name).replace(\".csv\",\"\")\n",
    "    if is_file_empty(\"C:\\\\Users\\\\madhu\\\\Desktop\\\\Repositories\\\\Data_Science_2019501105\\\\DADV\\\\Assignments\\\\Task_2\\\\Databases\\\\\"+name+\".csv\"):\n",
    "        continue\n",
    "    data = pd.read_csv(f)\n",
    "    data1 = data[0:750]\n",
    "    gain = (data1.at[data1.shape[0]-1, \"Close Price\"] / data1.at[0,\"Close Price\"]) - 1\n",
    "#     gain = (close[len(close)-1]/close[0])-1\n",
    "    row = {'Code': name, 'Gain': gain}\n",
    "    df = df.append(row, ignore_index=True)\n",
    "    count = count + 1\n",
    "    f.close()"
   ]
  },
  {
   "cell_type": "code",
   "execution_count": 30,
   "metadata": {},
   "outputs": [
    {
     "output_type": "execute_result",
     "data": {
      "text/plain": [
       "      Code       Gain\n",
       "7   511736  47.409091\n",
       "11  522165  14.125589\n",
       "15  530355   1.696459\n",
       "5   506480   1.422651\n",
       "2   500439   1.417314\n",
       "14  530235   1.094595\n",
       "8   513117   0.685083\n",
       "16  530655   0.531897\n",
       "3   500480   0.505348\n",
       "4   505141   0.426404"
      ],
      "text/html": "<div>\n<style scoped>\n    .dataframe tbody tr th:only-of-type {\n        vertical-align: middle;\n    }\n\n    .dataframe tbody tr th {\n        vertical-align: top;\n    }\n\n    .dataframe thead th {\n        text-align: right;\n    }\n</style>\n<table border=\"1\" class=\"dataframe\">\n  <thead>\n    <tr style=\"text-align: right;\">\n      <th></th>\n      <th>Code</th>\n      <th>Gain</th>\n    </tr>\n  </thead>\n  <tbody>\n    <tr>\n      <th>7</th>\n      <td>511736</td>\n      <td>47.409091</td>\n    </tr>\n    <tr>\n      <th>11</th>\n      <td>522165</td>\n      <td>14.125589</td>\n    </tr>\n    <tr>\n      <th>15</th>\n      <td>530355</td>\n      <td>1.696459</td>\n    </tr>\n    <tr>\n      <th>5</th>\n      <td>506480</td>\n      <td>1.422651</td>\n    </tr>\n    <tr>\n      <th>2</th>\n      <td>500439</td>\n      <td>1.417314</td>\n    </tr>\n    <tr>\n      <th>14</th>\n      <td>530235</td>\n      <td>1.094595</td>\n    </tr>\n    <tr>\n      <th>8</th>\n      <td>513117</td>\n      <td>0.685083</td>\n    </tr>\n    <tr>\n      <th>16</th>\n      <td>530655</td>\n      <td>0.531897</td>\n    </tr>\n    <tr>\n      <th>3</th>\n      <td>500480</td>\n      <td>0.505348</td>\n    </tr>\n    <tr>\n      <th>4</th>\n      <td>505141</td>\n      <td>0.426404</td>\n    </tr>\n  </tbody>\n</table>\n</div>"
     },
     "metadata": {},
     "execution_count": 30
    }
   ],
   "source": [
    "df_3years = df.sort_values(\"Gain\", ascending=False)\n",
    "df_3years.head(10)"
   ]
  },
  {
   "cell_type": "code",
   "execution_count": 31,
   "metadata": {},
   "outputs": [],
   "source": [
    "count = 0\n",
    "df = pd.DataFrame()\n",
    "for files in glob.glob('C:\\\\Users\\\\madhu\\\\Desktop\\\\Repositories\\\\Data_Science_2019501105\\\\DADV\\\\Assignments\\\\Task_2\\\\Databases\\\\*.csv'):\n",
    "    if count == 25:\n",
    "        break\n",
    "    f=open(files, 'r')\n",
    "    name = os.path.basename(f.name).replace(\".csv\",\"\")\n",
    "    if is_file_empty(\"C:\\\\Users\\\\madhu\\\\Desktop\\\\Repositories\\\\Data_Science_2019501105\\\\DADV\\\\Assignments\\\\Task_2\\\\Databases\\\\\"+name+\".csv\"):\n",
    "        continue\n",
    "    data = pd.read_csv(f)\n",
    "    data1 = data[0:250]\n",
    "   \n",
    "    gain = (data1.at[data1.shape[0]-1, \"Close Price\"] / data1.at[0,\"Close Price\"]) - 1\n",
    "#     gain = (close[len(close)-1]/close[0])-1\n",
    "    row = {'Code': name, 'Gain': gain}\n",
    "    df = df.append(row, ignore_index=True)\n",
    "    count = count + 1\n",
    "    f.close()"
   ]
  },
  {
   "cell_type": "code",
   "execution_count": 32,
   "metadata": {},
   "outputs": [
    {
     "output_type": "execute_result",
     "data": {
      "text/plain": [
       "      Code      Gain\n",
       "14  530235  2.243243\n",
       "11  522165  1.519623\n",
       "21  538685  1.225452\n",
       "13  526325  1.036320\n",
       "18  533178  0.732394\n",
       "5   506480  0.329157\n",
       "24  539607  0.154201\n",
       "15  530355  0.133783\n",
       "6   507880  0.093307\n",
       "7   511736  0.090909"
      ],
      "text/html": "<div>\n<style scoped>\n    .dataframe tbody tr th:only-of-type {\n        vertical-align: middle;\n    }\n\n    .dataframe tbody tr th {\n        vertical-align: top;\n    }\n\n    .dataframe thead th {\n        text-align: right;\n    }\n</style>\n<table border=\"1\" class=\"dataframe\">\n  <thead>\n    <tr style=\"text-align: right;\">\n      <th></th>\n      <th>Code</th>\n      <th>Gain</th>\n    </tr>\n  </thead>\n  <tbody>\n    <tr>\n      <th>14</th>\n      <td>530235</td>\n      <td>2.243243</td>\n    </tr>\n    <tr>\n      <th>11</th>\n      <td>522165</td>\n      <td>1.519623</td>\n    </tr>\n    <tr>\n      <th>21</th>\n      <td>538685</td>\n      <td>1.225452</td>\n    </tr>\n    <tr>\n      <th>13</th>\n      <td>526325</td>\n      <td>1.036320</td>\n    </tr>\n    <tr>\n      <th>18</th>\n      <td>533178</td>\n      <td>0.732394</td>\n    </tr>\n    <tr>\n      <th>5</th>\n      <td>506480</td>\n      <td>0.329157</td>\n    </tr>\n    <tr>\n      <th>24</th>\n      <td>539607</td>\n      <td>0.154201</td>\n    </tr>\n    <tr>\n      <th>15</th>\n      <td>530355</td>\n      <td>0.133783</td>\n    </tr>\n    <tr>\n      <th>6</th>\n      <td>507880</td>\n      <td>0.093307</td>\n    </tr>\n    <tr>\n      <th>7</th>\n      <td>511736</td>\n      <td>0.090909</td>\n    </tr>\n  </tbody>\n</table>\n</div>"
     },
     "metadata": {},
     "execution_count": 32
    }
   ],
   "source": [
    "df_1year = df.sort_values(\"Gain\", ascending=False)\n",
    "df_1year.head(10)"
   ]
  },
  {
   "cell_type": "code",
   "execution_count": 33,
   "metadata": {},
   "outputs": [],
   "source": [
    "count = 0\n",
    "df = pd.DataFrame()\n",
    "for files in glob.glob('C:\\\\Users\\\\madhu\\\\Desktop\\\\Repositories\\\\Data_Science_2019501105\\\\DADV\\\\Assignments\\\\Task_2\\\\Databases\\\\*.csv'):\n",
    "    if count == 15:\n",
    "        break\n",
    "    f=open(files, 'r')\n",
    "    name = os.path.basename(f.name).replace(\".csv\",\"\")\n",
    "    if is_file_empty(\"C:\\\\Users\\\\madhu\\\\Desktop\\\\Repositories\\\\Data_Science_2019501105\\\\DADV\\\\Assignments\\\\Task_2\\\\Databases\\\\\"+name+\".csv\"):\n",
    "        continue\n",
    "    data = pd.read_csv(f)\n",
    "    data1 = data[0:130]\n",
    "   \n",
    "    gain = (data1.at[data1.shape[0]-1, \"Close Price\"] / data1.at[0,\"Close Price\"]) - 1\n",
    "#     gain = (close[len(close)-1]/close[0])-1\n",
    "    row = {'Code': name, 'Gain': gain}\n",
    "    df = df.append(row, ignore_index=True)\n",
    "    count = count + 1\n",
    "    f.close()"
   ]
  },
  {
   "cell_type": "code",
   "execution_count": 34,
   "metadata": {},
   "outputs": [
    {
     "output_type": "execute_result",
     "data": {
      "text/plain": [
       "          Code      Gain\n",
       "14      530235  3.054054\n",
       "13      526325  0.268160\n",
       "12      523896  0.221374\n",
       "11      522165 -0.090267\n",
       "4       505141 -0.135053\n",
       "7       511736 -0.136364\n",
       "10      520059 -0.165850\n",
       "5       506480 -0.166265\n",
       "2       500439 -0.170551\n",
       "0   500292 (1) -0.215870"
      ],
      "text/html": "<div>\n<style scoped>\n    .dataframe tbody tr th:only-of-type {\n        vertical-align: middle;\n    }\n\n    .dataframe tbody tr th {\n        vertical-align: top;\n    }\n\n    .dataframe thead th {\n        text-align: right;\n    }\n</style>\n<table border=\"1\" class=\"dataframe\">\n  <thead>\n    <tr style=\"text-align: right;\">\n      <th></th>\n      <th>Code</th>\n      <th>Gain</th>\n    </tr>\n  </thead>\n  <tbody>\n    <tr>\n      <th>14</th>\n      <td>530235</td>\n      <td>3.054054</td>\n    </tr>\n    <tr>\n      <th>13</th>\n      <td>526325</td>\n      <td>0.268160</td>\n    </tr>\n    <tr>\n      <th>12</th>\n      <td>523896</td>\n      <td>0.221374</td>\n    </tr>\n    <tr>\n      <th>11</th>\n      <td>522165</td>\n      <td>-0.090267</td>\n    </tr>\n    <tr>\n      <th>4</th>\n      <td>505141</td>\n      <td>-0.135053</td>\n    </tr>\n    <tr>\n      <th>7</th>\n      <td>511736</td>\n      <td>-0.136364</td>\n    </tr>\n    <tr>\n      <th>10</th>\n      <td>520059</td>\n      <td>-0.165850</td>\n    </tr>\n    <tr>\n      <th>5</th>\n      <td>506480</td>\n      <td>-0.166265</td>\n    </tr>\n    <tr>\n      <th>2</th>\n      <td>500439</td>\n      <td>-0.170551</td>\n    </tr>\n    <tr>\n      <th>0</th>\n      <td>500292 (1)</td>\n      <td>-0.215870</td>\n    </tr>\n  </tbody>\n</table>\n</div>"
     },
     "metadata": {},
     "execution_count": 34
    }
   ],
   "source": [
    "df_6months = df.sort_values(\"Gain\", ascending=False)\n",
    "df_6months.head(10)"
   ]
  },
  {
   "cell_type": "code",
   "execution_count": 35,
   "metadata": {},
   "outputs": [],
   "source": [
    "count = 0\n",
    "df = pd.DataFrame()\n",
    "for files in glob.glob('C:\\\\Users\\\\madhu\\\\Desktop\\\\Repositories\\\\Data_Science_2019501105\\\\DADV\\\\Assignments\\\\Task_2\\\\Databases\\\\*.csv'):\n",
    "    if count == 8:\n",
    "        break\n",
    "    f=open(files, 'r')\n",
    "    name = os.path.basename(f.name).replace(\".csv\",\"\")\n",
    "    if is_file_empty(\"C:\\\\Users\\\\madhu\\\\Desktop\\\\Repositories\\\\Data_Science_2019501105\\\\DADV\\\\Assignments\\\\Task_2\\\\Databases\\\\\"+name+\".csv\"):\n",
    "        continue\n",
    "    data = pd.read_csv(f)\n",
    "    data1 = data[0:75]\n",
    "   \n",
    "    gain = (data1.at[data1.shape[0]-1, \"Close Price\"] / data1.at[0,\"Close Price\"]) - 1\n",
    "#     gain = (close[len(close)-1]/close[0])-1\n",
    "    row = {'Code': name, 'Gain': gain}\n",
    "    df = df.append(row, ignore_index=True)\n",
    "    count = count + 1\n",
    "    f.close()"
   ]
  },
  {
   "cell_type": "code",
   "execution_count": 36,
   "metadata": {},
   "outputs": [
    {
     "output_type": "execute_result",
     "data": {
      "text/plain": [
       "         Code      Gain\n",
       "4      505141  0.183612\n",
       "5      506480 -0.101928\n",
       "2      500439 -0.108068\n",
       "7      511736 -0.136364\n",
       "6      507880 -0.147888\n",
       "0  500292 (1) -0.176957\n",
       "1      500292 -0.176957\n",
       "3      500480 -0.219900"
      ],
      "text/html": "<div>\n<style scoped>\n    .dataframe tbody tr th:only-of-type {\n        vertical-align: middle;\n    }\n\n    .dataframe tbody tr th {\n        vertical-align: top;\n    }\n\n    .dataframe thead th {\n        text-align: right;\n    }\n</style>\n<table border=\"1\" class=\"dataframe\">\n  <thead>\n    <tr style=\"text-align: right;\">\n      <th></th>\n      <th>Code</th>\n      <th>Gain</th>\n    </tr>\n  </thead>\n  <tbody>\n    <tr>\n      <th>4</th>\n      <td>505141</td>\n      <td>0.183612</td>\n    </tr>\n    <tr>\n      <th>5</th>\n      <td>506480</td>\n      <td>-0.101928</td>\n    </tr>\n    <tr>\n      <th>2</th>\n      <td>500439</td>\n      <td>-0.108068</td>\n    </tr>\n    <tr>\n      <th>7</th>\n      <td>511736</td>\n      <td>-0.136364</td>\n    </tr>\n    <tr>\n      <th>6</th>\n      <td>507880</td>\n      <td>-0.147888</td>\n    </tr>\n    <tr>\n      <th>0</th>\n      <td>500292 (1)</td>\n      <td>-0.176957</td>\n    </tr>\n    <tr>\n      <th>1</th>\n      <td>500292</td>\n      <td>-0.176957</td>\n    </tr>\n    <tr>\n      <th>3</th>\n      <td>500480</td>\n      <td>-0.219900</td>\n    </tr>\n  </tbody>\n</table>\n</div>"
     },
     "metadata": {},
     "execution_count": 36
    }
   ],
   "source": [
    "df_3months = df.sort_values(\"Gain\", ascending=False)\n",
    "df_3months.head(10)"
   ]
  },
  {
   "cell_type": "code",
   "execution_count": 37,
   "metadata": {},
   "outputs": [],
   "source": [
    "count = 0\n",
    "df = pd.DataFrame()\n",
    "for files in glob.glob('C:\\\\Users\\\\madhu\\\\Desktop\\\\Repositories\\\\Data_Science_2019501105\\\\DADV\\\\Assignments\\\\Task_2\\\\Databases\\\\*.csv'):\n",
    "    if count == 10:\n",
    "        break\n",
    "    f=open(files, 'r')\n",
    "    name = os.path.basename(f.name).replace(\".csv\",\"\")\n",
    "    if is_file_empty(\"C:\\\\Users\\\\madhu\\\\Desktop\\\\Repositories\\\\Data_Science_2019501105\\\\DADV\\\\Assignments\\\\Task_2\\\\Databases\\\\\"+name+\".csv\"):\n",
    "        continue\n",
    "    data = pd.read_csv(f)\n",
    "    data1 = data[0:30]\n",
    "   \n",
    "    gain = (data1.at[data1.shape[0]-1, \"Close Price\"] / data1.at[0,\"Close Price\"]) - 1\n",
    "#     gain = (close[len(close)-1]/close[0])-1\n",
    "    row = {'Code': name, 'Gain': gain}\n",
    "    df = df.append(row, ignore_index=True)\n",
    "    count = count + 1\n",
    "    f.close()"
   ]
  },
  {
   "cell_type": "code",
   "execution_count": 38,
   "metadata": {},
   "outputs": [
    {
     "output_type": "execute_result",
     "data": {
      "text/plain": [
       "         Code      Gain\n",
       "5      506480  0.003373\n",
       "8      513117 -0.055249\n",
       "7      511736 -0.090909\n",
       "4      505141 -0.091047\n",
       "0  500292 (1) -0.123696\n",
       "1      500292 -0.123696\n",
       "6      507880 -0.124496\n",
       "2      500439 -0.146225\n",
       "3      500480 -0.169746\n",
       "9      519299 -0.669145"
      ],
      "text/html": "<div>\n<style scoped>\n    .dataframe tbody tr th:only-of-type {\n        vertical-align: middle;\n    }\n\n    .dataframe tbody tr th {\n        vertical-align: top;\n    }\n\n    .dataframe thead th {\n        text-align: right;\n    }\n</style>\n<table border=\"1\" class=\"dataframe\">\n  <thead>\n    <tr style=\"text-align: right;\">\n      <th></th>\n      <th>Code</th>\n      <th>Gain</th>\n    </tr>\n  </thead>\n  <tbody>\n    <tr>\n      <th>5</th>\n      <td>506480</td>\n      <td>0.003373</td>\n    </tr>\n    <tr>\n      <th>8</th>\n      <td>513117</td>\n      <td>-0.055249</td>\n    </tr>\n    <tr>\n      <th>7</th>\n      <td>511736</td>\n      <td>-0.090909</td>\n    </tr>\n    <tr>\n      <th>4</th>\n      <td>505141</td>\n      <td>-0.091047</td>\n    </tr>\n    <tr>\n      <th>0</th>\n      <td>500292 (1)</td>\n      <td>-0.123696</td>\n    </tr>\n    <tr>\n      <th>1</th>\n      <td>500292</td>\n      <td>-0.123696</td>\n    </tr>\n    <tr>\n      <th>6</th>\n      <td>507880</td>\n      <td>-0.124496</td>\n    </tr>\n    <tr>\n      <th>2</th>\n      <td>500439</td>\n      <td>-0.146225</td>\n    </tr>\n    <tr>\n      <th>3</th>\n      <td>500480</td>\n      <td>-0.169746</td>\n    </tr>\n    <tr>\n      <th>9</th>\n      <td>519299</td>\n      <td>-0.669145</td>\n    </tr>\n  </tbody>\n</table>\n</div>"
     },
     "metadata": {},
     "execution_count": 38
    }
   ],
   "source": [
    "df_1months = df.sort_values(\"Gain\", ascending=False)\n",
    "df_1months.head(10)"
   ]
  },
  {
   "cell_type": "code",
   "execution_count": null,
   "metadata": {},
   "outputs": [],
   "source": []
  }
 ],
 "metadata": {
  "kernelspec": {
   "name": "python392jvsc74a57bd09f732bf2f1584e2b91c869ae689782b48698a078eb0caa539c1da4908ee28e8a",
   "display_name": "Python 3.9.2 64-bit"
  },
  "language_info": {
   "codemirror_mode": {
    "name": "ipython",
    "version": 3
   },
   "file_extension": ".py",
   "mimetype": "text/x-python",
   "name": "python",
   "nbconvert_exporter": "python",
   "pygments_lexer": "ipython3",
   "version": "3.9.2"
  }
 },
 "nbformat": 4,
 "nbformat_minor": 4
}