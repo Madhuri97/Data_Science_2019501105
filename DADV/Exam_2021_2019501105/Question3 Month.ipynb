{
 "cells": [
  {
   "cell_type": "code",
   "execution_count": 1,
   "metadata": {},
   "outputs": [],
   "source": [
    "import glob\n",
    "import csv\n",
    "import os\n",
    "import pandas as pd"
   ]
  },
  {
   "cell_type": "code",
   "execution_count": 2,
   "metadata": {},
   "outputs": [],
   "source": [
    "dic = {}\n",
    "\n",
    "for files in glob.glob('C:\\\\Users\\\\M. LAKSHMI MADHURI\\\\Desktop\\\\Repositories\\\\Data_Science_2019501105\\\\DADV\\\\Exam_2021_2019501105\\\\Month\\\\*.csv'):\n",
    "    f=open(files, 'r')\n",
    "    name = os.path.basename(f.name).replace(\".csv\",\"\")\n",
    "    data = pd.read_csv(f)\n",
    "    close = data[\"gainORloss\"]\n",
    "    val = close[len(close) - 1] - close[1]\n",
    "    dic[name] = val\n",
    "    f.close()"
   ]
  },
  {
   "cell_type": "code",
   "execution_count": 3,
   "metadata": {},
   "outputs": [
    {
     "data": {
      "text/plain": [
       "52"
      ]
     },
     "execution_count": 3,
     "metadata": {},
     "output_type": "execute_result"
    }
   ],
   "source": [
    "len(dic)"
   ]
  },
  {
   "cell_type": "code",
   "execution_count": 4,
   "metadata": {},
   "outputs": [],
   "source": [
    "#sorting a dictionary\n",
    "sorteddic = {k: v for k, v in sorted(dic.items(), key=lambda item: item[1], reverse = True)}"
   ]
  },
  {
   "cell_type": "code",
   "execution_count": 5,
   "metadata": {},
   "outputs": [
    {
     "data": {
      "text/plain": [
       "{'A': nan,\n",
       " 'AAL': nan,\n",
       " 'AAP': nan,\n",
       " 'AAPL': nan,\n",
       " 'ABBV': nan,\n",
       " 'ABC': nan,\n",
       " 'ABMD': nan,\n",
       " 'ABT': nan,\n",
       " 'ACN': nan,\n",
       " 'ADBE': nan,\n",
       " 'ADI': nan,\n",
       " 'ADM': nan,\n",
       " 'AEE': nan,\n",
       " 'AEP': nan,\n",
       " 'AES': nan,\n",
       " 'AFL': nan,\n",
       " 'AIG': nan,\n",
       " 'AIZ': nan,\n",
       " 'AJG': nan,\n",
       " 'AKAM': nan,\n",
       " 'ALB': nan,\n",
       " 'ALGN': nan,\n",
       " 'ALK': nan,\n",
       " 'ALL': nan}"
      ]
     },
     "execution_count": 5,
     "metadata": {},
     "output_type": "execute_result"
    }
   ],
   "source": [
    "k = 1\n",
    "topdict = {}\n",
    "for each in sorteddic.keys():\n",
    "    topdict[each] = sorteddic.get(each)\n",
    "    k = k+1\n",
    "    if(k == 25):\n",
    "        break\n",
    "        \n",
    "topdict"
   ]
  },
  {
   "cell_type": "code",
   "execution_count": 6,
   "metadata": {},
   "outputs": [],
   "source": [
    "sorteddicrev = {k: v for k, v in sorted(dic.items(), key=lambda item: item[1])}"
   ]
  },
  {
   "cell_type": "code",
   "execution_count": 7,
   "metadata": {},
   "outputs": [
    {
     "data": {
      "text/plain": [
       "{'A': nan,\n",
       " 'AAL': nan,\n",
       " 'AAP': nan,\n",
       " 'AAPL': nan,\n",
       " 'ABBV': nan,\n",
       " 'ABC': nan,\n",
       " 'ABMD': nan,\n",
       " 'ABT': nan,\n",
       " 'ACN': nan,\n",
       " 'ADBE': nan,\n",
       " 'ADI': nan,\n",
       " 'ADM': nan,\n",
       " 'AEE': nan,\n",
       " 'AEP': nan,\n",
       " 'AES': nan,\n",
       " 'AFL': nan,\n",
       " 'AIG': nan,\n",
       " 'AIZ': nan,\n",
       " 'AJG': nan,\n",
       " 'AKAM': nan,\n",
       " 'ALB': nan,\n",
       " 'ALGN': nan,\n",
       " 'ALK': nan,\n",
       " 'ALL': nan}"
      ]
     },
     "execution_count": 7,
     "metadata": {},
     "output_type": "execute_result"
    }
   ],
   "source": [
    "k = 1\n",
    "bottomdict = {}\n",
    "for each in sorteddicrev.keys():\n",
    "    bottomdict[each] = sorteddicrev.get(each)\n",
    "    k = k+1\n",
    "    if(k == 25):\n",
    "        break\n",
    "        \n",
    "bottomdict"
   ]
  },
  {
   "cell_type": "code",
   "execution_count": 9,
   "metadata": {},
   "outputs": [
    {
     "data": {
      "text/plain": [
       "576"
      ]
     },
     "execution_count": 9,
     "metadata": {},
     "output_type": "execute_result"
    }
   ],
   "source": [
    "import warnings\n",
    "warnings.filterwarnings('ignore')\n",
    "import numpy as np\n",
    "import math\n",
    "from scipy import interpolate\n",
    "corrlis = []\n",
    "for each1 in topdict.keys():\n",
    "    for each2 in topdict.keys():\n",
    "        corr_value = np.corrcoef(topdict.get(each1), topdict.get(each2))[0][1]\n",
    "        corrlis.append(corr_value)\n",
    "        \n",
    "len(corrlis)"
   ]
  },
  {
   "cell_type": "code",
   "execution_count": null,
   "metadata": {},
   "outputs": [],
   "source": []
  }
 ],
 "metadata": {
  "kernelspec": {
   "display_name": "Python 3",
   "language": "python",
   "name": "python3"
  },
  "language_info": {
   "codemirror_mode": {
    "name": "ipython",
    "version": 3
   },
   "file_extension": ".py",
   "mimetype": "text/x-python",
   "name": "python",
   "nbconvert_exporter": "python",
   "pygments_lexer": "ipython3",
   "version": "3.8.3"
  }
 },
 "nbformat": 4,
 "nbformat_minor": 4
}
