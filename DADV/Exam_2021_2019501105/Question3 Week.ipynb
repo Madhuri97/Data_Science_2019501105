{
 "cells": [
  {
   "cell_type": "code",
   "execution_count": 1,
   "metadata": {},
   "outputs": [],
   "source": [
    "import glob\n",
    "import csv\n",
    "import os\n",
    "import pandas as pd"
   ]
  },
  {
   "cell_type": "code",
   "execution_count": 2,
   "metadata": {},
   "outputs": [],
   "source": [
    "dic = {}\n",
    "\n",
    "for files in glob.glob('C:\\\\Users\\\\M. LAKSHMI MADHURI\\\\Desktop\\\\Repositories\\\\Data_Science_2019501105\\\\DADV\\\\Exam_2021_2019501105\\\\Week\\\\*.csv'):\n",
    "    f=open(files, 'r')\n",
    "    name = os.path.basename(f.name).replace(\".csv\",\"\")\n",
    "    data = pd.read_csv(f)\n",
    "    close = data[\"gainORloss\"]\n",
    "    val = close[len(close) - 1] - close[1]\n",
    "    dic[name] = val\n",
    "    f.close()"
   ]
  },
  {
   "cell_type": "code",
   "execution_count": 3,
   "metadata": {},
   "outputs": [
    {
     "data": {
      "text/plain": [
       "58"
      ]
     },
     "execution_count": 3,
     "metadata": {},
     "output_type": "execute_result"
    }
   ],
   "source": [
    "len(dic)"
   ]
  },
  {
   "cell_type": "code",
   "execution_count": 4,
   "metadata": {},
   "outputs": [],
   "source": [
    "#sorting a dictionary\n",
    "sorteddic = {k: v for k, v in sorted(dic.items(), key=lambda item: item[1], reverse = True)}"
   ]
  },
  {
   "cell_type": "code",
   "execution_count": 5,
   "metadata": {},
   "outputs": [
    {
     "data": {
      "text/plain": [
       "{'AXP': 0.07699178413541241,\n",
       " 'AMZN': 0.06330643842713513,\n",
       " 'ANET': 0.06311144208198183,\n",
       " 'ANSS': 0.04151912957332482,\n",
       " 'GOOG': 0.04071907861247759,\n",
       " 'GOOGL': 0.038317221502552457,\n",
       " 'ABC': 0.033937942563549095,\n",
       " 'AWK': 0.033584284297460965,\n",
       " 'AIG': 0.03319502074688807,\n",
       " 'ABMD': 0.030007919096159297,\n",
       " 'AES': 0.024096385542168308,\n",
       " 'ALB': 0.023017902813299296,\n",
       " 'AOS': 0.022674981890990376,\n",
       " 'ALK': 0.02202168560975193,\n",
       " 'AJG': 0.021723652683669492,\n",
       " 'AVY': 0.021657953090236326,\n",
       " 'AIZ': 0.02034045518293759,\n",
       " 'APA': 0.020024173220165142,\n",
       " 'APD': 0.019847253988157565,\n",
       " 'ALL': 0.01983518502360271,\n",
       " 'AAL': 0.019452758004548043,\n",
       " 'ANTM': 0.017914817864361554,\n",
       " 'AEP': 0.016359962260589667,\n",
       " 'AFL': 0.015901016252230837}"
      ]
     },
     "execution_count": 5,
     "metadata": {},
     "output_type": "execute_result"
    }
   ],
   "source": [
    "k = 1\n",
    "topdict = {}\n",
    "for each in sorteddic.keys():\n",
    "    topdict[each] = sorteddic.get(each)\n",
    "    k = k+1\n",
    "    if(k == 25):\n",
    "        break\n",
    "        \n",
    "topdict"
   ]
  },
  {
   "cell_type": "code",
   "execution_count": 6,
   "metadata": {},
   "outputs": [],
   "source": [
    "sorteddicrev = {k: v for k, v in sorted(dic.items(), key=lambda item: item[1])}"
   ]
  },
  {
   "cell_type": "code",
   "execution_count": 7,
   "metadata": {},
   "outputs": [
    {
     "data": {
      "text/plain": [
       "{'MO': -0.11742095055041091,\n",
       " 'AMAT': -0.0974750440399288,\n",
       " 'ALGN': -0.05929491069306536,\n",
       " 'AAPL': -0.05436879073135392,\n",
       " 'AVB': -0.03518371465107606,\n",
       " 'ADI': -0.033645242120204255,\n",
       " 'ALXN': -0.03340135492114804,\n",
       " 'AAP': -0.027467221906954276,\n",
       " 'AZO': -0.018444531253352547,\n",
       " 'AMT': -0.016688618675472888,\n",
       " 'T': -0.013556418434174766,\n",
       " 'ARE': -0.006183017159529847,\n",
       " 'APH': -0.004694308234882261,\n",
       " 'AKAM': -0.0018232397549833301,\n",
       " 'AMGN': 0.0004663208261403984,\n",
       " 'ALLE': 0.002241911504424765,\n",
       " 'A': 0.005033367652107934,\n",
       " 'ADBE': 0.005238887292690508,\n",
       " 'AMD': 0.006006006006006093,\n",
       " 'ATVI': 0.006334931840048075,\n",
       " 'ADM': 0.006593384615384501,\n",
       " 'ADSK': 0.007072011901668507,\n",
       " 'ABBV': 0.00831529175626966,\n",
       " 'AMCR': 0.00921658986175089}"
      ]
     },
     "execution_count": 7,
     "metadata": {},
     "output_type": "execute_result"
    }
   ],
   "source": [
    "k = 1\n",
    "bottomdict = {}\n",
    "for each in sorteddicrev.keys():\n",
    "    bottomdict[each] = sorteddicrev.get(each)\n",
    "    k = k+1\n",
    "    if(k == 25):\n",
    "        break\n",
    "        \n",
    "bottomdict"
   ]
  },
  {
   "cell_type": "code",
   "execution_count": 8,
   "metadata": {},
   "outputs": [
    {
     "data": {
      "text/plain": [
       "576"
      ]
     },
     "execution_count": 8,
     "metadata": {},
     "output_type": "execute_result"
    }
   ],
   "source": [
    "import warnings\n",
    "warnings.filterwarnings('ignore')\n",
    "import numpy as np\n",
    "import math\n",
    "from scipy import interpolate\n",
    "corrlis = []\n",
    "for each1 in topdict.keys():\n",
    "    for each2 in topdict.keys():\n",
    "        corr_value = np.corrcoef(topdict.get(each1), topdict.get(each2))[0][1]\n",
    "        corrlis.append(corr_value)\n",
    "        \n",
    "len(corrlis)"
   ]
  },
  {
   "cell_type": "code",
   "execution_count": null,
   "metadata": {},
   "outputs": [],
   "source": []
  }
 ],
 "metadata": {
  "kernelspec": {
   "display_name": "Python 3",
   "language": "python",
   "name": "python3"
  },
  "language_info": {
   "codemirror_mode": {
    "name": "ipython",
    "version": 3
   },
   "file_extension": ".py",
   "mimetype": "text/x-python",
   "name": "python",
   "nbconvert_exporter": "python",
   "pygments_lexer": "ipython3",
   "version": "3.8.3"
  }
 },
 "nbformat": 4,
 "nbformat_minor": 4
}
