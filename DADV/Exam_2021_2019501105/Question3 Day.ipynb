{
 "cells": [
  {
   "cell_type": "code",
   "execution_count": 1,
   "metadata": {},
   "outputs": [],
   "source": [
    "import glob\n",
    "import csv\n",
    "import os\n",
    "import pandas as pd"
   ]
  },
  {
   "cell_type": "code",
   "execution_count": 2,
   "metadata": {},
   "outputs": [],
   "source": [
    "dic = {}\n",
    "\n",
    "for files in glob.glob('C:\\\\Users\\\\M. LAKSHMI MADHURI\\\\Desktop\\\\Repositories\\\\Data_Science_2019501105\\\\DADV\\\\Exam_2021_2019501105\\\\Day\\\\*.csv'):\n",
    "    f=open(files, 'r')\n",
    "    name = os.path.basename(f.name).replace(\".csv\",\"\")\n",
    "    data = pd.read_csv(f)\n",
    "    close = data[\"gainORloss\"]\n",
    "    val = close[len(close) - 1] - close[1]\n",
    "    dic[name] = val\n",
    "    f.close()"
   ]
  },
  {
   "cell_type": "code",
   "execution_count": 3,
   "metadata": {},
   "outputs": [
    {
     "data": {
      "text/plain": [
       "42"
      ]
     },
     "execution_count": 3,
     "metadata": {},
     "output_type": "execute_result"
    }
   ],
   "source": [
    "len(dic)"
   ]
  },
  {
   "cell_type": "code",
   "execution_count": 4,
   "metadata": {},
   "outputs": [],
   "source": [
    "#sorting a dictionary\n",
    "sorteddic = {k: v for k, v in sorted(dic.items(), key=lambda item: item[1], reverse = True)}"
   ]
  },
  {
   "cell_type": "code",
   "execution_count": 5,
   "metadata": {},
   "outputs": [
    {
     "data": {
      "text/plain": [
       "{'AMD': 0.05141448530374104,\n",
       " 'ABMD': 0.03963188966588915,\n",
       " 'AMZN': 0.029865232542885423,\n",
       " 'ALXN': 0.024878667236904795,\n",
       " 'AKAM': 0.024765483959044765,\n",
       " 'ALB': 0.02402040344121459,\n",
       " 'ANSS': 0.01853821537496958,\n",
       " 'ADBE': 0.018533408153382558,\n",
       " 'ALK': 0.0179760181766917,\n",
       " 'AAP': 0.016914576836309037,\n",
       " 'ALGN': 0.01683477118372756,\n",
       " 'AMCR': 0.016055798146647593,\n",
       " 'ABBV': 0.015994297536426005,\n",
       " 'ABC': 0.015661033063586682,\n",
       " 'MMM': 0.01532801514452431,\n",
       " 'APH': 0.013855780150666241,\n",
       " 'A': 0.012475183234431642,\n",
       " 'ADI': 0.01216699040473479,\n",
       " 'APD': 0.010379106356937617,\n",
       " 'MO': 0.00876292957164071,\n",
       " 'GOOG': 0.008638192461976058,\n",
       " 'AMGN': 0.008313157800810211,\n",
       " 'AFL': 0.007456713909174573,\n",
       " 'GOOGL': 0.006480486104971872}"
      ]
     },
     "execution_count": 5,
     "metadata": {},
     "output_type": "execute_result"
    }
   ],
   "source": [
    "k = 1\n",
    "topdict = {}\n",
    "for each in sorteddic.keys():\n",
    "    topdict[each] = sorteddic.get(each)\n",
    "    k = k+1\n",
    "    if(k == 25):\n",
    "        break\n",
    "        \n",
    "topdict"
   ]
  },
  {
   "cell_type": "code",
   "execution_count": 6,
   "metadata": {},
   "outputs": [],
   "source": [
    "sorteddicrev = {k: v for k, v in sorted(dic.items(), key=lambda item: item[1])}"
   ]
  },
  {
   "cell_type": "code",
   "execution_count": 7,
   "metadata": {},
   "outputs": [
    {
     "data": {
      "text/plain": [
       "{'AMT': -0.06049500999319379,\n",
       " 'AEP': -0.033512546968739176,\n",
       " 'AEE': -0.027486675500526303,\n",
       " 'AES': -0.027138692764468786,\n",
       " 'AAL': -0.025629721700269226,\n",
       " 'AWK': -0.022661649305926623,\n",
       " 'LNT': -0.022304710141530792,\n",
       " 'ARE': -0.01460448911808343,\n",
       " 'AON': -0.013378768121651508,\n",
       " 'ANTM': -0.012678833841386794,\n",
       " 'AIG': -0.00486984894162279,\n",
       " 'ALLE': -0.004277453249310836,\n",
       " 'AXP': -0.00299321956671883,\n",
       " 'ATVI': -0.0024031273647120432,\n",
       " 'ALL': -0.0023946992205923223,\n",
       " 'AMP': 0.0048329164690104065,\n",
       " 'ABT': 0.005966392983412838,\n",
       " 'AME': 0.0063860441801992796,\n",
       " 'GOOGL': 0.006480486104971872,\n",
       " 'AFL': 0.007456713909174573,\n",
       " 'AMGN': 0.008313157800810211,\n",
       " 'GOOG': 0.008638192461976058,\n",
       " 'MO': 0.00876292957164071,\n",
       " 'APD': 0.010379106356937617}"
      ]
     },
     "execution_count": 7,
     "metadata": {},
     "output_type": "execute_result"
    }
   ],
   "source": [
    "k = 1\n",
    "bottomdict = {}\n",
    "for each in sorteddicrev.keys():\n",
    "    bottomdict[each] = sorteddicrev.get(each)\n",
    "    k = k+1\n",
    "    if(k == 25):\n",
    "        break\n",
    "        \n",
    "bottomdict"
   ]
  },
  {
   "cell_type": "code",
   "execution_count": 9,
   "metadata": {},
   "outputs": [
    {
     "data": {
      "text/plain": [
       "576"
      ]
     },
     "execution_count": 9,
     "metadata": {},
     "output_type": "execute_result"
    }
   ],
   "source": [
    "import warnings\n",
    "warnings.filterwarnings('ignore')\n",
    "import numpy as np\n",
    "import math\n",
    "from scipy import interpolate\n",
    "corrlis = []\n",
    "for each1 in topdict.keys():\n",
    "    for each2 in topdict.keys():\n",
    "        corr_value = np.corrcoef(topdict.get(each1), topdict.get(each2))[0][1]\n",
    "        corrlis.append(corr_value)\n",
    "        \n",
    "len(corrlis)"
   ]
  },
  {
   "cell_type": "code",
   "execution_count": null,
   "metadata": {},
   "outputs": [],
   "source": []
  }
 ],
 "metadata": {
  "kernelspec": {
   "display_name": "Python 3",
   "language": "python",
   "name": "python3"
  },
  "language_info": {
   "codemirror_mode": {
    "name": "ipython",
    "version": 3
   },
   "file_extension": ".py",
   "mimetype": "text/x-python",
   "name": "python",
   "nbconvert_exporter": "python",
   "pygments_lexer": "ipython3",
   "version": "3.8.3"
  }
 },
 "nbformat": 4,
 "nbformat_minor": 4
}
