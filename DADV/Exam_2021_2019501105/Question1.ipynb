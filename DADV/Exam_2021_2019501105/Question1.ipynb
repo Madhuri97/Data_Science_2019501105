{
 "cells": [
  {
   "cell_type": "code",
   "execution_count": null,
   "metadata": {},
   "outputs": [],
   "source": [
    "from selenium import webdriver\n",
    "import time\n",
    "from selenium.webdriver.common.keys import Keys\n",
    "from selenium.webdriver.support.ui import Select\n",
    "import datetime"
   ]
  },
  {
   "cell_type": "code",
   "execution_count": null,
   "metadata": {},
   "outputs": [],
   "source": [
    "chromeOptions = webdriver.ChromeOptions()\n",
    "preferences = {\"download.default_directory\" : \"C:\\\\Users\\\\M. LAKSHMI MADHURI\\\\Desktop\\\\Repositories\\\\Data_Science_2019501105\\\\DADV\\\\Exam_2021_2019501105\\\\Day\"}\n",
    "chromeOptions.add_experimental_option(\"prefs\", preferences)\n",
    "chromedriver = \"C:\\\\Users\\\\M. LAKSHMI MADHURI\\\\Desktop\\Repositories\\\\Data_Science_2019501105\\\\DADV\\\\chromedriver.exe\"\n",
    "browser = webdriver.Chrome(executable_path=chromedriver, options=chromeOptions)\n",
    "browser.maximize_window()\n",
    "\n",
    "url = \"https://en.wikipedia.org/wiki/List_of_S%26P_500_companies\"\n",
    "browser.get(url)\n",
    "time.sleep(2)\n",
    "\n",
    "Companies_list = []\n",
    "for i in range(1, 500):\n",
    "    p = browser.find_element_by_xpath('//*[@id=\"constituents\"]/tbody/tr['+str(i)+']/td[1]/a')\n",
    "    Companies_list.append(p.text)\n",
    "\n",
    "time.sleep(4)"
   ]
  },
  {
   "cell_type": "code",
   "execution_count": null,
   "metadata": {},
   "outputs": [],
   "source": [
    "#Time Conversion\n",
    "Start_date = datetime.datetime(2018, 4, 8)\n",
    "End_date = datetime.datetime(2021, 1, 2)\n",
    "from_date = int(time.mktime(Start_date.timetuple()))\n",
    "to_date = int(time.mktime(End_date.timetuple()))\n",
    "# print(from_date)\n",
    "# print(to_date)\n",
    "\n",
    "for each in Companies_list:\n",
    "    browser.get(\"https://finance.yahoo.com/quote/\"+each+\"/history?period1=\"+str(from_date)+\"&period2=\"+str(to_date)+\"&interval=1d&filter=history&frequency=1d\")\n",
    "    browser.find_element_by_xpath('//*[@id=\"Col1-1-HistoricalDataTable-Proxy\"]/section/div[1]/div[2]/span[2]/a/span').click()\n",
    "    time.sleep(3)"
   ]
  },
  {
   "cell_type": "code",
   "execution_count": null,
   "metadata": {},
   "outputs": [],
   "source": [
    "chromeOptions = webdriver.ChromeOptions()\n",
    "preferences2 = {\"download.default_directory\" : \"C:\\\\Users\\\\M. LAKSHMI MADHURI\\\\Desktop\\\\Repositories\\\\Data_Science_2019501105\\\\DADV\\\\Exam_2021_2019501105\\\\Week\"}\n",
    "chromeOptions.add_experimental_option(\"prefs\", preferences2)\n",
    "chromedriver2 = \"C:\\\\Users\\\\M. LAKSHMI MADHURI\\\\Desktop\\Repositories\\\\Data_Science_2019501105\\\\DADV\\\\chromedriver.exe\"\n",
    "browser = webdriver.Chrome(executable_path=chromedriver2, options = chromeOptions)\n",
    "\n",
    "for each in Companies_list:\n",
    "    browser.get(\"https://finance.yahoo.com/quote/\"+each+\"/history?period1=\"+str(from_date)+\"&period2=\"+str(to_date)+\"&interval=1d&filter=history&frequency=1wk\")\n",
    "    browser.find_element_by_xpath('//*[@id=\"Col1-1-HistoricalDataTable-Proxy\"]/section/div[1]/div[2]/span[2]/a/span').click()\n",
    "    time.sleep(3)"
   ]
  },
  {
   "cell_type": "code",
   "execution_count": null,
   "metadata": {},
   "outputs": [],
   "source": [
    "chromeOptions = webdriver.ChromeOptions()\n",
    "preferences3 = {\"download.default_directory\" : \"C:\\\\Users\\\\M. LAKSHMI MADHURI\\\\Desktop\\\\Repositories\\\\Data_Science_2019501105\\\\DADV\\\\Exam_2021_2019501105\\\\Month\"}\n",
    "chromeOptions.add_experimental_option(\"prefs\", preferences3)\n",
    "chromedriver3 = \"C:\\\\Users\\\\M. LAKSHMI MADHURI\\\\Desktop\\Repositories\\\\Data_Science_2019501105\\\\DADV\\\\chromedriver.exe\"\n",
    "browser = webdriver.Chrome(executable_path=chromedriver3, options = chromeOptions)\n",
    "\n",
    "for each in Companies_list:\n",
    "    browser.get(\"https://finance.yahoo.com/quote/\"+each+\"/history?period1=\"+str(from_date)+\"&period2=\"+str(to_date)+\"&interval=1d&filter=history&frequency=1mo\")\n",
    "    browser.find_element_by_xpath('//*[@id=\"Col1-1-HistoricalDataTable-Proxy\"]/section/div[1]/div[2]/span[2]/a/span').click()\n",
    "    time.sleep(3)"
   ]
  },
  {
   "cell_type": "code",
   "execution_count": null,
   "metadata": {},
   "outputs": [],
   "source": []
  }
 ],
 "metadata": {
  "kernelspec": {
   "display_name": "Python 3",
   "language": "python",
   "name": "python3"
  },
  "language_info": {
   "codemirror_mode": {
    "name": "ipython",
    "version": 3
   },
   "file_extension": ".py",
   "mimetype": "text/x-python",
   "name": "python",
   "nbconvert_exporter": "python",
   "pygments_lexer": "ipython3",
   "version": "3.8.3"
  }
 },
 "nbformat": 4,
 "nbformat_minor": 4
}
